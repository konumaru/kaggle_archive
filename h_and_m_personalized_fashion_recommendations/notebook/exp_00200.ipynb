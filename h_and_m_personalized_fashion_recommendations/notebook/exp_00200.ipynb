{
 "cells": [
  {
   "cell_type": "code",
   "execution_count": 4,
   "id": "afad3e08-84a3-44f7-b09c-864fa97ee753",
   "metadata": {},
   "outputs": [
    {
     "data": {
      "text/html": [
       "<style type='text/css'>\n",
       ".datatable table.frame { margin-bottom: 0; }\n",
       ".datatable table.frame thead { border-bottom: none; }\n",
       ".datatable table.frame tr.coltypes td {  color: #FFFFFF;  line-height: 6px;  padding: 0 0.5em;}\n",
       ".datatable .bool    { background: #DDDD99; }\n",
       ".datatable .object  { background: #565656; }\n",
       ".datatable .int     { background: #5D9E5D; }\n",
       ".datatable .float   { background: #4040CC; }\n",
       ".datatable .str     { background: #CC4040; }\n",
       ".datatable .time    { background: #40CC40; }\n",
       ".datatable .row_index {  background: var(--jp-border-color3);  border-right: 1px solid var(--jp-border-color0);  color: var(--jp-ui-font-color3);  font-size: 9px;}\n",
       ".datatable .frame tbody td { text-align: left; }\n",
       ".datatable .frame tr.coltypes .row_index {  background: var(--jp-border-color0);}\n",
       ".datatable th:nth-child(2) { padding-left: 12px; }\n",
       ".datatable .hellipsis {  color: var(--jp-cell-editor-border-color);}\n",
       ".datatable .vellipsis {  background: var(--jp-layout-color0);  color: var(--jp-cell-editor-border-color);}\n",
       ".datatable .na {  color: var(--jp-cell-editor-border-color);  font-size: 80%;}\n",
       ".datatable .sp {  opacity: 0.25;}\n",
       ".datatable .footer { font-size: 9px; }\n",
       ".datatable .frame_dimensions {  background: var(--jp-border-color3);  border-top: 1px solid var(--jp-border-color0);  color: var(--jp-ui-font-color3);  display: inline-block;  opacity: 0.6;  padding: 1px 10px 1px 5px;}\n",
       "</style>\n"
      ],
      "text/plain": [
       "<IPython.core.display.HTML object>"
      ]
     },
     "metadata": {},
     "output_type": "display_data"
    }
   ],
   "source": [
    "import numpy as np\n",
    "import pandas as pd\n",
    "from tqdm.notebook import tqdm\n",
    "from joblib import Parallel, delayed\n",
    "from datetime import timedelta, datetime\n",
    "\n",
    "import matplotlib.pyplot as plt\n",
    "plt.style.use(\"seaborn-darkgrid\")\n",
    "\n",
    "from lightgbm.sklearn import LGBMRanker\n",
    "\n",
    "from typing import List"
   ]
  },
  {
   "cell_type": "code",
   "execution_count": 5,
   "id": "a2ca7ecf-b1fc-43a8-ac55-5f9d68bc84e2",
   "metadata": {},
   "outputs": [],
   "source": [
    "data = pd.read_parquet(\"../data/working/transactions_train.parquet\")\n",
    "data[\"t_dat\"] = pd.to_datetime(data[\"t_dat\"])"
   ]
  },
  {
   "cell_type": "code",
   "execution_count": 6,
   "id": "a7f4a4bc-96a3-4ffe-91ce-56a083b5e543",
   "metadata": {},
   "outputs": [
    {
     "data": {
      "text/html": [
       "<div>\n",
       "<style scoped>\n",
       "    .dataframe tbody tr th:only-of-type {\n",
       "        vertical-align: middle;\n",
       "    }\n",
       "\n",
       "    .dataframe tbody tr th {\n",
       "        vertical-align: top;\n",
       "    }\n",
       "\n",
       "    .dataframe thead th {\n",
       "        text-align: right;\n",
       "    }\n",
       "</style>\n",
       "<table border=\"1\" class=\"dataframe\">\n",
       "  <thead>\n",
       "    <tr style=\"text-align: right;\">\n",
       "      <th></th>\n",
       "      <th>t_dat</th>\n",
       "      <th>customer_id</th>\n",
       "      <th>article_id</th>\n",
       "      <th>price</th>\n",
       "      <th>sales_channel_id</th>\n",
       "    </tr>\n",
       "  </thead>\n",
       "  <tbody>\n",
       "    <tr>\n",
       "      <th>0</th>\n",
       "      <td>2018-09-20</td>\n",
       "      <td>000058a12d5b43e67d225668fa1f8d618c13dc232df0ca...</td>\n",
       "      <td>663713001</td>\n",
       "      <td>0.050831</td>\n",
       "      <td>2</td>\n",
       "    </tr>\n",
       "    <tr>\n",
       "      <th>1</th>\n",
       "      <td>2018-09-20</td>\n",
       "      <td>000058a12d5b43e67d225668fa1f8d618c13dc232df0ca...</td>\n",
       "      <td>541518023</td>\n",
       "      <td>0.030492</td>\n",
       "      <td>2</td>\n",
       "    </tr>\n",
       "    <tr>\n",
       "      <th>2</th>\n",
       "      <td>2018-09-20</td>\n",
       "      <td>00007d2de826758b65a93dd24ce629ed66842531df6699...</td>\n",
       "      <td>505221004</td>\n",
       "      <td>0.015237</td>\n",
       "      <td>2</td>\n",
       "    </tr>\n",
       "    <tr>\n",
       "      <th>3</th>\n",
       "      <td>2018-09-20</td>\n",
       "      <td>00007d2de826758b65a93dd24ce629ed66842531df6699...</td>\n",
       "      <td>685687003</td>\n",
       "      <td>0.016932</td>\n",
       "      <td>2</td>\n",
       "    </tr>\n",
       "    <tr>\n",
       "      <th>4</th>\n",
       "      <td>2018-09-20</td>\n",
       "      <td>00007d2de826758b65a93dd24ce629ed66842531df6699...</td>\n",
       "      <td>685687004</td>\n",
       "      <td>0.016932</td>\n",
       "      <td>2</td>\n",
       "    </tr>\n",
       "  </tbody>\n",
       "</table>\n",
       "</div>"
      ],
      "text/plain": [
       "       t_dat                                        customer_id  article_id  \\\n",
       "0 2018-09-20  000058a12d5b43e67d225668fa1f8d618c13dc232df0ca...   663713001   \n",
       "1 2018-09-20  000058a12d5b43e67d225668fa1f8d618c13dc232df0ca...   541518023   \n",
       "2 2018-09-20  00007d2de826758b65a93dd24ce629ed66842531df6699...   505221004   \n",
       "3 2018-09-20  00007d2de826758b65a93dd24ce629ed66842531df6699...   685687003   \n",
       "4 2018-09-20  00007d2de826758b65a93dd24ce629ed66842531df6699...   685687004   \n",
       "\n",
       "      price  sales_channel_id  \n",
       "0  0.050831                 2  \n",
       "1  0.030492                 2  \n",
       "2  0.015237                 2  \n",
       "3  0.016932                 2  \n",
       "4  0.016932                 2  "
      ]
     },
     "execution_count": 6,
     "metadata": {},
     "output_type": "execute_result"
    }
   ],
   "source": [
    "data.head()"
   ]
  },
  {
   "cell_type": "code",
   "execution_count": 7,
   "id": "49006b06-2991-49fd-a2ed-08c65c378010",
   "metadata": {},
   "outputs": [
    {
     "data": {
      "text/plain": [
       "Timestamp('2020-09-22 00:00:00')"
      ]
     },
     "execution_count": 7,
     "metadata": {},
     "output_type": "execute_result"
    }
   ],
   "source": [
    "data.t_dat.max()"
   ]
  },
  {
   "cell_type": "markdown",
   "id": "d6194b1b-8f96-4ead-8265-832cef3a3278",
   "metadata": {},
   "source": [
    "## Split data"
   ]
  },
  {
   "cell_type": "code",
   "execution_count": 59,
   "id": "f2a74d83-c6c3-45fa-bc5e-49ee753e0f20",
   "metadata": {},
   "outputs": [],
   "source": [
    "def print_data_days(data):\n",
    "    start_date = data.t_dat.iloc[0]\n",
    "    end_date = data.t_dat.iloc[-1]\n",
    "    diff_days = (end_date - start_date).days + 1\n",
    "    \n",
    "    start_date = start_date.strftime(\"%Y-%m-%d\")\n",
    "    end_date = end_date.strftime(\"%Y-%m-%d\")\n",
    "    \n",
    "    log = f\"start_date={start_date} end_date={end_date} diff={diff_days}days\"\n",
    "    print(log)\n",
    "\n",
    "def split_target(df: pd.DataFrame):\n",
    "    max_t_dat = df[\"t_dat\"].max()\n",
    "    label_end_t_dat = max_t_dat - timedelta(days=7)\n",
    "\n",
    "    X, y = df.query(\"t_dat<@label_end_t_dat\"), df.query(\"t_dat>=@label_end_t_dat\")\n",
    "    return X, y\n",
    "    \n",
    "def split_data(data: pd.DataFrame, test_base_date: str, train_days: int = 7):\n",
    "    label_days = 7\n",
    "    \n",
    "    test_base_date = datetime.strptime(test_base_date, '%Y-%m-%d')\n",
    "    train_base_date = test_base_date - timedelta(days=label_days)\n",
    "    \n",
    "    test_end_date = test_base_date + timedelta(days=label_days)\n",
    "    test_start_date = test_base_date - timedelta(days=train_days)\n",
    "    \n",
    "    train_end_date = train_base_date + timedelta(days=label_days)\n",
    "    train_start_date = train_base_date - timedelta(days=train_days)\n",
    "    \n",
    "    test = data[(data[\"t_dat\"] <= test_end_date) & (data[\"t_dat\"] >= test_start_date)]\n",
    "    train = data[(data[\"t_dat\"] <= train_end_date) & (data[\"t_dat\"] >= train_start_date)]\n",
    "    \n",
    "    X_train, y_train = split_target(train)\n",
    "    X_test, y_test = split_target(test)\n",
    "    \n",
    "    print_data_days(X_train)\n",
    "    print_data_days(y_train)\n",
    "    \n",
    "    print_data_days(X_test)\n",
    "    print_data_days(y_test)\n",
    "    \n",
    "    y_train = y_train[[\"customer_id\", \"article_id\"]]\n",
    "    y_test = y_test[[\"customer_id\", \"article_id\"]]\n",
    "    \n",
    "    return X_train, y_train, X_test, y_test"
   ]
  },
  {
   "cell_type": "code",
   "execution_count": 60,
   "id": "4616ff75-91c5-4cb5-ac2f-b5851a7149a4",
   "metadata": {},
   "outputs": [
    {
     "name": "stdout",
     "output_type": "stream",
     "text": [
      "start_date=2020-08-26 end_date=2020-09-07 diff=13days\n",
      "start_date=2020-09-08 end_date=2020-09-15 diff=8days\n",
      "start_date=2020-08-26 end_date=2020-09-14 diff=20days\n",
      "start_date=2020-09-15 end_date=2020-09-22 diff=8days\n"
     ]
    }
   ],
   "source": [
    "X_train, y_train, X_test, y_test = split_data(data, \"2020-09-15\", 28)"
   ]
  },
  {
   "cell_type": "markdown",
   "id": "d3de8bd5-8acc-4955-b637-330b8207631b",
   "metadata": {},
   "source": [
    "- ありもののデータを使う前提だと、y_xxxx だけで事足りそう\n",
    "- 時系列の特徴量を使いたい場合は X_xxxx が必要"
   ]
  },
  {
   "cell_type": "markdown",
   "id": "8f5e1148-a395-459e-991a-43303a38febd",
   "metadata": {},
   "source": [
    "## Generate label data"
   ]
  },
  {
   "cell_type": "code",
   "execution_count": 10,
   "id": "d40180eb-89ff-49fc-bbb2-3ef36c238823",
   "metadata": {},
   "outputs": [],
   "source": [
    "active_article_id = pd.concat([X_train[\"article_id\"], y_train[\"article_id\"]], axis=0).value_counts().index.to_numpy()\n",
    "popular_article_id = active_article_id[:500]"
   ]
  },
  {
   "cell_type": "code",
   "execution_count": 11,
   "id": "5bf43962-550e-4659-8de9-2245c502ab1f",
   "metadata": {},
   "outputs": [],
   "source": [
    "def gen_neg_data(c_id: str, c_data: pd.DataFrame):\n",
    "    num_row = len(c_data)\n",
    "    num_sample = num_row // 2\n",
    "\n",
    "    c_data_article_id = c_data[\"article_id\"].to_numpy().astype(np.int64)\n",
    "    \n",
    "    neg_random_article_id = np.random.choice(np.setdiff1d(active_article_id, c_data_article_id), 100)\n",
    "    neg_popular_article_id = np.random.choice(np.setdiff1d(popular_article_id, c_data_article_id), num_sample)\n",
    "\n",
    "    neg_article_id = np.union1d(neg_popular_article_id, neg_random_article_id)\n",
    "    neg_data = np.array([np.repeat([c_id], repeats=len(neg_article_id)), neg_article_id])\n",
    "    return neg_data\n",
    "\n",
    "\n",
    "def gen_all_neg_data(data: pd.DataFrame):\n",
    "    all_neg_data = Parallel(n_jobs=-1)(delayed(gen_neg_data)(c_id, gdf) for c_id, gdf in tqdm(data.groupby(\"customer_id\")))\n",
    "    neg_data = pd.DataFrame(np.concatenate(all_neg_data, axis=1).T, columns=[\"customer_id\", \"article_id\"])\n",
    "    neg_data = neg_data.assign(label=0)\n",
    "    return neg_data\n",
    "\n",
    "\n",
    "def gen_y_with_negative(y: pd.DataFrame):\n",
    "    y = y[[\"customer_id\", \"article_id\"]].copy()\n",
    "    y = y.assign(label=1)\n",
    "    \n",
    "    y_neg = gen_all_neg_data(y)\n",
    "    y_w_neg = pd.concat([y, y_neg], axis=0).reset_index(drop=True)\n",
    "    y_w_neg[\"article_id\"] = y_w_neg[\"article_id\"].astype(np.int64)\n",
    "    return y_w_neg"
   ]
  },
  {
   "cell_type": "code",
   "execution_count": 12,
   "id": "7885d7ba-8c0a-48b3-b344-5e7a91c6464f",
   "metadata": {},
   "outputs": [
    {
     "data": {
      "application/vnd.jupyter.widget-view+json": {
       "model_id": "ebcdef5ade284401a455e82734f42d06",
       "version_major": 2,
       "version_minor": 0
      },
      "text/plain": [
       "  0%|          | 0/80765 [00:00<?, ?it/s]"
      ]
     },
     "metadata": {},
     "output_type": "display_data"
    }
   ],
   "source": [
    "y_train_w_neg = gen_y_with_negative(y_train)"
   ]
  },
  {
   "cell_type": "code",
   "execution_count": 13,
   "id": "6481b634-6721-46cc-a558-ca71f3ba468f",
   "metadata": {},
   "outputs": [
    {
     "data": {
      "application/vnd.jupyter.widget-view+json": {
       "model_id": "fb23a1cc48fe4c0294bdfd330830d73e",
       "version_major": 2,
       "version_minor": 0
      },
      "text/plain": [
       "  0%|          | 0/75481 [00:00<?, ?it/s]"
      ]
     },
     "metadata": {},
     "output_type": "display_data"
    }
   ],
   "source": [
    "y_test_w_neg = gen_y_with_negative(y_test)"
   ]
  },
  {
   "cell_type": "markdown",
   "id": "da627605-43c0-4f15-9654-d5586362bd77",
   "metadata": {},
   "source": [
    "## Join user and item features"
   ]
  },
  {
   "cell_type": "code",
   "execution_count": 14,
   "id": "acb31be0-e7f2-41e4-97ad-5610e9c9b71f",
   "metadata": {},
   "outputs": [],
   "source": [
    "user_features = pd.read_parquet(\"../data/user_features.parquet\")\n",
    "item_features = pd.read_parquet(\"../data/item_features.parquet\")\n",
    "\n",
    "user_features = user_features.reset_index()\n",
    "item_features = item_features.reset_index()"
   ]
  },
  {
   "cell_type": "code",
   "execution_count": 15,
   "id": "0fb7d35c-ac49-4977-916c-0e7f7e7f7e13",
   "metadata": {},
   "outputs": [],
   "source": [
    "user_features[['club_member_status', 'fashion_news_frequency']] = (\n",
    "                   user_features[['club_member_status', 'fashion_news_frequency']]\n",
    "                   .apply(lambda x: pd.factorize(x)[0])\n",
    ").astype('int8')"
   ]
  },
  {
   "cell_type": "code",
   "execution_count": 16,
   "id": "4f96eacb-b8ef-4e89-a762-fd9669354c95",
   "metadata": {},
   "outputs": [],
   "source": [
    "data = (\n",
    "    y_train_w_neg\n",
    "    .merge(user_features, on='customer_id', how=\"left\")\n",
    "    .merge(item_features, on='article_id', how=\"left\")\n",
    ").reset_index(drop=True)\n",
    "data = data.sample(frac=1, random_state=42).reset_index(drop=True)\n",
    "query_list = data['customer_id'].value_counts()\n",
    "data = data.set_index(['customer_id', 'article_id'])\n",
    "query_list = query_list.sort_index()\n",
    "data.sort_index(inplace=True)"
   ]
  },
  {
   "cell_type": "code",
   "execution_count": 17,
   "id": "4a1c4e55-8f9c-48e9-8015-627ab868b7fa",
   "metadata": {},
   "outputs": [
    {
     "data": {
      "text/plain": [
       "0.034400880852025"
      ]
     },
     "execution_count": 17,
     "metadata": {},
     "output_type": "execute_result"
    }
   ],
   "source": [
    "data[\"label\"].mean()"
   ]
  },
  {
   "cell_type": "code",
   "execution_count": 18,
   "id": "6dcd1f4c-37eb-461f-8809-94fb37823fdc",
   "metadata": {},
   "outputs": [
    {
     "name": "stdout",
     "output_type": "stream",
     "text": [
      "(8478155, 84)\n"
     ]
    },
    {
     "data": {
      "text/html": [
       "<div>\n",
       "<style scoped>\n",
       "    .dataframe tbody tr th:only-of-type {\n",
       "        vertical-align: middle;\n",
       "    }\n",
       "\n",
       "    .dataframe tbody tr th {\n",
       "        vertical-align: top;\n",
       "    }\n",
       "\n",
       "    .dataframe thead th {\n",
       "        text-align: right;\n",
       "    }\n",
       "</style>\n",
       "<table border=\"1\" class=\"dataframe\">\n",
       "  <thead>\n",
       "    <tr style=\"text-align: right;\">\n",
       "      <th></th>\n",
       "      <th></th>\n",
       "      <th>label</th>\n",
       "      <th>mean_transactions</th>\n",
       "      <th>max_transactions</th>\n",
       "      <th>min_transactions</th>\n",
       "      <th>median_transactions</th>\n",
       "      <th>sum_transactions</th>\n",
       "      <th>max_minus_min_transactions</th>\n",
       "      <th>n_transactions</th>\n",
       "      <th>n_transactions_bigger_mean</th>\n",
       "      <th>n_online_articles</th>\n",
       "      <th>...</th>\n",
       "      <th>product_group_name_3</th>\n",
       "      <th>graphical_appearance_name_3</th>\n",
       "      <th>colour_group_name_3</th>\n",
       "      <th>perceived_colour_value_name_3</th>\n",
       "      <th>perceived_colour_master_name_3</th>\n",
       "      <th>department_name_3</th>\n",
       "      <th>index_name_3</th>\n",
       "      <th>index_group_name_3</th>\n",
       "      <th>section_name_3</th>\n",
       "      <th>garment_group_name_3</th>\n",
       "    </tr>\n",
       "    <tr>\n",
       "      <th>customer_id</th>\n",
       "      <th>article_id</th>\n",
       "      <th></th>\n",
       "      <th></th>\n",
       "      <th></th>\n",
       "      <th></th>\n",
       "      <th></th>\n",
       "      <th></th>\n",
       "      <th></th>\n",
       "      <th></th>\n",
       "      <th></th>\n",
       "      <th></th>\n",
       "      <th></th>\n",
       "      <th></th>\n",
       "      <th></th>\n",
       "      <th></th>\n",
       "      <th></th>\n",
       "      <th></th>\n",
       "      <th></th>\n",
       "      <th></th>\n",
       "      <th></th>\n",
       "      <th></th>\n",
       "      <th></th>\n",
       "    </tr>\n",
       "  </thead>\n",
       "  <tbody>\n",
       "    <tr>\n",
       "      <th rowspan=\"10\" valign=\"top\">000058a12d5b43e67d225668fa1f8d618c13dc232df0cad8ffe7ad4a1091e318</th>\n",
       "      <th>448515001</th>\n",
       "      <td>0</td>\n",
       "      <td>0.039154</td>\n",
       "      <td>0.06778</td>\n",
       "      <td>0.013542</td>\n",
       "      <td>0.033881</td>\n",
       "      <td>0.70478</td>\n",
       "      <td>0.054237</td>\n",
       "      <td>18</td>\n",
       "      <td>8</td>\n",
       "      <td>18</td>\n",
       "      <td>...</td>\n",
       "      <td>1</td>\n",
       "      <td>1</td>\n",
       "      <td>0</td>\n",
       "      <td>0</td>\n",
       "      <td>1</td>\n",
       "      <td>0</td>\n",
       "      <td>1</td>\n",
       "      <td>1</td>\n",
       "      <td>1</td>\n",
       "      <td>0</td>\n",
       "    </tr>\n",
       "    <tr>\n",
       "      <th>494088022</th>\n",
       "      <td>0</td>\n",
       "      <td>0.039154</td>\n",
       "      <td>0.06778</td>\n",
       "      <td>0.013542</td>\n",
       "      <td>0.033881</td>\n",
       "      <td>0.70478</td>\n",
       "      <td>0.054237</td>\n",
       "      <td>18</td>\n",
       "      <td>8</td>\n",
       "      <td>18</td>\n",
       "      <td>...</td>\n",
       "      <td>0</td>\n",
       "      <td>1</td>\n",
       "      <td>1</td>\n",
       "      <td>1</td>\n",
       "      <td>1</td>\n",
       "      <td>0</td>\n",
       "      <td>1</td>\n",
       "      <td>0</td>\n",
       "      <td>0</td>\n",
       "      <td>0</td>\n",
       "    </tr>\n",
       "    <tr>\n",
       "      <th>516712010</th>\n",
       "      <td>0</td>\n",
       "      <td>0.039154</td>\n",
       "      <td>0.06778</td>\n",
       "      <td>0.013542</td>\n",
       "      <td>0.033881</td>\n",
       "      <td>0.70478</td>\n",
       "      <td>0.054237</td>\n",
       "      <td>18</td>\n",
       "      <td>8</td>\n",
       "      <td>18</td>\n",
       "      <td>...</td>\n",
       "      <td>1</td>\n",
       "      <td>1</td>\n",
       "      <td>0</td>\n",
       "      <td>1</td>\n",
       "      <td>0</td>\n",
       "      <td>0</td>\n",
       "      <td>1</td>\n",
       "      <td>1</td>\n",
       "      <td>0</td>\n",
       "      <td>1</td>\n",
       "    </tr>\n",
       "    <tr>\n",
       "      <th>589599010</th>\n",
       "      <td>0</td>\n",
       "      <td>0.039154</td>\n",
       "      <td>0.06778</td>\n",
       "      <td>0.013542</td>\n",
       "      <td>0.033881</td>\n",
       "      <td>0.70478</td>\n",
       "      <td>0.054237</td>\n",
       "      <td>18</td>\n",
       "      <td>8</td>\n",
       "      <td>18</td>\n",
       "      <td>...</td>\n",
       "      <td>0</td>\n",
       "      <td>1</td>\n",
       "      <td>1</td>\n",
       "      <td>1</td>\n",
       "      <td>1</td>\n",
       "      <td>0</td>\n",
       "      <td>0</td>\n",
       "      <td>1</td>\n",
       "      <td>0</td>\n",
       "      <td>0</td>\n",
       "    </tr>\n",
       "    <tr>\n",
       "      <th>614622006</th>\n",
       "      <td>0</td>\n",
       "      <td>0.039154</td>\n",
       "      <td>0.06778</td>\n",
       "      <td>0.013542</td>\n",
       "      <td>0.033881</td>\n",
       "      <td>0.70478</td>\n",
       "      <td>0.054237</td>\n",
       "      <td>18</td>\n",
       "      <td>8</td>\n",
       "      <td>18</td>\n",
       "      <td>...</td>\n",
       "      <td>1</td>\n",
       "      <td>1</td>\n",
       "      <td>0</td>\n",
       "      <td>0</td>\n",
       "      <td>0</td>\n",
       "      <td>0</td>\n",
       "      <td>1</td>\n",
       "      <td>1</td>\n",
       "      <td>0</td>\n",
       "      <td>0</td>\n",
       "    </tr>\n",
       "    <tr>\n",
       "      <th>620424060</th>\n",
       "      <td>0</td>\n",
       "      <td>0.039154</td>\n",
       "      <td>0.06778</td>\n",
       "      <td>0.013542</td>\n",
       "      <td>0.033881</td>\n",
       "      <td>0.70478</td>\n",
       "      <td>0.054237</td>\n",
       "      <td>18</td>\n",
       "      <td>8</td>\n",
       "      <td>18</td>\n",
       "      <td>...</td>\n",
       "      <td>1</td>\n",
       "      <td>0</td>\n",
       "      <td>1</td>\n",
       "      <td>1</td>\n",
       "      <td>1</td>\n",
       "      <td>0</td>\n",
       "      <td>0</td>\n",
       "      <td>1</td>\n",
       "      <td>0</td>\n",
       "      <td>1</td>\n",
       "    </tr>\n",
       "    <tr>\n",
       "      <th>622964005</th>\n",
       "      <td>0</td>\n",
       "      <td>0.039154</td>\n",
       "      <td>0.06778</td>\n",
       "      <td>0.013542</td>\n",
       "      <td>0.033881</td>\n",
       "      <td>0.70478</td>\n",
       "      <td>0.054237</td>\n",
       "      <td>18</td>\n",
       "      <td>8</td>\n",
       "      <td>18</td>\n",
       "      <td>...</td>\n",
       "      <td>0</td>\n",
       "      <td>1</td>\n",
       "      <td>0</td>\n",
       "      <td>0</td>\n",
       "      <td>0</td>\n",
       "      <td>0</td>\n",
       "      <td>1</td>\n",
       "      <td>1</td>\n",
       "      <td>0</td>\n",
       "      <td>0</td>\n",
       "    </tr>\n",
       "    <tr>\n",
       "      <th>635689002</th>\n",
       "      <td>0</td>\n",
       "      <td>0.039154</td>\n",
       "      <td>0.06778</td>\n",
       "      <td>0.013542</td>\n",
       "      <td>0.033881</td>\n",
       "      <td>0.70478</td>\n",
       "      <td>0.054237</td>\n",
       "      <td>18</td>\n",
       "      <td>8</td>\n",
       "      <td>18</td>\n",
       "      <td>...</td>\n",
       "      <td>0</td>\n",
       "      <td>1</td>\n",
       "      <td>0</td>\n",
       "      <td>0</td>\n",
       "      <td>0</td>\n",
       "      <td>0</td>\n",
       "      <td>0</td>\n",
       "      <td>1</td>\n",
       "      <td>0</td>\n",
       "      <td>0</td>\n",
       "    </tr>\n",
       "    <tr>\n",
       "      <th>644797008</th>\n",
       "      <td>0</td>\n",
       "      <td>0.039154</td>\n",
       "      <td>0.06778</td>\n",
       "      <td>0.013542</td>\n",
       "      <td>0.033881</td>\n",
       "      <td>0.70478</td>\n",
       "      <td>0.054237</td>\n",
       "      <td>18</td>\n",
       "      <td>8</td>\n",
       "      <td>18</td>\n",
       "      <td>...</td>\n",
       "      <td>1</td>\n",
       "      <td>1</td>\n",
       "      <td>1</td>\n",
       "      <td>0</td>\n",
       "      <td>0</td>\n",
       "      <td>1</td>\n",
       "      <td>1</td>\n",
       "      <td>1</td>\n",
       "      <td>0</td>\n",
       "      <td>1</td>\n",
       "    </tr>\n",
       "    <tr>\n",
       "      <th>663275003</th>\n",
       "      <td>0</td>\n",
       "      <td>0.039154</td>\n",
       "      <td>0.06778</td>\n",
       "      <td>0.013542</td>\n",
       "      <td>0.033881</td>\n",
       "      <td>0.70478</td>\n",
       "      <td>0.054237</td>\n",
       "      <td>18</td>\n",
       "      <td>8</td>\n",
       "      <td>18</td>\n",
       "      <td>...</td>\n",
       "      <td>1</td>\n",
       "      <td>1</td>\n",
       "      <td>0</td>\n",
       "      <td>1</td>\n",
       "      <td>0</td>\n",
       "      <td>0</td>\n",
       "      <td>0</td>\n",
       "      <td>1</td>\n",
       "      <td>1</td>\n",
       "      <td>0</td>\n",
       "    </tr>\n",
       "  </tbody>\n",
       "</table>\n",
       "<p>10 rows × 84 columns</p>\n",
       "</div>"
      ],
      "text/plain": [
       "                                                               label  \\\n",
       "customer_id                                        article_id          \n",
       "000058a12d5b43e67d225668fa1f8d618c13dc232df0cad... 448515001       0   \n",
       "                                                   494088022       0   \n",
       "                                                   516712010       0   \n",
       "                                                   589599010       0   \n",
       "                                                   614622006       0   \n",
       "                                                   620424060       0   \n",
       "                                                   622964005       0   \n",
       "                                                   635689002       0   \n",
       "                                                   644797008       0   \n",
       "                                                   663275003       0   \n",
       "\n",
       "                                                               mean_transactions  \\\n",
       "customer_id                                        article_id                      \n",
       "000058a12d5b43e67d225668fa1f8d618c13dc232df0cad... 448515001            0.039154   \n",
       "                                                   494088022            0.039154   \n",
       "                                                   516712010            0.039154   \n",
       "                                                   589599010            0.039154   \n",
       "                                                   614622006            0.039154   \n",
       "                                                   620424060            0.039154   \n",
       "                                                   622964005            0.039154   \n",
       "                                                   635689002            0.039154   \n",
       "                                                   644797008            0.039154   \n",
       "                                                   663275003            0.039154   \n",
       "\n",
       "                                                               max_transactions  \\\n",
       "customer_id                                        article_id                     \n",
       "000058a12d5b43e67d225668fa1f8d618c13dc232df0cad... 448515001            0.06778   \n",
       "                                                   494088022            0.06778   \n",
       "                                                   516712010            0.06778   \n",
       "                                                   589599010            0.06778   \n",
       "                                                   614622006            0.06778   \n",
       "                                                   620424060            0.06778   \n",
       "                                                   622964005            0.06778   \n",
       "                                                   635689002            0.06778   \n",
       "                                                   644797008            0.06778   \n",
       "                                                   663275003            0.06778   \n",
       "\n",
       "                                                               min_transactions  \\\n",
       "customer_id                                        article_id                     \n",
       "000058a12d5b43e67d225668fa1f8d618c13dc232df0cad... 448515001           0.013542   \n",
       "                                                   494088022           0.013542   \n",
       "                                                   516712010           0.013542   \n",
       "                                                   589599010           0.013542   \n",
       "                                                   614622006           0.013542   \n",
       "                                                   620424060           0.013542   \n",
       "                                                   622964005           0.013542   \n",
       "                                                   635689002           0.013542   \n",
       "                                                   644797008           0.013542   \n",
       "                                                   663275003           0.013542   \n",
       "\n",
       "                                                               median_transactions  \\\n",
       "customer_id                                        article_id                        \n",
       "000058a12d5b43e67d225668fa1f8d618c13dc232df0cad... 448515001              0.033881   \n",
       "                                                   494088022              0.033881   \n",
       "                                                   516712010              0.033881   \n",
       "                                                   589599010              0.033881   \n",
       "                                                   614622006              0.033881   \n",
       "                                                   620424060              0.033881   \n",
       "                                                   622964005              0.033881   \n",
       "                                                   635689002              0.033881   \n",
       "                                                   644797008              0.033881   \n",
       "                                                   663275003              0.033881   \n",
       "\n",
       "                                                               sum_transactions  \\\n",
       "customer_id                                        article_id                     \n",
       "000058a12d5b43e67d225668fa1f8d618c13dc232df0cad... 448515001            0.70478   \n",
       "                                                   494088022            0.70478   \n",
       "                                                   516712010            0.70478   \n",
       "                                                   589599010            0.70478   \n",
       "                                                   614622006            0.70478   \n",
       "                                                   620424060            0.70478   \n",
       "                                                   622964005            0.70478   \n",
       "                                                   635689002            0.70478   \n",
       "                                                   644797008            0.70478   \n",
       "                                                   663275003            0.70478   \n",
       "\n",
       "                                                               max_minus_min_transactions  \\\n",
       "customer_id                                        article_id                               \n",
       "000058a12d5b43e67d225668fa1f8d618c13dc232df0cad... 448515001                     0.054237   \n",
       "                                                   494088022                     0.054237   \n",
       "                                                   516712010                     0.054237   \n",
       "                                                   589599010                     0.054237   \n",
       "                                                   614622006                     0.054237   \n",
       "                                                   620424060                     0.054237   \n",
       "                                                   622964005                     0.054237   \n",
       "                                                   635689002                     0.054237   \n",
       "                                                   644797008                     0.054237   \n",
       "                                                   663275003                     0.054237   \n",
       "\n",
       "                                                               n_transactions  \\\n",
       "customer_id                                        article_id                   \n",
       "000058a12d5b43e67d225668fa1f8d618c13dc232df0cad... 448515001               18   \n",
       "                                                   494088022               18   \n",
       "                                                   516712010               18   \n",
       "                                                   589599010               18   \n",
       "                                                   614622006               18   \n",
       "                                                   620424060               18   \n",
       "                                                   622964005               18   \n",
       "                                                   635689002               18   \n",
       "                                                   644797008               18   \n",
       "                                                   663275003               18   \n",
       "\n",
       "                                                               n_transactions_bigger_mean  \\\n",
       "customer_id                                        article_id                               \n",
       "000058a12d5b43e67d225668fa1f8d618c13dc232df0cad... 448515001                            8   \n",
       "                                                   494088022                            8   \n",
       "                                                   516712010                            8   \n",
       "                                                   589599010                            8   \n",
       "                                                   614622006                            8   \n",
       "                                                   620424060                            8   \n",
       "                                                   622964005                            8   \n",
       "                                                   635689002                            8   \n",
       "                                                   644797008                            8   \n",
       "                                                   663275003                            8   \n",
       "\n",
       "                                                               n_online_articles  \\\n",
       "customer_id                                        article_id                      \n",
       "000058a12d5b43e67d225668fa1f8d618c13dc232df0cad... 448515001                  18   \n",
       "                                                   494088022                  18   \n",
       "                                                   516712010                  18   \n",
       "                                                   589599010                  18   \n",
       "                                                   614622006                  18   \n",
       "                                                   620424060                  18   \n",
       "                                                   622964005                  18   \n",
       "                                                   635689002                  18   \n",
       "                                                   644797008                  18   \n",
       "                                                   663275003                  18   \n",
       "\n",
       "                                                               ...  \\\n",
       "customer_id                                        article_id  ...   \n",
       "000058a12d5b43e67d225668fa1f8d618c13dc232df0cad... 448515001   ...   \n",
       "                                                   494088022   ...   \n",
       "                                                   516712010   ...   \n",
       "                                                   589599010   ...   \n",
       "                                                   614622006   ...   \n",
       "                                                   620424060   ...   \n",
       "                                                   622964005   ...   \n",
       "                                                   635689002   ...   \n",
       "                                                   644797008   ...   \n",
       "                                                   663275003   ...   \n",
       "\n",
       "                                                               product_group_name_3  \\\n",
       "customer_id                                        article_id                         \n",
       "000058a12d5b43e67d225668fa1f8d618c13dc232df0cad... 448515001                      1   \n",
       "                                                   494088022                      0   \n",
       "                                                   516712010                      1   \n",
       "                                                   589599010                      0   \n",
       "                                                   614622006                      1   \n",
       "                                                   620424060                      1   \n",
       "                                                   622964005                      0   \n",
       "                                                   635689002                      0   \n",
       "                                                   644797008                      1   \n",
       "                                                   663275003                      1   \n",
       "\n",
       "                                                               graphical_appearance_name_3  \\\n",
       "customer_id                                        article_id                                \n",
       "000058a12d5b43e67d225668fa1f8d618c13dc232df0cad... 448515001                             1   \n",
       "                                                   494088022                             1   \n",
       "                                                   516712010                             1   \n",
       "                                                   589599010                             1   \n",
       "                                                   614622006                             1   \n",
       "                                                   620424060                             0   \n",
       "                                                   622964005                             1   \n",
       "                                                   635689002                             1   \n",
       "                                                   644797008                             1   \n",
       "                                                   663275003                             1   \n",
       "\n",
       "                                                               colour_group_name_3  \\\n",
       "customer_id                                        article_id                        \n",
       "000058a12d5b43e67d225668fa1f8d618c13dc232df0cad... 448515001                     0   \n",
       "                                                   494088022                     1   \n",
       "                                                   516712010                     0   \n",
       "                                                   589599010                     1   \n",
       "                                                   614622006                     0   \n",
       "                                                   620424060                     1   \n",
       "                                                   622964005                     0   \n",
       "                                                   635689002                     0   \n",
       "                                                   644797008                     1   \n",
       "                                                   663275003                     0   \n",
       "\n",
       "                                                               perceived_colour_value_name_3  \\\n",
       "customer_id                                        article_id                                  \n",
       "000058a12d5b43e67d225668fa1f8d618c13dc232df0cad... 448515001                               0   \n",
       "                                                   494088022                               1   \n",
       "                                                   516712010                               1   \n",
       "                                                   589599010                               1   \n",
       "                                                   614622006                               0   \n",
       "                                                   620424060                               1   \n",
       "                                                   622964005                               0   \n",
       "                                                   635689002                               0   \n",
       "                                                   644797008                               0   \n",
       "                                                   663275003                               1   \n",
       "\n",
       "                                                               perceived_colour_master_name_3  \\\n",
       "customer_id                                        article_id                                   \n",
       "000058a12d5b43e67d225668fa1f8d618c13dc232df0cad... 448515001                                1   \n",
       "                                                   494088022                                1   \n",
       "                                                   516712010                                0   \n",
       "                                                   589599010                                1   \n",
       "                                                   614622006                                0   \n",
       "                                                   620424060                                1   \n",
       "                                                   622964005                                0   \n",
       "                                                   635689002                                0   \n",
       "                                                   644797008                                0   \n",
       "                                                   663275003                                0   \n",
       "\n",
       "                                                               department_name_3  \\\n",
       "customer_id                                        article_id                      \n",
       "000058a12d5b43e67d225668fa1f8d618c13dc232df0cad... 448515001                   0   \n",
       "                                                   494088022                   0   \n",
       "                                                   516712010                   0   \n",
       "                                                   589599010                   0   \n",
       "                                                   614622006                   0   \n",
       "                                                   620424060                   0   \n",
       "                                                   622964005                   0   \n",
       "                                                   635689002                   0   \n",
       "                                                   644797008                   1   \n",
       "                                                   663275003                   0   \n",
       "\n",
       "                                                               index_name_3  \\\n",
       "customer_id                                        article_id                 \n",
       "000058a12d5b43e67d225668fa1f8d618c13dc232df0cad... 448515001              1   \n",
       "                                                   494088022              1   \n",
       "                                                   516712010              1   \n",
       "                                                   589599010              0   \n",
       "                                                   614622006              1   \n",
       "                                                   620424060              0   \n",
       "                                                   622964005              1   \n",
       "                                                   635689002              0   \n",
       "                                                   644797008              1   \n",
       "                                                   663275003              0   \n",
       "\n",
       "                                                               index_group_name_3  \\\n",
       "customer_id                                        article_id                       \n",
       "000058a12d5b43e67d225668fa1f8d618c13dc232df0cad... 448515001                    1   \n",
       "                                                   494088022                    0   \n",
       "                                                   516712010                    1   \n",
       "                                                   589599010                    1   \n",
       "                                                   614622006                    1   \n",
       "                                                   620424060                    1   \n",
       "                                                   622964005                    1   \n",
       "                                                   635689002                    1   \n",
       "                                                   644797008                    1   \n",
       "                                                   663275003                    1   \n",
       "\n",
       "                                                               section_name_3  \\\n",
       "customer_id                                        article_id                   \n",
       "000058a12d5b43e67d225668fa1f8d618c13dc232df0cad... 448515001                1   \n",
       "                                                   494088022                0   \n",
       "                                                   516712010                0   \n",
       "                                                   589599010                0   \n",
       "                                                   614622006                0   \n",
       "                                                   620424060                0   \n",
       "                                                   622964005                0   \n",
       "                                                   635689002                0   \n",
       "                                                   644797008                0   \n",
       "                                                   663275003                1   \n",
       "\n",
       "                                                               garment_group_name_3  \n",
       "customer_id                                        article_id                        \n",
       "000058a12d5b43e67d225668fa1f8d618c13dc232df0cad... 448515001                      0  \n",
       "                                                   494088022                      0  \n",
       "                                                   516712010                      1  \n",
       "                                                   589599010                      0  \n",
       "                                                   614622006                      0  \n",
       "                                                   620424060                      1  \n",
       "                                                   622964005                      0  \n",
       "                                                   635689002                      0  \n",
       "                                                   644797008                      1  \n",
       "                                                   663275003                      0  \n",
       "\n",
       "[10 rows x 84 columns]"
      ]
     },
     "execution_count": 18,
     "metadata": {},
     "output_type": "execute_result"
    }
   ],
   "source": [
    "print(data.shape)\n",
    "data.head(10)"
   ]
  },
  {
   "cell_type": "code",
   "execution_count": 19,
   "id": "5fa0099a-e3ad-4e37-825a-c07ff0df2ab6",
   "metadata": {},
   "outputs": [],
   "source": [
    "test = (\n",
    "    y_test_w_neg\n",
    "    .merge(user_features, on='customer_id', how=\"left\")\n",
    "    .merge(item_features, on='article_id', how=\"left\")\n",
    ").reset_index(drop=True)\n",
    "test_query_list = test['customer_id'].value_counts()\n",
    "test = test.set_index(['customer_id', 'article_id'])\n",
    "test_query_list = test_query_list.sort_index()\n",
    "test.sort_index(inplace=True)"
   ]
  },
  {
   "cell_type": "code",
   "execution_count": 20,
   "id": "ad8efb82-0406-49b7-bfb8-d22f2559851b",
   "metadata": {},
   "outputs": [
    {
     "name": "stdout",
     "output_type": "stream",
     "text": [
      "Training until validation scores don't improve for 20 rounds\n",
      "[20]\ttraining's map@12: 0.354413\ttraining's ndcg@12: 0.472153\tvalid_1's map@12: 0.342287\tvalid_1's ndcg@12: 0.459163\n",
      "[40]\ttraining's map@12: 0.397094\ttraining's ndcg@12: 0.514306\tvalid_1's map@12: 0.384347\tvalid_1's ndcg@12: 0.501186\n",
      "[60]\ttraining's map@12: 0.423943\ttraining's ndcg@12: 0.540561\tvalid_1's map@12: 0.407936\tvalid_1's ndcg@12: 0.524671\n",
      "[80]\ttraining's map@12: 0.440315\ttraining's ndcg@12: 0.556218\tvalid_1's map@12: 0.422533\tvalid_1's ndcg@12: 0.538759\n",
      "[100]\ttraining's map@12: 0.451063\ttraining's ndcg@12: 0.56641\tvalid_1's map@12: 0.431808\tvalid_1's ndcg@12: 0.547574\n",
      "[120]\ttraining's map@12: 0.459799\ttraining's ndcg@12: 0.574713\tvalid_1's map@12: 0.439278\tvalid_1's ndcg@12: 0.554698\n",
      "[140]\ttraining's map@12: 0.466919\ttraining's ndcg@12: 0.581476\tvalid_1's map@12: 0.444152\tvalid_1's ndcg@12: 0.55948\n",
      "[160]\ttraining's map@12: 0.472588\ttraining's ndcg@12: 0.586886\tvalid_1's map@12: 0.448866\tvalid_1's ndcg@12: 0.564123\n",
      "[180]\ttraining's map@12: 0.479594\ttraining's ndcg@12: 0.593449\tvalid_1's map@12: 0.453912\tvalid_1's ndcg@12: 0.568961\n",
      "[200]\ttraining's map@12: 0.486808\ttraining's ndcg@12: 0.600148\tvalid_1's map@12: 0.459346\tvalid_1's ndcg@12: 0.574027\n",
      "[220]\ttraining's map@12: 0.492768\ttraining's ndcg@12: 0.605786\tvalid_1's map@12: 0.463792\tvalid_1's ndcg@12: 0.578312\n",
      "[240]\ttraining's map@12: 0.497694\ttraining's ndcg@12: 0.610497\tvalid_1's map@12: 0.46707\tvalid_1's ndcg@12: 0.581499\n",
      "[260]\ttraining's map@12: 0.503136\ttraining's ndcg@12: 0.615696\tvalid_1's map@12: 0.470413\tvalid_1's ndcg@12: 0.584812\n",
      "[280]\ttraining's map@12: 0.507999\ttraining's ndcg@12: 0.620154\tvalid_1's map@12: 0.473935\tvalid_1's ndcg@12: 0.588156\n",
      "[300]\ttraining's map@12: 0.51181\ttraining's ndcg@12: 0.623802\tvalid_1's map@12: 0.47673\tvalid_1's ndcg@12: 0.590784\n",
      "[320]\ttraining's map@12: 0.515166\ttraining's ndcg@12: 0.627029\tvalid_1's map@12: 0.478692\tvalid_1's ndcg@12: 0.592802\n",
      "[340]\ttraining's map@12: 0.518679\ttraining's ndcg@12: 0.630232\tvalid_1's map@12: 0.480787\tvalid_1's ndcg@12: 0.594784\n",
      "[360]\ttraining's map@12: 0.521699\ttraining's ndcg@12: 0.633032\tvalid_1's map@12: 0.482674\tvalid_1's ndcg@12: 0.596525\n",
      "[380]\ttraining's map@12: 0.524739\ttraining's ndcg@12: 0.635889\tvalid_1's map@12: 0.484427\tvalid_1's ndcg@12: 0.598283\n",
      "[400]\ttraining's map@12: 0.527705\ttraining's ndcg@12: 0.638584\tvalid_1's map@12: 0.486281\tvalid_1's ndcg@12: 0.599975\n",
      "[420]\ttraining's map@12: 0.529975\ttraining's ndcg@12: 0.640758\tvalid_1's map@12: 0.487287\tvalid_1's ndcg@12: 0.600945\n",
      "[440]\ttraining's map@12: 0.53218\ttraining's ndcg@12: 0.642839\tvalid_1's map@12: 0.488162\tvalid_1's ndcg@12: 0.601846\n",
      "[460]\ttraining's map@12: 0.53468\ttraining's ndcg@12: 0.645229\tvalid_1's map@12: 0.489649\tvalid_1's ndcg@12: 0.603169\n",
      "[480]\ttraining's map@12: 0.537158\ttraining's ndcg@12: 0.647526\tvalid_1's map@12: 0.490909\tvalid_1's ndcg@12: 0.604395\n",
      "[500]\ttraining's map@12: 0.539448\ttraining's ndcg@12: 0.649691\tvalid_1's map@12: 0.491649\tvalid_1's ndcg@12: 0.605188\n",
      "Did not meet early stopping. Best iteration is:\n",
      "[500]\ttraining's map@12: 0.539448\ttraining's ndcg@12: 0.649691\tvalid_1's map@12: 0.491649\tvalid_1's ndcg@12: 0.605188\n"
     ]
    },
    {
     "data": {
      "text/plain": [
       "LGBMRanker(force_col_wise=True, importance_type='gain', learning_rate=0.3,\n",
       "           max_depth=5, metric='ndcg', min_child_samples=100, n_estimators=500,\n",
       "           num_leaves=25, objective='lambdarank', random_state=42,\n",
       "           verbosity=-1)"
      ]
     },
     "execution_count": 20,
     "metadata": {},
     "output_type": "execute_result"
    }
   ],
   "source": [
    "import lightgbm as lgb\n",
    "\n",
    "label = data[\"label\"]\n",
    "inputs = data.drop(\"label\", axis=1)\n",
    "\n",
    "eval_label = test[\"label\"]\n",
    "eval_inputs = test.drop(\"label\", axis=1)\n",
    "\n",
    "model = lgb.LGBMRanker(\n",
    "    objective=\"lambdarank\",\n",
    "    metric=\"ndcg\",\n",
    "    boosting_type=\"gbdt\",\n",
    "    learning_rate=0.3,\n",
    "    n_estimators=500,\n",
    "    random_state=42,\n",
    "    max_depth=5,\n",
    "    num_leaves=5**2,\n",
    "    min_child_samples=100,\n",
    "    force_col_wise=True,\n",
    "    importance_type='gain',\n",
    "    verbosity=-1,\n",
    ")\n",
    "model.fit(\n",
    "    inputs,\n",
    "    label,\n",
    "    group=query_list,\n",
    "    eval_set=[(inputs, label), (eval_inputs, eval_label)],\n",
    "    eval_group=[query_list, test_query_list],\n",
    "    eval_at=[12],\n",
    "    eval_metric=\"map\",\n",
    "    callbacks=[lgb.log_evaluation(20), lgb.early_stopping(20)],\n",
    ")"
   ]
  },
  {
   "cell_type": "markdown",
   "id": "e8442cac-8f3b-4aba-8d3f-bae9aa1f47e7",
   "metadata": {
    "tags": []
   },
   "source": [
    "## Evaluation"
   ]
  },
  {
   "cell_type": "code",
   "execution_count": 21,
   "id": "11dfb18e-a303-4792-9113-72b8cc100043",
   "metadata": {},
   "outputs": [],
   "source": [
    "def average_precision(target, predict, k=12):\n",
    "    len_target = min(len(target), k)\n",
    "\n",
    "    score = 0.0\n",
    "    num_hits = 0.0\n",
    "    for i, p in enumerate(predict):\n",
    "        if p in target and p not in predict[:i]:\n",
    "            num_hits += 1.0\n",
    "            score += num_hits / (i + 1.0)\n",
    "\n",
    "    return score / min(len_target, k)\n",
    "\n",
    "\n",
    "def mean_average_precision(targets, predicts, k=12):\n",
    "    map_top_k = np.mean([average_precision(t, p) for t, p in zip(targets, predicts)])\n",
    "    assert 0.0 <= map_top_k <= 1.0, \"map_top_k must be 0.0 <= map_top_k <= 1.0\"\n",
    "    return map_top_k"
   ]
  },
  {
   "cell_type": "code",
   "execution_count": 22,
   "id": "d0c3408c-d4e0-423d-9fb0-8a6827236588",
   "metadata": {},
   "outputs": [],
   "source": [
    "# TODO: predict をバッチで行う、データが多すぎるので。\n",
    "\n",
    "pred = model.predict(eval_inputs)\n",
    "eval_pred = pd.DataFrame(index=eval_inputs.index, data=pred, columns=[\"score\"])\n",
    "eval_pred = eval_pred.reset_index()"
   ]
  },
  {
   "cell_type": "code",
   "execution_count": 23,
   "id": "1dd6621f-7bed-461d-b965-45098ff898e1",
   "metadata": {},
   "outputs": [
    {
     "data": {
      "image/png": "[encoded data removed]",
      "text/plain": [
       "<Figure size 576x360 with 1 Axes>"
      ]
     },
     "metadata": {},
     "output_type": "display_data"
    }
   ],
   "source": [
    "c_min, c_max = np.percentile(pred, [1, 99])\n",
    "\n",
    "plt.figure(figsize=(8,5))\n",
    "plt.hist(np.clip(pred, c_min, c_max), bins=50)\n",
    "plt.show()"
   ]
  },
  {
   "cell_type": "code",
   "execution_count": 24,
   "id": "fd22eb6a-480a-4ce8-ab55-a6979d400f1e",
   "metadata": {},
   "outputs": [],
   "source": [
    "eval_pred.sort_values(['customer_id', 'score'], ascending=False, inplace = True)\n",
    "eval_pred = (\n",
    "    eval_pred\n",
    "    .groupby('customer_id')[['article_id']]\n",
    "    .aggregate(lambda x: x.tolist()[:12])\n",
    ")"
   ]
  },
  {
   "cell_type": "code",
   "execution_count": 25,
   "id": "69bb73e4-21d1-434c-aa69-11f359abcaff",
   "metadata": {},
   "outputs": [],
   "source": [
    "eval_pred['article_id'] = eval_pred['article_id'].apply(lambda x: ' '.join(['0'+str(k) for k in x]))"
   ]
  },
  {
   "cell_type": "code",
   "execution_count": 26,
   "id": "8ee5a526-458b-4145-b2b1-4595c0888839",
   "metadata": {},
   "outputs": [],
   "source": [
    "target = eval_label[eval_label==1].reset_index()[[\"customer_id\", \"article_id\"]].copy()\n",
    "target = target.groupby(\"customer_id\")[\"article_id\"].agg(list).to_frame()\n",
    "target = target[\"article_id\"].tolist()"
   ]
  },
  {
   "cell_type": "code",
   "execution_count": 27,
   "id": "39a77c83-515a-4273-9312-713ec64be3b9",
   "metadata": {},
   "outputs": [
    {
     "data": {
      "text/plain": [
       "0.44835220866814623"
      ]
     },
     "execution_count": 27,
     "metadata": {},
     "output_type": "execute_result"
    }
   ],
   "source": [
    "pred = eval_pred[\"article_id\"].str[1:]\n",
    "pred = pred.str.split(\" 0\").tolist()\n",
    "pred = [[int(_p) for _p in p] for p in pred]\n",
    "\n",
    "mean_average_precision(target, pred)"
   ]
  },
  {
   "cell_type": "markdown",
   "id": "cd36a7c6-e025-4979-8582-aacb73607ff7",
   "metadata": {},
   "source": [
    "## Prediction\n",
    "\n",
    "# TODO\n",
    "\n",
    "- 提出用データで同様の処理を実施\n",
    "- 再学習\n",
    "- 予測\n",
    "- 提出"
   ]
  },
  {
   "cell_type": "code",
   "execution_count": 345,
   "id": "6ea93855-fc3d-4d62-97fc-c01fbb40adbb",
   "metadata": {},
   "outputs": [
    {
     "name": "stdout",
     "output_type": "stream",
     "text": [
      "start_date=2020-08-25 end_date=2020-09-22 diff=29days\n"
     ]
    }
   ],
   "source": [
    "data = pd.read_parquet(\"../data/working/transactions_train.parquet\")\n",
    "data[\"t_dat\"] = pd.to_datetime(data[\"t_dat\"])\n",
    "\n",
    "label_end_t_dat = data[\"t_dat\"].max() - timedelta(days=28)\n",
    "data = data.query(\"t_dat>=@label_end_t_dat\")\n",
    "\n",
    "print_data_days(data)"
   ]
  },
  {
   "cell_type": "code",
   "execution_count": 346,
   "id": "c4d65219-5ef7-4ce0-90a4-0dc34801e7df",
   "metadata": {},
   "outputs": [],
   "source": [
    "active_article_id = data[\"article_id\"].value_counts().index.to_numpy()\n",
    "popular_article_id = active_article_id[:50]"
   ]
  },
  {
   "cell_type": "code",
   "execution_count": 347,
   "id": "6121b011-45c6-4bdf-8078-d155788175af",
   "metadata": {},
   "outputs": [],
   "source": [
    "sample_submission = pd.read_csv(\"../data/raw/sample_submission.csv\")"
   ]
  },
  {
   "cell_type": "code",
   "execution_count": 348,
   "id": "b85c420e-b002-483e-b13c-a00d36c70843",
   "metadata": {},
   "outputs": [
    {
     "data": {
      "text/html": [
       "<div>\n",
       "<style scoped>\n",
       "    .dataframe tbody tr th:only-of-type {\n",
       "        vertical-align: middle;\n",
       "    }\n",
       "\n",
       "    .dataframe tbody tr th {\n",
       "        vertical-align: top;\n",
       "    }\n",
       "\n",
       "    .dataframe thead th {\n",
       "        text-align: right;\n",
       "    }\n",
       "</style>\n",
       "<table border=\"1\" class=\"dataframe\">\n",
       "  <thead>\n",
       "    <tr style=\"text-align: right;\">\n",
       "      <th></th>\n",
       "      <th>customer_id</th>\n",
       "      <th>prediction</th>\n",
       "    </tr>\n",
       "  </thead>\n",
       "  <tbody>\n",
       "    <tr>\n",
       "      <th>0</th>\n",
       "      <td>00000dbacae5abe5e23885899a1fa44253a17956c6d1c3...</td>\n",
       "      <td>0706016001 0706016002 0372860001 0610776002 07...</td>\n",
       "    </tr>\n",
       "    <tr>\n",
       "      <th>1</th>\n",
       "      <td>0000423b00ade91418cceaf3b26c6af3dd342b51fd051e...</td>\n",
       "      <td>0706016001 0706016002 0372860001 0610776002 07...</td>\n",
       "    </tr>\n",
       "    <tr>\n",
       "      <th>2</th>\n",
       "      <td>000058a12d5b43e67d225668fa1f8d618c13dc232df0ca...</td>\n",
       "      <td>0706016001 0706016002 0372860001 0610776002 07...</td>\n",
       "    </tr>\n",
       "    <tr>\n",
       "      <th>3</th>\n",
       "      <td>00005ca1c9ed5f5146b52ac8639a40ca9d57aeff4d1bd2...</td>\n",
       "      <td>0706016001 0706016002 0372860001 0610776002 07...</td>\n",
       "    </tr>\n",
       "    <tr>\n",
       "      <th>4</th>\n",
       "      <td>00006413d8573cd20ed7128e53b7b13819fe5cfc2d801f...</td>\n",
       "      <td>0706016001 0706016002 0372860001 0610776002 07...</td>\n",
       "    </tr>\n",
       "  </tbody>\n",
       "</table>\n",
       "</div>"
      ],
      "text/plain": [
       "                                         customer_id  \\\n",
       "0  00000dbacae5abe5e23885899a1fa44253a17956c6d1c3...   \n",
       "1  0000423b00ade91418cceaf3b26c6af3dd342b51fd051e...   \n",
       "2  000058a12d5b43e67d225668fa1f8d618c13dc232df0ca...   \n",
       "3  00005ca1c9ed5f5146b52ac8639a40ca9d57aeff4d1bd2...   \n",
       "4  00006413d8573cd20ed7128e53b7b13819fe5cfc2d801f...   \n",
       "\n",
       "                                          prediction  \n",
       "0  0706016001 0706016002 0372860001 0610776002 07...  \n",
       "1  0706016001 0706016002 0372860001 0610776002 07...  \n",
       "2  0706016001 0706016002 0372860001 0610776002 07...  \n",
       "3  0706016001 0706016002 0372860001 0610776002 07...  \n",
       "4  0706016001 0706016002 0372860001 0610776002 07...  "
      ]
     },
     "execution_count": 348,
     "metadata": {},
     "output_type": "execute_result"
    }
   ],
   "source": [
    "sample_submission.head()"
   ]
  },
  {
   "cell_type": "code",
   "execution_count": 349,
   "id": "94d4bacb-4b04-4ebd-b5e0-6808988e1392",
   "metadata": {},
   "outputs": [
    {
     "name": "stdout",
     "output_type": "stream",
     "text": [
      "CPU times: user 420 µs, sys: 8 µs, total: 428 µs\n",
      "Wall time: 401 µs\n"
     ]
    }
   ],
   "source": [
    "%%time\n",
    "\n",
    "# TODO: 人気かつ過去28日間で購入した商品にするとさらによさそう\n",
    "size = len(popular_article_id)\n",
    "c_id = sample_submission.customer_id.iloc[0]"
   ]
  },
  {
   "cell_type": "code",
   "execution_count": 350,
   "id": "05e4a332-e4a0-4a2f-8dc8-b112585b9fe5",
   "metadata": {},
   "outputs": [
    {
     "name": "stdout",
     "output_type": "stream",
     "text": [
      "CPU times: user 54.4 ms, sys: 83 µs, total: 54.5 ms\n",
      "Wall time: 48.6 ms\n"
     ]
    }
   ],
   "source": [
    "%%time\n",
    "c_feat = user_features.query(\"customer_id==@c_id\").iloc[0, 1:].to_numpy()\n",
    "c_feat = np.tile(c_feat, (size, 1))\n",
    "\n",
    "i_feat = item_features.set_index(\"article_id\").loc[popular_article_id].to_numpy()\n",
    "\n",
    "feat = np.concatenate((c_feat, i_feat), axis=1)"
   ]
  },
  {
   "cell_type": "code",
   "execution_count": 351,
   "id": "406a0bf3-4050-4309-b49d-004e720248ce",
   "metadata": {},
   "outputs": [
    {
     "name": "stdout",
     "output_type": "stream",
     "text": [
      "CPU times: user 0 ns, sys: 2.45 ms, total: 2.45 ms\n",
      "Wall time: 1.33 ms\n"
     ]
    }
   ],
   "source": [
    "%%time\n",
    "pred = model.predict(feat)"
   ]
  },
  {
   "cell_type": "code",
   "execution_count": 352,
   "id": "03ad8e5c-b49a-4029-8ceb-9919b9608412",
   "metadata": {},
   "outputs": [
    {
     "name": "stdout",
     "output_type": "stream",
     "text": [
      "CPU times: user 138 µs, sys: 3 µs, total: 141 µs\n",
      "Wall time: 96.3 µs\n"
     ]
    }
   ],
   "source": [
    "%%time\n",
    "pred_article = popular_article_id[np.argsort(pred)][::-1][:12]\n",
    "pred_article = \" \".join([\"0\"+str(p) for p in pred_article])"
   ]
  },
  {
   "cell_type": "code",
   "execution_count": 353,
   "id": "140c89df-a58e-4b81-9ce1-675a56a0aafc",
   "metadata": {},
   "outputs": [
    {
     "name": "stdout",
     "output_type": "stream",
     "text": [
      "CPU times: user 0 ns, sys: 3 µs, total: 3 µs\n",
      "Wall time: 5.25 µs\n"
     ]
    },
    {
     "data": {
      "text/plain": [
       "'0909370001 0924243001 0915529003 0896152002 0863595006 0915526001 0898694001 0918522001 0929165002 0893059004 0863583001 0850917001'"
      ]
     },
     "execution_count": 353,
     "metadata": {},
     "output_type": "execute_result"
    }
   ],
   "source": [
    "%%time\n",
    "pred_article"
   ]
  },
  {
   "cell_type": "code",
   "execution_count": 354,
   "id": "2ea732c6-aeed-4682-9056-a872cf861eb6",
   "metadata": {},
   "outputs": [
    {
     "name": "stdout",
     "output_type": "stream",
     "text": [
      "CPU times: user 3 µs, sys: 0 ns, total: 3 µs\n",
      "Wall time: 5.48 µs\n"
     ]
    },
    {
     "data": {
      "text/plain": [
       "'00000dbacae5abe5e23885899a1fa44253a17956c6d1c3d25f88aa139fdfc657'"
      ]
     },
     "execution_count": 354,
     "metadata": {},
     "output_type": "execute_result"
    }
   ],
   "source": [
    "%%time\n",
    "c_id"
   ]
  },
  {
   "cell_type": "markdown",
   "id": "80337fb3-e3ce-484f-912a-4c2ee0e7abe3",
   "metadata": {},
   "source": [
    "# TODO\n",
    "\n",
    "- u_feat, i_feat をジョイン\n",
    "- batch で予測する"
   ]
  },
  {
   "cell_type": "code",
   "execution_count": 355,
   "id": "4f600fb4-bccf-4dbc-aab3-7a166a1f5abb",
   "metadata": {},
   "outputs": [],
   "source": [
    "sub_c_ids = sample_submission[\"customer_id\"].to_numpy()"
   ]
  },
  {
   "cell_type": "code",
   "execution_count": 359,
   "id": "f4b4e720-d3ba-4e71-958d-69717b840315",
   "metadata": {},
   "outputs": [],
   "source": [
    "i_feat = item_features.set_index(\"article_id\").loc[popular_article_id].to_numpy()\n",
    "\n",
    "def predict(c_id):\n",
    "    a_ids = popular_article_id.reshape(-1, size)\n",
    "\n",
    "    # TODO: user_feature に c_id が存在しない場合の仮データを入れる必要がある\n",
    "    c_feat = user_features.query(\"customer_id==@c_id\").iloc[0, 1:].to_numpy()\n",
    "    c_feat = np.tile(c_feat, (size, 1))\n",
    "\n",
    "    feat = np.concatenate((c_feat, i_feat), axis=1)\n",
    "    \n",
    "    pred = model.predict(feat)\n",
    "    pred_ids = a_ids.ravel()[np.argsort(pred)][::-1][:12]\n",
    "    pred_ids = \" \".join([\"0\"+str(p) for p in pred_ids])\n",
    "    \n",
    "    return (row.customer_id, pred_ids)    "
   ]
  },
  {
   "cell_type": "code",
   "execution_count": 360,
   "id": "b86f6e47-3919-4e0f-bdd9-c2001f722b9f",
   "metadata": {},
   "outputs": [
    {
     "name": "stdout",
     "output_type": "stream",
     "text": [
      "CPU times: user 41.7 ms, sys: 27 µs, total: 41.7 ms\n",
      "Wall time: 36.1 ms\n"
     ]
    },
    {
     "data": {
      "text/plain": [
       "('000b4826c39da9d7207a019e046e85115dd5ba928a5bf79cafa48833cfb1c579',\n",
       " '0909370001 0924243001 0915529003 0896152002 0863595006 0915526001 0898694001 0918522001 0929165002 0893059004 0863583001 0850917001')"
      ]
     },
     "execution_count": 360,
     "metadata": {},
     "output_type": "execute_result"
    }
   ],
   "source": [
    "%%time\n",
    "smpl_c_id = sub_c_ids[0]\n",
    "predict(smpl_c_id)"
   ]
  },
  {
   "cell_type": "code",
   "execution_count": 361,
   "id": "960e1991-67ad-49de-96cf-410e18b45da6",
   "metadata": {},
   "outputs": [
    {
     "data": {
      "application/vnd.jupyter.widget-view+json": {
       "model_id": "e03a89a07cf94140a81b2bdc1e33cb7d",
       "version_major": 2,
       "version_minor": 0
      },
      "text/plain": [
       "  0%|          | 0/1371980 [00:00<?, ?it/s]"
      ]
     },
     "metadata": {},
     "output_type": "display_data"
    },
    {
     "ename": "IndexError",
     "evalue": "single positional indexer is out-of-bounds",
     "output_type": "error",
     "traceback": [
      "\u001b[0;31m---------------------------------------------------------------------------\u001b[0m",
      "\u001b[0;31mIndexError\u001b[0m                                Traceback (most recent call last)",
      "\u001b[0;32m/tmp/ipykernel_552/1810613949.py\u001b[0m in \u001b[0;36m<module>\u001b[0;34m\u001b[0m\n\u001b[0;32m----> 1\u001b[0;31m \u001b[0msubmission\u001b[0m \u001b[0;34m=\u001b[0m \u001b[0mParallel\u001b[0m\u001b[0;34m(\u001b[0m\u001b[0mn_jobs\u001b[0m\u001b[0;34m=\u001b[0m\u001b[0;34m-\u001b[0m\u001b[0;36m1\u001b[0m\u001b[0;34m)\u001b[0m\u001b[0;34m(\u001b[0m\u001b[0mdelayed\u001b[0m\u001b[0;34m(\u001b[0m\u001b[0mpredict\u001b[0m\u001b[0;34m)\u001b[0m\u001b[0;34m(\u001b[0m\u001b[0mc_id\u001b[0m\u001b[0;34m)\u001b[0m \u001b[0;32mfor\u001b[0m \u001b[0mc_id\u001b[0m \u001b[0;32min\u001b[0m \u001b[0mtqdm\u001b[0m\u001b[0;34m(\u001b[0m\u001b[0msub_c_ids\u001b[0m\u001b[0;34m)\u001b[0m\u001b[0;34m)\u001b[0m\u001b[0;34m\u001b[0m\u001b[0;34m\u001b[0m\u001b[0m\n\u001b[0m",
      "\u001b[0;32m/opt/conda/lib/python3.7/site-packages/joblib/parallel.py\u001b[0m in \u001b[0;36m__call__\u001b[0;34m(self, iterable)\u001b[0m\n\u001b[1;32m   1054\u001b[0m \u001b[0;34m\u001b[0m\u001b[0m\n\u001b[1;32m   1055\u001b[0m             \u001b[0;32mwith\u001b[0m \u001b[0mself\u001b[0m\u001b[0;34m.\u001b[0m\u001b[0m_backend\u001b[0m\u001b[0;34m.\u001b[0m\u001b[0mretrieval_context\u001b[0m\u001b[0;34m(\u001b[0m\u001b[0;34m)\u001b[0m\u001b[0;34m:\u001b[0m\u001b[0;34m\u001b[0m\u001b[0;34m\u001b[0m\u001b[0m\n\u001b[0;32m-> 1056\u001b[0;31m                 \u001b[0mself\u001b[0m\u001b[0;34m.\u001b[0m\u001b[0mretrieve\u001b[0m\u001b[0;34m(\u001b[0m\u001b[0;34m)\u001b[0m\u001b[0;34m\u001b[0m\u001b[0;34m\u001b[0m\u001b[0m\n\u001b[0m\u001b[1;32m   1057\u001b[0m             \u001b[0;31m# Make sure that we get a last message telling us we are done\u001b[0m\u001b[0;34m\u001b[0m\u001b[0;34m\u001b[0m\u001b[0;34m\u001b[0m\u001b[0m\n\u001b[1;32m   1058\u001b[0m             \u001b[0melapsed_time\u001b[0m \u001b[0;34m=\u001b[0m \u001b[0mtime\u001b[0m\u001b[0;34m.\u001b[0m\u001b[0mtime\u001b[0m\u001b[0;34m(\u001b[0m\u001b[0;34m)\u001b[0m \u001b[0;34m-\u001b[0m \u001b[0mself\u001b[0m\u001b[0;34m.\u001b[0m\u001b[0m_start_time\u001b[0m\u001b[0;34m\u001b[0m\u001b[0;34m\u001b[0m\u001b[0m\n",
      "\u001b[0;32m/opt/conda/lib/python3.7/site-packages/joblib/parallel.py\u001b[0m in \u001b[0;36mretrieve\u001b[0;34m(self)\u001b[0m\n\u001b[1;32m    933\u001b[0m             \u001b[0;32mtry\u001b[0m\u001b[0;34m:\u001b[0m\u001b[0;34m\u001b[0m\u001b[0;34m\u001b[0m\u001b[0m\n\u001b[1;32m    934\u001b[0m                 \u001b[0;32mif\u001b[0m \u001b[0mgetattr\u001b[0m\u001b[0;34m(\u001b[0m\u001b[0mself\u001b[0m\u001b[0;34m.\u001b[0m\u001b[0m_backend\u001b[0m\u001b[0;34m,\u001b[0m \u001b[0;34m'supports_timeout'\u001b[0m\u001b[0;34m,\u001b[0m \u001b[0;32mFalse\u001b[0m\u001b[0;34m)\u001b[0m\u001b[0;34m:\u001b[0m\u001b[0;34m\u001b[0m\u001b[0;34m\u001b[0m\u001b[0m\n\u001b[0;32m--> 935\u001b[0;31m                     \u001b[0mself\u001b[0m\u001b[0;34m.\u001b[0m\u001b[0m_output\u001b[0m\u001b[0;34m.\u001b[0m\u001b[0mextend\u001b[0m\u001b[0;34m(\u001b[0m\u001b[0mjob\u001b[0m\u001b[0;34m.\u001b[0m\u001b[0mget\u001b[0m\u001b[0;34m(\u001b[0m\u001b[0mtimeout\u001b[0m\u001b[0;34m=\u001b[0m\u001b[0mself\u001b[0m\u001b[0;34m.\u001b[0m\u001b[0mtimeout\u001b[0m\u001b[0;34m)\u001b[0m\u001b[0;34m)\u001b[0m\u001b[0;34m\u001b[0m\u001b[0;34m\u001b[0m\u001b[0m\n\u001b[0m\u001b[1;32m    936\u001b[0m                 \u001b[0;32melse\u001b[0m\u001b[0;34m:\u001b[0m\u001b[0;34m\u001b[0m\u001b[0;34m\u001b[0m\u001b[0m\n\u001b[1;32m    937\u001b[0m                     \u001b[0mself\u001b[0m\u001b[0;34m.\u001b[0m\u001b[0m_output\u001b[0m\u001b[0;34m.\u001b[0m\u001b[0mextend\u001b[0m\u001b[0;34m(\u001b[0m\u001b[0mjob\u001b[0m\u001b[0;34m.\u001b[0m\u001b[0mget\u001b[0m\u001b[0;34m(\u001b[0m\u001b[0;34m)\u001b[0m\u001b[0;34m)\u001b[0m\u001b[0;34m\u001b[0m\u001b[0;34m\u001b[0m\u001b[0m\n",
      "\u001b[0;32m/opt/conda/lib/python3.7/site-packages/joblib/_parallel_backends.py\u001b[0m in \u001b[0;36mwrap_future_result\u001b[0;34m(future, timeout)\u001b[0m\n\u001b[1;32m    540\u001b[0m         AsyncResults.get from multiprocessing.\"\"\"\n\u001b[1;32m    541\u001b[0m         \u001b[0;32mtry\u001b[0m\u001b[0;34m:\u001b[0m\u001b[0;34m\u001b[0m\u001b[0;34m\u001b[0m\u001b[0m\n\u001b[0;32m--> 542\u001b[0;31m             \u001b[0;32mreturn\u001b[0m \u001b[0mfuture\u001b[0m\u001b[0;34m.\u001b[0m\u001b[0mresult\u001b[0m\u001b[0;34m(\u001b[0m\u001b[0mtimeout\u001b[0m\u001b[0;34m=\u001b[0m\u001b[0mtimeout\u001b[0m\u001b[0;34m)\u001b[0m\u001b[0;34m\u001b[0m\u001b[0;34m\u001b[0m\u001b[0m\n\u001b[0m\u001b[1;32m    543\u001b[0m         \u001b[0;32mexcept\u001b[0m \u001b[0mCfTimeoutError\u001b[0m \u001b[0;32mas\u001b[0m \u001b[0me\u001b[0m\u001b[0;34m:\u001b[0m\u001b[0;34m\u001b[0m\u001b[0;34m\u001b[0m\u001b[0m\n\u001b[1;32m    544\u001b[0m             \u001b[0;32mraise\u001b[0m \u001b[0mTimeoutError\u001b[0m \u001b[0;32mfrom\u001b[0m \u001b[0me\u001b[0m\u001b[0;34m\u001b[0m\u001b[0;34m\u001b[0m\u001b[0m\n",
      "\u001b[0;32m/opt/conda/lib/python3.7/concurrent/futures/_base.py\u001b[0m in \u001b[0;36mresult\u001b[0;34m(self, timeout)\u001b[0m\n\u001b[1;32m    433\u001b[0m                 \u001b[0;32mraise\u001b[0m \u001b[0mCancelledError\u001b[0m\u001b[0;34m(\u001b[0m\u001b[0;34m)\u001b[0m\u001b[0;34m\u001b[0m\u001b[0;34m\u001b[0m\u001b[0m\n\u001b[1;32m    434\u001b[0m             \u001b[0;32melif\u001b[0m \u001b[0mself\u001b[0m\u001b[0;34m.\u001b[0m\u001b[0m_state\u001b[0m \u001b[0;34m==\u001b[0m \u001b[0mFINISHED\u001b[0m\u001b[0;34m:\u001b[0m\u001b[0;34m\u001b[0m\u001b[0;34m\u001b[0m\u001b[0m\n\u001b[0;32m--> 435\u001b[0;31m                 \u001b[0;32mreturn\u001b[0m \u001b[0mself\u001b[0m\u001b[0;34m.\u001b[0m\u001b[0m__get_result\u001b[0m\u001b[0;34m(\u001b[0m\u001b[0;34m)\u001b[0m\u001b[0;34m\u001b[0m\u001b[0;34m\u001b[0m\u001b[0m\n\u001b[0m\u001b[1;32m    436\u001b[0m             \u001b[0;32melse\u001b[0m\u001b[0;34m:\u001b[0m\u001b[0;34m\u001b[0m\u001b[0;34m\u001b[0m\u001b[0m\n\u001b[1;32m    437\u001b[0m                 \u001b[0;32mraise\u001b[0m \u001b[0mTimeoutError\u001b[0m\u001b[0;34m(\u001b[0m\u001b[0;34m)\u001b[0m\u001b[0;34m\u001b[0m\u001b[0;34m\u001b[0m\u001b[0m\n",
      "\u001b[0;32m/opt/conda/lib/python3.7/concurrent/futures/_base.py\u001b[0m in \u001b[0;36m__get_result\u001b[0;34m(self)\u001b[0m\n\u001b[1;32m    382\u001b[0m     \u001b[0;32mdef\u001b[0m \u001b[0m__get_result\u001b[0m\u001b[0;34m(\u001b[0m\u001b[0mself\u001b[0m\u001b[0;34m)\u001b[0m\u001b[0;34m:\u001b[0m\u001b[0;34m\u001b[0m\u001b[0;34m\u001b[0m\u001b[0m\n\u001b[1;32m    383\u001b[0m         \u001b[0;32mif\u001b[0m \u001b[0mself\u001b[0m\u001b[0;34m.\u001b[0m\u001b[0m_exception\u001b[0m\u001b[0;34m:\u001b[0m\u001b[0;34m\u001b[0m\u001b[0;34m\u001b[0m\u001b[0m\n\u001b[0;32m--> 384\u001b[0;31m             \u001b[0;32mraise\u001b[0m \u001b[0mself\u001b[0m\u001b[0;34m.\u001b[0m\u001b[0m_exception\u001b[0m\u001b[0;34m\u001b[0m\u001b[0;34m\u001b[0m\u001b[0m\n\u001b[0m\u001b[1;32m    385\u001b[0m         \u001b[0;32melse\u001b[0m\u001b[0;34m:\u001b[0m\u001b[0;34m\u001b[0m\u001b[0;34m\u001b[0m\u001b[0m\n\u001b[1;32m    386\u001b[0m             \u001b[0;32mreturn\u001b[0m \u001b[0mself\u001b[0m\u001b[0;34m.\u001b[0m\u001b[0m_result\u001b[0m\u001b[0;34m\u001b[0m\u001b[0;34m\u001b[0m\u001b[0m\n",
      "\u001b[0;31mIndexError\u001b[0m: single positional indexer is out-of-bounds"
     ]
    }
   ],
   "source": [
    "submission = Parallel(n_jobs=-1)(delayed(predict)(c_id) for c_id in tqdm(sub_c_ids))"
   ]
  },
  {
   "cell_type": "code",
   "execution_count": null,
   "id": "b587d075-7483-40ba-bda3-f939a82a257b",
   "metadata": {},
   "outputs": [],
   "source": []
  },
  {
   "cell_type": "code",
   "execution_count": null,
   "id": "b8e1b418-af62-4dfb-98ba-e1b2e7534121",
   "metadata": {},
   "outputs": [],
   "source": []
  },
  {
   "cell_type": "code",
   "execution_count": null,
   "id": "05abe504-f0a8-4532-8c29-e0ac30321a74",
   "metadata": {},
   "outputs": [],
   "source": []
  },
  {
   "cell_type": "code",
   "execution_count": null,
   "id": "3303c849-0e19-4153-b107-142ac020ae75",
   "metadata": {},
   "outputs": [],
   "source": []
  },
  {
   "cell_type": "code",
   "execution_count": null,
   "id": "94f9e754-173e-468d-9304-7a5819515026",
   "metadata": {},
   "outputs": [],
   "source": []
  },
  {
   "cell_type": "code",
   "execution_count": null,
   "id": "fd9dfed1-323f-400d-8e65-d6f675d097ec",
   "metadata": {},
   "outputs": [],
   "source": []
  },
  {
   "cell_type": "code",
   "execution_count": null,
   "id": "b6b65dc3-0c5d-4aa5-b94f-16f90d407bdf",
   "metadata": {},
   "outputs": [],
   "source": []
  },
  {
   "cell_type": "code",
   "execution_count": null,
   "id": "fb93cd8e-9b7e-4fac-b90a-9af6718a40df",
   "metadata": {},
   "outputs": [],
   "source": [
    "_, sub_data = split_data(train, \"2020-09-22\", 7)"
   ]
  },
  {
   "cell_type": "code",
   "execution_count": null,
   "id": "3bee5b08-81ef-4b2a-b6e4-c64b85104aa6",
   "metadata": {},
   "outputs": [],
   "source": [
    "purchased_articles = most_purchase_articles_each_customer(sub_data)"
   ]
  },
  {
   "cell_type": "code",
   "execution_count": null,
   "id": "a6c18165-266e-4412-b971-7794cb31c832",
   "metadata": {},
   "outputs": [],
   "source": [
    "pop_result = most_popular_articles(sub_data)"
   ]
  },
  {
   "cell_type": "code",
   "execution_count": null,
   "id": "594d392a-4eb9-47e4-aa6d-e6f0aad67e0c",
   "metadata": {},
   "outputs": [],
   "source": [
    "resultlt = purchased_articles[[\"customer_id\"]].copy()\n",
    "\n",
    "pred = pd.concat([purchased_articles[\"top_purchased_articles\"], purchased_articles[\"top_purchased_articles\"]], axis=1)\n",
    "result[\"prediction\"] = pred.apply(ensemble, weights=[1, 1], axis=1)"
   ]
  },
  {
   "cell_type": "code",
   "execution_count": null,
   "id": "254239c5-eb7d-485c-91a9-5902ab601393",
   "metadata": {},
   "outputs": [],
   "source": [
    "result.head()"
   ]
  },
  {
   "cell_type": "markdown",
   "id": "da89f8a4-d3fb-48f8-b2ca-24c7e971f210",
   "metadata": {},
   "source": [
    "## Submission"
   ]
  },
  {
   "cell_type": "code",
   "execution_count": null,
   "id": "020d95b1-da40-4ae8-8d8d-ab18c64d791a",
   "metadata": {},
   "outputs": [],
   "source": [
    "sub = pd.read_csv(\"../data/raw/sample_submission.csv\")"
   ]
  },
  {
   "cell_type": "code",
   "execution_count": null,
   "id": "e09cc30a-8dec-4176-a2fd-b1e9d34d1338",
   "metadata": {},
   "outputs": [],
   "source": [
    "sub = sub[[\"customer_id\"]].copy().reset_index(drop=True)\n",
    "sub = sub.merge(result, how=\"left\", on=\"customer_id\").fillna(\"\")\n",
    "\n",
    "sub[\"prediction\"] = sub[\"prediction\"] + pop_result\n",
    "sub[\"prediction\"] = sub[\"prediction\"].str.strip()\n",
    "sub[\"prediction\"] = sub[\"prediction\"].str[:131]"
   ]
  },
  {
   "cell_type": "code",
   "execution_count": null,
   "id": "2d219187-774a-42a8-9fd7-cbf63fe65a0b",
   "metadata": {},
   "outputs": [],
   "source": [
    "sub.to_csv(\"../data/submit/00101.csv\", index=False)\n",
    "sub.head()"
   ]
  },
  {
   "cell_type": "code",
   "execution_count": null,
   "id": "3151a28d-4e0f-4799-9f89-3a1fd7f3477f",
   "metadata": {},
   "outputs": [],
   "source": []
  }
 ],
 "metadata": {
  "kernelspec": {
   "display_name": "Python 3 (ipykernel)",
   "language": "python",
   "name": "python3"
  },
  "language_info": {
   "codemirror_mode": {
    "name": "ipython",
    "version": 3
   },
   "file_extension": ".py",
   "mimetype": "text/x-python",
   "name": "python",
   "nbconvert_exporter": "python",
   "pygments_lexer": "ipython3",
   "version": "3.7.12"
  }
 },
 "nbformat": 4,
 "nbformat_minor": 5
}
