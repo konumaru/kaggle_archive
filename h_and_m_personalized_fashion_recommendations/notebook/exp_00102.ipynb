{
 "cells": [
  {
   "cell_type": "code",
   "execution_count": 1,
   "id": "afad3e08-84a3-44f7-b09c-864fa97ee753",
   "metadata": {},
   "outputs": [],
   "source": [
    "import numpy as np\n",
    "import pandas as pd\n",
    "from tqdm.notebook import tqdm\n",
    "\n",
    "from datetime import timedelta, datetime\n",
    "\n",
    "from joblib import Parallel, delayed\n",
    "\n",
    "from typing import List"
   ]
  },
  {
   "cell_type": "code",
   "execution_count": 2,
   "id": "a2ca7ecf-b1fc-43a8-ac55-5f9d68bc84e2",
   "metadata": {},
   "outputs": [],
   "source": [
    "train = pd.read_parquet(\"../data/working/transactions_train.parquet\")\n",
    "train[\"t_dat\"] = pd.to_datetime(train[\"t_dat\"])"
   ]
  },
  {
   "cell_type": "code",
   "execution_count": 3,
   "id": "a7f4a4bc-96a3-4ffe-91ce-56a083b5e543",
   "metadata": {},
   "outputs": [
    {
     "data": {
      "text/html": [
       "<div>\n",
       "<style scoped>\n",
       "    .dataframe tbody tr th:only-of-type {\n",
       "        vertical-align: middle;\n",
       "    }\n",
       "\n",
       "    .dataframe tbody tr th {\n",
       "        vertical-align: top;\n",
       "    }\n",
       "\n",
       "    .dataframe thead th {\n",
       "        text-align: right;\n",
       "    }\n",
       "</style>\n",
       "<table border=\"1\" class=\"dataframe\">\n",
       "  <thead>\n",
       "    <tr style=\"text-align: right;\">\n",
       "      <th></th>\n",
       "      <th>t_dat</th>\n",
       "      <th>customer_id</th>\n",
       "      <th>article_id</th>\n",
       "      <th>price</th>\n",
       "      <th>sales_channel_id</th>\n",
       "    </tr>\n",
       "  </thead>\n",
       "  <tbody>\n",
       "    <tr>\n",
       "      <th>0</th>\n",
       "      <td>2018-09-20</td>\n",
       "      <td>000058a12d5b43e67d225668fa1f8d618c13dc232df0ca...</td>\n",
       "      <td>663713001</td>\n",
       "      <td>0.050831</td>\n",
       "      <td>2</td>\n",
       "    </tr>\n",
       "    <tr>\n",
       "      <th>1</th>\n",
       "      <td>2018-09-20</td>\n",
       "      <td>000058a12d5b43e67d225668fa1f8d618c13dc232df0ca...</td>\n",
       "      <td>541518023</td>\n",
       "      <td>0.030492</td>\n",
       "      <td>2</td>\n",
       "    </tr>\n",
       "    <tr>\n",
       "      <th>2</th>\n",
       "      <td>2018-09-20</td>\n",
       "      <td>00007d2de826758b65a93dd24ce629ed66842531df6699...</td>\n",
       "      <td>505221004</td>\n",
       "      <td>0.015237</td>\n",
       "      <td>2</td>\n",
       "    </tr>\n",
       "    <tr>\n",
       "      <th>3</th>\n",
       "      <td>2018-09-20</td>\n",
       "      <td>00007d2de826758b65a93dd24ce629ed66842531df6699...</td>\n",
       "      <td>685687003</td>\n",
       "      <td>0.016932</td>\n",
       "      <td>2</td>\n",
       "    </tr>\n",
       "    <tr>\n",
       "      <th>4</th>\n",
       "      <td>2018-09-20</td>\n",
       "      <td>00007d2de826758b65a93dd24ce629ed66842531df6699...</td>\n",
       "      <td>685687004</td>\n",
       "      <td>0.016932</td>\n",
       "      <td>2</td>\n",
       "    </tr>\n",
       "  </tbody>\n",
       "</table>\n",
       "</div>"
      ],
      "text/plain": [
       "       t_dat                                        customer_id  article_id  \\\n",
       "0 2018-09-20  000058a12d5b43e67d225668fa1f8d618c13dc232df0ca...   663713001   \n",
       "1 2018-09-20  000058a12d5b43e67d225668fa1f8d618c13dc232df0ca...   541518023   \n",
       "2 2018-09-20  00007d2de826758b65a93dd24ce629ed66842531df6699...   505221004   \n",
       "3 2018-09-20  00007d2de826758b65a93dd24ce629ed66842531df6699...   685687003   \n",
       "4 2018-09-20  00007d2de826758b65a93dd24ce629ed66842531df6699...   685687004   \n",
       "\n",
       "      price  sales_channel_id  \n",
       "0  0.050831                 2  \n",
       "1  0.030492                 2  \n",
       "2  0.015237                 2  \n",
       "3  0.016932                 2  \n",
       "4  0.016932                 2  "
      ]
     },
     "execution_count": 3,
     "metadata": {},
     "output_type": "execute_result"
    }
   ],
   "source": [
    "train.head()"
   ]
  },
  {
   "cell_type": "markdown",
   "id": "d6194b1b-8f96-4ead-8265-832cef3a3278",
   "metadata": {},
   "source": [
    "## Split data"
   ]
  },
  {
   "cell_type": "code",
   "execution_count": 4,
   "id": "f2a74d83-c6c3-45fa-bc5e-49ee753e0f20",
   "metadata": {},
   "outputs": [],
   "source": [
    "def split_data(data: pd.DataFrame, base_date: str, train_days: int = 7):\n",
    "    eval_days = 7\n",
    "    \n",
    "    eval_end_date = datetime.strptime(base_date, '%Y-%m-%d')\n",
    "    eval_start_date = eval_end_date - timedelta(days=7)\n",
    "    \n",
    "    train_end_date = eval_start_date\n",
    "    train_start_date = train_end_date - timedelta(days=train_days)\n",
    "    \n",
    "    eval_data = data[(train[\"t_dat\"] <= eval_end_date) & (data[\"t_dat\"] > eval_start_date)]\n",
    "    train_data = data[(train[\"t_dat\"] <= train_end_date) & (data[\"t_dat\"] > train_start_date)]\n",
    "    \n",
    "    return train_data, eval_data"
   ]
  },
  {
   "cell_type": "code",
   "execution_count": 5,
   "id": "4616ff75-91c5-4cb5-ac2f-b5851a7149a4",
   "metadata": {},
   "outputs": [],
   "source": [
    "train_data, eval_data = split_data(train, \"2020-09-15\", 7)"
   ]
  },
  {
   "cell_type": "code",
   "execution_count": 6,
   "id": "5233fcda-eb89-4561-9de8-a3befa0c1a02",
   "metadata": {},
   "outputs": [],
   "source": [
    "def create_target(data: pd.DataFrame):\n",
    "    result = eval_data.groupby(\"customer_id\")[\"article_id\"].agg(list).to_frame().reset_index()\n",
    "    return result"
   ]
  },
  {
   "cell_type": "code",
   "execution_count": 7,
   "id": "1e76d9c2-78c5-40d0-8695-4bee29aef246",
   "metadata": {},
   "outputs": [],
   "source": [
    "eval_target = create_target(eval_data)"
   ]
  },
  {
   "cell_type": "markdown",
   "id": "0d57ba8f-12a9-48bd-865c-dcb4c789eda6",
   "metadata": {},
   "source": [
    "## Make some rules"
   ]
  },
  {
   "cell_type": "code",
   "execution_count": 26,
   "id": "de1677dc-9a75-47c1-b338-f843efe26d92",
   "metadata": {},
   "outputs": [],
   "source": [
    "def most_popular_articles(data: pd.DataFrame) -> List:\n",
    "    popular_articles = data[\"article_id\"].value_counts().nlargest(12)\n",
    "    popular_articles = popular_articles.index.tolist()\n",
    "    popular_articles = ' '.join(['0' + str(r) for r in popular_articles])\n",
    "    return popular_articles\n",
    "\n",
    "\n",
    "def most_purchase_articles_each_customer(data: pd.DataFrame):\n",
    "    def _func(c_id, gdf):\n",
    "        res = most_popular_articles(gdf)\n",
    "        return (c_id, res)\n",
    "    result = Parallel(n_jobs=-1)(delayed(_func)(c_id, gdf) for c_id, gdf in tqdm(data.groupby(\"customer_id\")))\n",
    "    result = pd.DataFrame(columns=[\"customer_id\", \"top_purchased_articles\"], data=result)\n",
    "    return result"
   ]
  },
  {
   "cell_type": "code",
   "execution_count": 27,
   "id": "c4f2f44d-03d1-4025-8827-9e2368fb12bf",
   "metadata": {},
   "outputs": [
    {
     "data": {
      "application/vnd.jupyter.widget-view+json": {
       "model_id": "ba012f536a3244b4be02bdc3c8cbd5e1",
       "version_major": 2,
       "version_minor": 0
      },
      "text/plain": [
       "  0%|          | 0/75822 [00:00<?, ?it/s]"
      ]
     },
     "metadata": {},
     "output_type": "display_data"
    }
   ],
   "source": [
    "purchased_articles = most_purchase_articles_each_customer(train_data)"
   ]
  },
  {
   "cell_type": "code",
   "execution_count": 28,
   "id": "8be90670-b9f0-4a56-b2cb-aece449310f2",
   "metadata": {},
   "outputs": [],
   "source": [
    "pop_result = most_popular_articles(train_data)"
   ]
  },
  {
   "cell_type": "code",
   "execution_count": 29,
   "id": "ab9d21c4-1922-49ba-b020-36201f0ad4ec",
   "metadata": {},
   "outputs": [],
   "source": [
    "def ensemble(row: pd.DataFrame, weights: List):\n",
    "    assert len(row) == len(weights)\n",
    "    row = row.str.split(\" \")\n",
    "    res = {}\n",
    "    for i, _r in enumerate(row):\n",
    "        w = weights[i]\n",
    "        for a_id in _r:\n",
    "            if a_id in res.keys():\n",
    "                res[a_id] += w * 1 / sum(weights)\n",
    "            else:\n",
    "                res[a_id] = w * 1 / sum(weights)\n",
    "    res = list(dict(sorted(res.items(), key=lambda item: -item[1])).keys())\n",
    "    return \" \".join(res[:12])"
   ]
  },
  {
   "cell_type": "code",
   "execution_count": 30,
   "id": "ab36fa58-45ac-4057-8877-1f0ba11caeb5",
   "metadata": {},
   "outputs": [],
   "source": [
    "result = purchased_articles[[\"customer_id\"]].copy()\n",
    "\n",
    "pred = pd.concat([purchased_articles[\"top_purchased_articles\"], purchased_articles[\"top_purchased_articles\"]], axis=1)\n",
    "result[\"prediction\"] = pred.apply(ensemble, weights=[1, 1], axis=1)"
   ]
  },
  {
   "cell_type": "code",
   "execution_count": 31,
   "id": "1a24f4bf-18a8-493b-af34-fccd80201be9",
   "metadata": {},
   "outputs": [],
   "source": [
    "pred_data = eval_target[[\"customer_id\"]].copy().reset_index(drop=True)\n",
    "pred_data = pred_data.merge(result, how=\"left\", on=\"customer_id\").fillna(\"\")\n",
    "\n",
    "pred_data[\"prediction\"] = pred_data[\"prediction\"] + pop_result\n",
    "pred_data[\"prediction\"] = pred_data[\"prediction\"].str.strip()\n",
    "pred_data[\"prediction\"] = pred_data[\"prediction\"].str[:131]"
   ]
  },
  {
   "cell_type": "code",
   "execution_count": 32,
   "id": "ce3fe919-7ea5-47ef-9238-b36986daf99f",
   "metadata": {},
   "outputs": [
    {
     "data": {
      "text/html": [
       "<div>\n",
       "<style scoped>\n",
       "    .dataframe tbody tr th:only-of-type {\n",
       "        vertical-align: middle;\n",
       "    }\n",
       "\n",
       "    .dataframe tbody tr th {\n",
       "        vertical-align: top;\n",
       "    }\n",
       "\n",
       "    .dataframe thead th {\n",
       "        text-align: right;\n",
       "    }\n",
       "</style>\n",
       "<table border=\"1\" class=\"dataframe\">\n",
       "  <thead>\n",
       "    <tr style=\"text-align: right;\">\n",
       "      <th></th>\n",
       "      <th>customer_id</th>\n",
       "      <th>prediction</th>\n",
       "    </tr>\n",
       "  </thead>\n",
       "  <tbody>\n",
       "    <tr>\n",
       "      <th>0</th>\n",
       "      <td>000058a12d5b43e67d225668fa1f8d618c13dc232df0ca...</td>\n",
       "      <td>0915526001 0751471043 0751471001 0706016001 09...</td>\n",
       "    </tr>\n",
       "    <tr>\n",
       "      <th>1</th>\n",
       "      <td>0000757967448a6cb83efb3ea7a3fb9d418ac7adf2379d...</td>\n",
       "      <td>0915526001 0751471043 0751471001 0706016001 09...</td>\n",
       "    </tr>\n",
       "    <tr>\n",
       "      <th>2</th>\n",
       "      <td>0001d44dbe7f6c4b35200abdb052c77a87596fe1bdcc37...</td>\n",
       "      <td>0572998013 0909869004 0923134003 0935858001 08...</td>\n",
       "    </tr>\n",
       "    <tr>\n",
       "      <th>3</th>\n",
       "      <td>0003e867a930d0d6842f923d6ba7c9b77aba33fe2a0fbf...</td>\n",
       "      <td>0913367001 0904026001 09059140020915526001 075...</td>\n",
       "    </tr>\n",
       "    <tr>\n",
       "      <th>4</th>\n",
       "      <td>00040239317e877c77ac6e79df42eb2633ad38fcac09fc...</td>\n",
       "      <td>0915526001 0751471043 0751471001 0706016001 09...</td>\n",
       "    </tr>\n",
       "  </tbody>\n",
       "</table>\n",
       "</div>"
      ],
      "text/plain": [
       "                                         customer_id  \\\n",
       "0  000058a12d5b43e67d225668fa1f8d618c13dc232df0ca...   \n",
       "1  0000757967448a6cb83efb3ea7a3fb9d418ac7adf2379d...   \n",
       "2  0001d44dbe7f6c4b35200abdb052c77a87596fe1bdcc37...   \n",
       "3  0003e867a930d0d6842f923d6ba7c9b77aba33fe2a0fbf...   \n",
       "4  00040239317e877c77ac6e79df42eb2633ad38fcac09fc...   \n",
       "\n",
       "                                          prediction  \n",
       "0  0915526001 0751471043 0751471001 0706016001 09...  \n",
       "1  0915526001 0751471043 0751471001 0706016001 09...  \n",
       "2  0572998013 0909869004 0923134003 0935858001 08...  \n",
       "3  0913367001 0904026001 09059140020915526001 075...  \n",
       "4  0915526001 0751471043 0751471001 0706016001 09...  "
      ]
     },
     "execution_count": 32,
     "metadata": {},
     "output_type": "execute_result"
    }
   ],
   "source": [
    "pred_data.head()"
   ]
  },
  {
   "cell_type": "markdown",
   "id": "e8442cac-8f3b-4aba-8d3f-bae9aa1f47e7",
   "metadata": {
    "tags": []
   },
   "source": [
    "## Evaluation"
   ]
  },
  {
   "cell_type": "code",
   "execution_count": 16,
   "id": "11dfb18e-a303-4792-9113-72b8cc100043",
   "metadata": {},
   "outputs": [],
   "source": [
    "def average_precision(target, predict, k=12):\n",
    "    len_target = min(len(target), k)\n",
    "\n",
    "    score = 0.0\n",
    "    num_hits = 0.0\n",
    "    for i, p in enumerate(predict):\n",
    "        if p in target and p not in predict[:i]:\n",
    "            num_hits += 1.0\n",
    "            score += num_hits / (i + 1.0)\n",
    "\n",
    "    return score / min(len_target, k)\n",
    "\n",
    "\n",
    "def mean_average_precision(targets, predicts, k=12):\n",
    "    map_top_k = np.mean([average_precision(t, p) for t, p in zip(targets, predicts)])\n",
    "    assert 0.0 <= map_top_k <= 1.0, \"map_top_k must be 0.0 <= map_top_k <= 1.0\"\n",
    "    return map_top_k"
   ]
  },
  {
   "cell_type": "code",
   "execution_count": 17,
   "id": "f1a3096c-14e2-418b-baae-6d5ca5d2e400",
   "metadata": {
    "tags": []
   },
   "outputs": [
    {
     "data": {
      "text/plain": [
       "0.012716760347330937"
      ]
     },
     "execution_count": 17,
     "metadata": {},
     "output_type": "execute_result"
    }
   ],
   "source": [
    "target = eval_target[\"article_id\"].tolist()\n",
    "\n",
    "pred = pred_data[\"prediction\"].str[1:]\n",
    "pred = pred.str.split(\" 0\").tolist()\n",
    "pred = [[int(_p) for _p in p] for p in pred]\n",
    "\n",
    "mean_average_precision(target, pred)"
   ]
  },
  {
   "cell_type": "markdown",
   "id": "cd36a7c6-e025-4979-8582-aacb73607ff7",
   "metadata": {},
   "source": [
    "## Prediction"
   ]
  },
  {
   "cell_type": "code",
   "execution_count": 18,
   "id": "fb93cd8e-9b7e-4fac-b90a-9af6718a40df",
   "metadata": {},
   "outputs": [],
   "source": [
    "_, sub_data = split_data(train, \"2020-09-22\", 7)"
   ]
  },
  {
   "cell_type": "code",
   "execution_count": 19,
   "id": "3bee5b08-81ef-4b2a-b6e4-c64b85104aa6",
   "metadata": {},
   "outputs": [
    {
     "data": {
      "application/vnd.jupyter.widget-view+json": {
       "model_id": "a6acfaa419374f11a5d55c8480c13fc5",
       "version_major": 2,
       "version_minor": 0
      },
      "text/plain": [
       "  0%|          | 0/68984 [00:00<?, ?it/s]"
      ]
     },
     "metadata": {},
     "output_type": "display_data"
    }
   ],
   "source": [
    "purchased_articles = most_purchase_articles_each_customer(sub_data)"
   ]
  },
  {
   "cell_type": "code",
   "execution_count": 20,
   "id": "a6c18165-266e-4412-b971-7794cb31c832",
   "metadata": {},
   "outputs": [],
   "source": [
    "pop_result = most_popular_articles(sub_data)"
   ]
  },
  {
   "cell_type": "code",
   "execution_count": 21,
   "id": "594d392a-4eb9-47e4-aa6d-e6f0aad67e0c",
   "metadata": {},
   "outputs": [],
   "source": [
    "resultlt = purchased_articles[[\"customer_id\"]].copy()\n",
    "\n",
    "pred = pd.concat([purchased_articles[\"top_purchased_articles\"], purchased_articles[\"top_purchased_articles\"]], axis=1)\n",
    "result[\"prediction\"] = pred.apply(ensemble, weights=[1, 1], axis=1)"
   ]
  },
  {
   "cell_type": "code",
   "execution_count": 22,
   "id": "254239c5-eb7d-485c-91a9-5902ab601393",
   "metadata": {},
   "outputs": [
    {
     "data": {
      "text/html": [
       "<div>\n",
       "<style scoped>\n",
       "    .dataframe tbody tr th:only-of-type {\n",
       "        vertical-align: middle;\n",
       "    }\n",
       "\n",
       "    .dataframe tbody tr th {\n",
       "        vertical-align: top;\n",
       "    }\n",
       "\n",
       "    .dataframe thead th {\n",
       "        text-align: right;\n",
       "    }\n",
       "</style>\n",
       "<table border=\"1\" class=\"dataframe\">\n",
       "  <thead>\n",
       "    <tr style=\"text-align: right;\">\n",
       "      <th></th>\n",
       "      <th>customer_id</th>\n",
       "      <th>prediction</th>\n",
       "    </tr>\n",
       "  </thead>\n",
       "  <tbody>\n",
       "    <tr>\n",
       "      <th>0</th>\n",
       "      <td>00000dbacae5abe5e23885899a1fa44253a17956c6d1c3...</td>\n",
       "      <td>0624486001</td>\n",
       "    </tr>\n",
       "    <tr>\n",
       "      <th>1</th>\n",
       "      <td>000172a9c322560c849754ffbdfdb2180d408aa7176b94...</td>\n",
       "      <td>0827487003</td>\n",
       "    </tr>\n",
       "    <tr>\n",
       "      <th>2</th>\n",
       "      <td>0001d44dbe7f6c4b35200abdb052c77a87596fe1bdcc37...</td>\n",
       "      <td>0757926001 0788575004 0640021019</td>\n",
       "    </tr>\n",
       "    <tr>\n",
       "      <th>3</th>\n",
       "      <td>0001f8cef6b9702d54abf66fd89eb21014bf98567065a9...</td>\n",
       "      <td>0874110016</td>\n",
       "    </tr>\n",
       "    <tr>\n",
       "      <th>4</th>\n",
       "      <td>0002cca4cc68601e894ab62839428e5f0696417fe0f9e8...</td>\n",
       "      <td>0903762001 0879189005 0158340001 0867966009 09...</td>\n",
       "    </tr>\n",
       "  </tbody>\n",
       "</table>\n",
       "</div>"
      ],
      "text/plain": [
       "                                         customer_id  \\\n",
       "0  00000dbacae5abe5e23885899a1fa44253a17956c6d1c3...   \n",
       "1  000172a9c322560c849754ffbdfdb2180d408aa7176b94...   \n",
       "2  0001d44dbe7f6c4b35200abdb052c77a87596fe1bdcc37...   \n",
       "3  0001f8cef6b9702d54abf66fd89eb21014bf98567065a9...   \n",
       "4  0002cca4cc68601e894ab62839428e5f0696417fe0f9e8...   \n",
       "\n",
       "                                          prediction  \n",
       "0                                         0624486001  \n",
       "1                                         0827487003  \n",
       "2                   0757926001 0788575004 0640021019  \n",
       "3                                         0874110016  \n",
       "4  0903762001 0879189005 0158340001 0867966009 09...  "
      ]
     },
     "execution_count": 22,
     "metadata": {},
     "output_type": "execute_result"
    }
   ],
   "source": [
    "result.head()"
   ]
  },
  {
   "cell_type": "markdown",
   "id": "da89f8a4-d3fb-48f8-b2ca-24c7e971f210",
   "metadata": {},
   "source": [
    "## Submission"
   ]
  },
  {
   "cell_type": "code",
   "execution_count": 23,
   "id": "020d95b1-da40-4ae8-8d8d-ab18c64d791a",
   "metadata": {},
   "outputs": [],
   "source": [
    "sub = pd.read_csv(\"../data/raw/sample_submission.csv\")"
   ]
  },
  {
   "cell_type": "code",
   "execution_count": 24,
   "id": "e09cc30a-8dec-4176-a2fd-b1e9d34d1338",
   "metadata": {},
   "outputs": [],
   "source": [
    "sub = sub[[\"customer_id\"]].copy().reset_index(drop=True)\n",
    "sub = sub.merge(result, how=\"left\", on=\"customer_id\").fillna(\"\")\n",
    "\n",
    "sub[\"prediction\"] = sub[\"prediction\"] + pop_result\n",
    "sub[\"prediction\"] = sub[\"prediction\"].str.strip()\n",
    "sub[\"prediction\"] = sub[\"prediction\"].str[:131]"
   ]
  },
  {
   "cell_type": "code",
   "execution_count": 25,
   "id": "2d219187-774a-42a8-9fd7-cbf63fe65a0b",
   "metadata": {},
   "outputs": [
    {
     "data": {
      "text/html": [
       "<div>\n",
       "<style scoped>\n",
       "    .dataframe tbody tr th:only-of-type {\n",
       "        vertical-align: middle;\n",
       "    }\n",
       "\n",
       "    .dataframe tbody tr th {\n",
       "        vertical-align: top;\n",
       "    }\n",
       "\n",
       "    .dataframe thead th {\n",
       "        text-align: right;\n",
       "    }\n",
       "</style>\n",
       "<table border=\"1\" class=\"dataframe\">\n",
       "  <thead>\n",
       "    <tr style=\"text-align: right;\">\n",
       "      <th></th>\n",
       "      <th>customer_id</th>\n",
       "      <th>prediction</th>\n",
       "    </tr>\n",
       "  </thead>\n",
       "  <tbody>\n",
       "    <tr>\n",
       "      <th>0</th>\n",
       "      <td>00000dbacae5abe5e23885899a1fa44253a17956c6d1c3...</td>\n",
       "      <td>06244860010924243001 0924243002 0918522001 092...</td>\n",
       "    </tr>\n",
       "    <tr>\n",
       "      <th>1</th>\n",
       "      <td>0000423b00ade91418cceaf3b26c6af3dd342b51fd051e...</td>\n",
       "      <td>0924243001 0924243002 0918522001 0923758001 08...</td>\n",
       "    </tr>\n",
       "    <tr>\n",
       "      <th>2</th>\n",
       "      <td>000058a12d5b43e67d225668fa1f8d618c13dc232df0ca...</td>\n",
       "      <td>0924243001 0924243002 0918522001 0923758001 08...</td>\n",
       "    </tr>\n",
       "    <tr>\n",
       "      <th>3</th>\n",
       "      <td>00005ca1c9ed5f5146b52ac8639a40ca9d57aeff4d1bd2...</td>\n",
       "      <td>0924243001 0924243002 0918522001 0923758001 08...</td>\n",
       "    </tr>\n",
       "    <tr>\n",
       "      <th>4</th>\n",
       "      <td>00006413d8573cd20ed7128e53b7b13819fe5cfc2d801f...</td>\n",
       "      <td>0924243001 0924243002 0918522001 0923758001 08...</td>\n",
       "    </tr>\n",
       "  </tbody>\n",
       "</table>\n",
       "</div>"
      ],
      "text/plain": [
       "                                         customer_id  \\\n",
       "0  00000dbacae5abe5e23885899a1fa44253a17956c6d1c3...   \n",
       "1  0000423b00ade91418cceaf3b26c6af3dd342b51fd051e...   \n",
       "2  000058a12d5b43e67d225668fa1f8d618c13dc232df0ca...   \n",
       "3  00005ca1c9ed5f5146b52ac8639a40ca9d57aeff4d1bd2...   \n",
       "4  00006413d8573cd20ed7128e53b7b13819fe5cfc2d801f...   \n",
       "\n",
       "                                          prediction  \n",
       "0  06244860010924243001 0924243002 0918522001 092...  \n",
       "1  0924243001 0924243002 0918522001 0923758001 08...  \n",
       "2  0924243001 0924243002 0918522001 0923758001 08...  \n",
       "3  0924243001 0924243002 0918522001 0923758001 08...  \n",
       "4  0924243001 0924243002 0918522001 0923758001 08...  "
      ]
     },
     "execution_count": 25,
     "metadata": {},
     "output_type": "execute_result"
    }
   ],
   "source": [
    "sub.to_csv(\"../data/submit/00101.csv\", index=False)\n",
    "sub.head()"
   ]
  },
  {
   "cell_type": "code",
   "execution_count": null,
   "id": "3151a28d-4e0f-4799-9f89-3a1fd7f3477f",
   "metadata": {},
   "outputs": [],
   "source": []
  }
 ],
 "metadata": {
  "kernelspec": {
   "display_name": "Python 3 (ipykernel)",
   "language": "python",
   "name": "python3"
  },
  "language_info": {
   "codemirror_mode": {
    "name": "ipython",
    "version": 3
   },
   "file_extension": ".py",
   "mimetype": "text/x-python",
   "name": "python",
   "nbconvert_exporter": "python",
   "pygments_lexer": "ipython3",
   "version": "3.7.12"
  }
 },
 "nbformat": 4,
 "nbformat_minor": 5
}
