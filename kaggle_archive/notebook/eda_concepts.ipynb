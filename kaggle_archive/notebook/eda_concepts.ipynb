{
 "cells": [
  {
   "cell_type": "code",
   "execution_count": 1,
   "metadata": {},
   "outputs": [],
   "source": [
    "import pathlib\n",
    "\n",
    "import polars as pl"
   ]
  },
  {
   "cell_type": "code",
   "execution_count": 2,
   "metadata": {},
   "outputs": [],
   "source": [
    "raw_dirpath = pathlib.Path(\"../data/raw\")\n",
    "\n",
    "train = pl.read_csv(raw_dirpath / \"train.csv\")\n",
    "test = pl.read_csv(raw_dirpath / \"test.csv\")\n",
    "submission = pl.read_csv(raw_dirpath / \"sample_submission.csv\")\n",
    "concepts = pl.read_csv(raw_dirpath / \"concepts.csv\")"
   ]
  },
  {
   "cell_type": "code",
   "execution_count": 9,
   "metadata": {},
   "outputs": [
    {
     "data": {
      "text/html": [
       "<div><style>\n",
       ".dataframe > thead > tr,\n",
       ".dataframe > tbody > tr {\n",
       "  text-align: right;\n",
       "  white-space: pre-wrap;\n",
       "}\n",
       "</style>\n",
       "<small>shape: (5, 814)</small><table border=\"1\" class=\"dataframe\"><thead><tr><th>Id</th><th>GameRulesetName</th><th>agent1</th><th>agent2</th><th>Properties</th><th>Format</th><th>Time</th><th>Discrete</th><th>Realtime</th><th>Turns</th><th>Alternating</th><th>Simultaneous</th><th>Stochastic</th><th>HiddenInformation</th><th>Match</th><th>Asymmetric</th><th>AsymmetricRules</th><th>AsymmetricPlayRules</th><th>AsymmetricEndRules</th><th>AsymmetricForces</th><th>AsymmetricSetup</th><th>AsymmetricPiecesType</th><th>Players</th><th>NumPlayers</th><th>Simulation</th><th>Solitaire</th><th>TwoPlayer</th><th>Multiplayer</th><th>PlayersWithDirections</th><th>Cooperation</th><th>Team</th><th>Coalition</th><th>Puzzle</th><th>DeductionPuzzle</th><th>PlanningPuzzle</th><th>Equipment</th><th>Container</th><th>&hellip;</th><th>State</th><th>StateType</th><th>StackState</th><th>PieceState</th><th>SiteState</th><th>SetSiteState</th><th>VisitedSites</th><th>Variable</th><th>SetVar</th><th>RememberValues</th><th>ForgetValues</th><th>SetPending</th><th>InternalCounter</th><th>SetInternalCounter</th><th>PlayerValue</th><th>SetHidden</th><th>SetInvisible</th><th>SetHiddenCount</th><th>SetHiddenRotation</th><th>SetHiddenState</th><th>SetHiddenValue</th><th>SetHiddenWhat</th><th>SetHiddenWho</th><th>Efficiency</th><th>CopyContext</th><th>Then</th><th>ForEachPiece</th><th>DoLudeme</th><th>Trigger</th><th>PlayoutsPerSecond</th><th>MovesPerSecond</th><th>EnglishRules</th><th>LudRules</th><th>num_wins_agent1</th><th>num_draws_agent1</th><th>num_losses_agent1</th><th>utility_agent1</th></tr><tr><td>i64</td><td>str</td><td>str</td><td>str</td><td>i64</td><td>i64</td><td>i64</td><td>i64</td><td>i64</td><td>i64</td><td>i64</td><td>i64</td><td>i64</td><td>i64</td><td>i64</td><td>i64</td><td>i64</td><td>i64</td><td>i64</td><td>i64</td><td>i64</td><td>i64</td><td>i64</td><td>i64</td><td>i64</td><td>i64</td><td>i64</td><td>i64</td><td>i64</td><td>i64</td><td>i64</td><td>i64</td><td>i64</td><td>i64</td><td>i64</td><td>i64</td><td>i64</td><td>&hellip;</td><td>i64</td><td>i64</td><td>i64</td><td>i64</td><td>i64</td><td>i64</td><td>i64</td><td>i64</td><td>i64</td><td>i64</td><td>i64</td><td>i64</td><td>i64</td><td>i64</td><td>i64</td><td>i64</td><td>i64</td><td>i64</td><td>i64</td><td>i64</td><td>i64</td><td>i64</td><td>i64</td><td>i64</td><td>i64</td><td>i64</td><td>i64</td><td>i64</td><td>i64</td><td>f64</td><td>f64</td><td>str</td><td>str</td><td>i64</td><td>i64</td><td>i64</td><td>f64</td></tr></thead><tbody><tr><td>0</td><td>&quot;00Y&quot;</td><td>&quot;MCTS-ProgressiveHistory-0.1-MA…</td><td>&quot;MCTS-ProgressiveHistory-0.6-Ra…</td><td>1</td><td>1</td><td>1</td><td>1</td><td>0</td><td>1</td><td>1</td><td>0</td><td>0</td><td>0</td><td>0</td><td>0</td><td>0</td><td>0</td><td>0</td><td>0</td><td>0</td><td>0</td><td>1</td><td>2</td><td>0</td><td>0</td><td>1</td><td>0</td><td>0</td><td>0</td><td>0</td><td>0</td><td>0</td><td>0</td><td>0</td><td>1</td><td>1</td><td>&hellip;</td><td>1</td><td>0</td><td>0</td><td>0</td><td>0</td><td>0</td><td>0</td><td>1</td><td>1</td><td>0</td><td>0</td><td>0</td><td>0</td><td>0</td><td>0</td><td>0</td><td>0</td><td>0</td><td>0</td><td>0</td><td>0</td><td>0</td><td>0</td><td>1</td><td>0</td><td>1</td><td>0</td><td>0</td><td>1</td><td>298.07</td><td>18877.17</td><td>&quot;Goal: Connect all three edge c…</td><td>&quot;(game &quot;00&#x27;Y&#x27;&quot; (players 2) (equ…</td><td>4</td><td>0</td><td>11</td><td>-0.466667</td></tr><tr><td>1</td><td>&quot;00Y&quot;</td><td>&quot;MCTS-ProgressiveHistory-0.1-MA…</td><td>&quot;MCTS-UCB1GRAVE-0.6-NST-true&quot;</td><td>1</td><td>1</td><td>1</td><td>1</td><td>0</td><td>1</td><td>1</td><td>0</td><td>0</td><td>0</td><td>0</td><td>0</td><td>0</td><td>0</td><td>0</td><td>0</td><td>0</td><td>0</td><td>1</td><td>2</td><td>0</td><td>0</td><td>1</td><td>0</td><td>0</td><td>0</td><td>0</td><td>0</td><td>0</td><td>0</td><td>0</td><td>1</td><td>1</td><td>&hellip;</td><td>1</td><td>0</td><td>0</td><td>0</td><td>0</td><td>0</td><td>0</td><td>1</td><td>1</td><td>0</td><td>0</td><td>0</td><td>0</td><td>0</td><td>0</td><td>0</td><td>0</td><td>0</td><td>0</td><td>0</td><td>0</td><td>0</td><td>0</td><td>1</td><td>0</td><td>1</td><td>0</td><td>0</td><td>1</td><td>298.07</td><td>18877.17</td><td>&quot;Goal: Connect all three edge c…</td><td>&quot;(game &quot;00&#x27;Y&#x27;&quot; (players 2) (equ…</td><td>5</td><td>0</td><td>10</td><td>-0.333333</td></tr><tr><td>2</td><td>&quot;00Y&quot;</td><td>&quot;MCTS-ProgressiveHistory-0.1-MA…</td><td>&quot;MCTS-UCB1-0.1-NST-false&quot;</td><td>1</td><td>1</td><td>1</td><td>1</td><td>0</td><td>1</td><td>1</td><td>0</td><td>0</td><td>0</td><td>0</td><td>0</td><td>0</td><td>0</td><td>0</td><td>0</td><td>0</td><td>0</td><td>1</td><td>2</td><td>0</td><td>0</td><td>1</td><td>0</td><td>0</td><td>0</td><td>0</td><td>0</td><td>0</td><td>0</td><td>0</td><td>1</td><td>1</td><td>&hellip;</td><td>1</td><td>0</td><td>0</td><td>0</td><td>0</td><td>0</td><td>0</td><td>1</td><td>1</td><td>0</td><td>0</td><td>0</td><td>0</td><td>0</td><td>0</td><td>0</td><td>0</td><td>0</td><td>0</td><td>0</td><td>0</td><td>0</td><td>0</td><td>1</td><td>0</td><td>1</td><td>0</td><td>0</td><td>1</td><td>298.07</td><td>18877.17</td><td>&quot;Goal: Connect all three edge c…</td><td>&quot;(game &quot;00&#x27;Y&#x27;&quot; (players 2) (equ…</td><td>7</td><td>0</td><td>8</td><td>-0.066667</td></tr><tr><td>3</td><td>&quot;00Y&quot;</td><td>&quot;MCTS-ProgressiveHistory-0.1-MA…</td><td>&quot;MCTS-UCB1-0.6-NST-false&quot;</td><td>1</td><td>1</td><td>1</td><td>1</td><td>0</td><td>1</td><td>1</td><td>0</td><td>0</td><td>0</td><td>0</td><td>0</td><td>0</td><td>0</td><td>0</td><td>0</td><td>0</td><td>0</td><td>1</td><td>2</td><td>0</td><td>0</td><td>1</td><td>0</td><td>0</td><td>0</td><td>0</td><td>0</td><td>0</td><td>0</td><td>0</td><td>1</td><td>1</td><td>&hellip;</td><td>1</td><td>0</td><td>0</td><td>0</td><td>0</td><td>0</td><td>0</td><td>1</td><td>1</td><td>0</td><td>0</td><td>0</td><td>0</td><td>0</td><td>0</td><td>0</td><td>0</td><td>0</td><td>0</td><td>0</td><td>0</td><td>0</td><td>0</td><td>1</td><td>0</td><td>1</td><td>0</td><td>0</td><td>1</td><td>298.07</td><td>18877.17</td><td>&quot;Goal: Connect all three edge c…</td><td>&quot;(game &quot;00&#x27;Y&#x27;&quot; (players 2) (equ…</td><td>5</td><td>0</td><td>10</td><td>-0.333333</td></tr><tr><td>4</td><td>&quot;00Y&quot;</td><td>&quot;MCTS-ProgressiveHistory-0.1-MA…</td><td>&quot;MCTS-UCB1GRAVE-1.41421356237-N…</td><td>1</td><td>1</td><td>1</td><td>1</td><td>0</td><td>1</td><td>1</td><td>0</td><td>0</td><td>0</td><td>0</td><td>0</td><td>0</td><td>0</td><td>0</td><td>0</td><td>0</td><td>0</td><td>1</td><td>2</td><td>0</td><td>0</td><td>1</td><td>0</td><td>0</td><td>0</td><td>0</td><td>0</td><td>0</td><td>0</td><td>0</td><td>1</td><td>1</td><td>&hellip;</td><td>1</td><td>0</td><td>0</td><td>0</td><td>0</td><td>0</td><td>0</td><td>1</td><td>1</td><td>0</td><td>0</td><td>0</td><td>0</td><td>0</td><td>0</td><td>0</td><td>0</td><td>0</td><td>0</td><td>0</td><td>0</td><td>0</td><td>0</td><td>1</td><td>0</td><td>1</td><td>0</td><td>0</td><td>1</td><td>298.07</td><td>18877.17</td><td>&quot;Goal: Connect all three edge c…</td><td>&quot;(game &quot;00&#x27;Y&#x27;&quot; (players 2) (equ…</td><td>5</td><td>0</td><td>10</td><td>-0.333333</td></tr></tbody></table></div>"
      ],
      "text/plain": [
       "shape: (5, 814)\n",
       "┌─────┬────────────┬────────────┬────────────┬───┬────────────┬────────────┬───────────┬───────────┐\n",
       "│ Id  ┆ GameRulese ┆ agent1     ┆ agent2     ┆ … ┆ num_wins_a ┆ num_draws_ ┆ num_losse ┆ utility_a │\n",
       "│ --- ┆ tName      ┆ ---        ┆ ---        ┆   ┆ gent1      ┆ agent1     ┆ s_agent1  ┆ gent1     │\n",
       "│ i64 ┆ ---        ┆ str        ┆ str        ┆   ┆ ---        ┆ ---        ┆ ---       ┆ ---       │\n",
       "│     ┆ str        ┆            ┆            ┆   ┆ i64        ┆ i64        ┆ i64       ┆ f64       │\n",
       "╞═════╪════════════╪════════════╪════════════╪═══╪════════════╪════════════╪═══════════╪═══════════╡\n",
       "│ 0   ┆ 00Y        ┆ MCTS-Progr ┆ MCTS-Progr ┆ … ┆ 4          ┆ 0          ┆ 11        ┆ -0.466667 │\n",
       "│     ┆            ┆ essiveHist ┆ essiveHist ┆   ┆            ┆            ┆           ┆           │\n",
       "│     ┆            ┆ ory-0.1-MA ┆ ory-0.6-Ra ┆   ┆            ┆            ┆           ┆           │\n",
       "│     ┆            ┆ …          ┆ …          ┆   ┆            ┆            ┆           ┆           │\n",
       "│ 1   ┆ 00Y        ┆ MCTS-Progr ┆ MCTS-UCB1G ┆ … ┆ 5          ┆ 0          ┆ 10        ┆ -0.333333 │\n",
       "│     ┆            ┆ essiveHist ┆ RAVE-0.6-N ┆   ┆            ┆            ┆           ┆           │\n",
       "│     ┆            ┆ ory-0.1-MA ┆ ST-true    ┆   ┆            ┆            ┆           ┆           │\n",
       "│     ┆            ┆ …          ┆            ┆   ┆            ┆            ┆           ┆           │\n",
       "│ 2   ┆ 00Y        ┆ MCTS-Progr ┆ MCTS-UCB1- ┆ … ┆ 7          ┆ 0          ┆ 8         ┆ -0.066667 │\n",
       "│     ┆            ┆ essiveHist ┆ 0.1-NST-fa ┆   ┆            ┆            ┆           ┆           │\n",
       "│     ┆            ┆ ory-0.1-MA ┆ lse        ┆   ┆            ┆            ┆           ┆           │\n",
       "│     ┆            ┆ …          ┆            ┆   ┆            ┆            ┆           ┆           │\n",
       "│ 3   ┆ 00Y        ┆ MCTS-Progr ┆ MCTS-UCB1- ┆ … ┆ 5          ┆ 0          ┆ 10        ┆ -0.333333 │\n",
       "│     ┆            ┆ essiveHist ┆ 0.6-NST-fa ┆   ┆            ┆            ┆           ┆           │\n",
       "│     ┆            ┆ ory-0.1-MA ┆ lse        ┆   ┆            ┆            ┆           ┆           │\n",
       "│     ┆            ┆ …          ┆            ┆   ┆            ┆            ┆           ┆           │\n",
       "│ 4   ┆ 00Y        ┆ MCTS-Progr ┆ MCTS-UCB1G ┆ … ┆ 5          ┆ 0          ┆ 10        ┆ -0.333333 │\n",
       "│     ┆            ┆ essiveHist ┆ RAVE-1.414 ┆   ┆            ┆            ┆           ┆           │\n",
       "│     ┆            ┆ ory-0.1-MA ┆ 21356237-N ┆   ┆            ┆            ┆           ┆           │\n",
       "│     ┆            ┆ …          ┆ …          ┆   ┆            ┆            ┆           ┆           │\n",
       "└─────┴────────────┴────────────┴────────────┴───┴────────────┴────────────┴───────────┴───────────┘"
      ]
     },
     "execution_count": 9,
     "metadata": {},
     "output_type": "execute_result"
    }
   ],
   "source": [
    "train.head()"
   ]
  },
  {
   "cell_type": "code",
   "execution_count": 7,
   "metadata": {},
   "outputs": [
    {
     "data": {
      "text/html": [
       "<div><style>\n",
       ".dataframe > thead > tr,\n",
       ".dataframe > tbody > tr {\n",
       "  text-align: right;\n",
       "  white-space: pre-wrap;\n",
       "}\n",
       "</style>\n",
       "<small>shape: (809, 9)</small><table border=\"1\" class=\"dataframe\"><thead><tr><th>Id</th><th>Name</th><th>Description</th><th>TypeId</th><th>DataTypeId</th><th>ComputationTypeId</th><th>TaxonomyString</th><th>LeafNode</th><th>ShowOnWebsite</th></tr><tr><td>i64</td><td>str</td><td>str</td><td>i64</td><td>i64</td><td>i64</td><td>str</td><td>i64</td><td>i64</td></tr></thead><tbody><tr><td>1</td><td>&quot;Properties&quot;</td><td>&quot;General properties of the game…</td><td>1</td><td>1</td><td>1</td><td>&quot;1&quot;</td><td>0</td><td>0</td></tr><tr><td>2</td><td>&quot;Format&quot;</td><td>&quot;Format of the game.&quot;</td><td>1</td><td>1</td><td>1</td><td>&quot;1.1&quot;</td><td>0</td><td>0</td></tr><tr><td>3</td><td>&quot;Time&quot;</td><td>&quot;Time model.&quot;</td><td>1</td><td>1</td><td>1</td><td>&quot;1.1.1&quot;</td><td>0</td><td>0</td></tr><tr><td>4</td><td>&quot;Discrete&quot;</td><td>&quot;Players move at discrete inter…</td><td>1</td><td>1</td><td>1</td><td>&quot;1.1.1.1&quot;</td><td>1</td><td>1</td></tr><tr><td>5</td><td>&quot;Realtime&quot;</td><td>&quot;Moves not discrete.&quot;</td><td>1</td><td>1</td><td>1</td><td>&quot;1.1.1.2&quot;</td><td>1</td><td>1</td></tr><tr><td>&hellip;</td><td>&hellip;</td><td>&hellip;</td><td>&hellip;</td><td>&hellip;</td><td>&hellip;</td><td>&hellip;</td><td>&hellip;</td><td>&hellip;</td></tr><tr><td>805</td><td>&quot;SkillTrace&quot;</td><td>&quot;Skill Trace.&quot;</td><td>7</td><td>1</td><td>2</td><td>&quot;4.13&quot;</td><td>0</td><td>1</td></tr><tr><td>806</td><td>&quot;SkillTraceScore&quot;</td><td>&quot;Skill Trace Score.&quot;</td><td>7</td><td>4</td><td>2</td><td>&quot;4.13.1&quot;</td><td>1</td><td>1</td></tr><tr><td>807</td><td>&quot;SkillTraceTrials&quot;</td><td>&quot;Skill Trace Trials.&quot;</td><td>7</td><td>4</td><td>2</td><td>&quot;4.13.2&quot;</td><td>1</td><td>1</td></tr><tr><td>808</td><td>&quot;SkillTraceErrorSlope&quot;</td><td>&quot;Skill Trace Error Slope.&quot;</td><td>7</td><td>4</td><td>2</td><td>&quot;4.13.3&quot;</td><td>1</td><td>1</td></tr><tr><td>809</td><td>&quot;SkillTraceErrorIntercept&quot;</td><td>&quot;Skill Trace Error Intercept.&quot;</td><td>7</td><td>4</td><td>2</td><td>&quot;4.13.4&quot;</td><td>1</td><td>1</td></tr></tbody></table></div>"
      ],
      "text/plain": [
       "shape: (809, 9)\n",
       "┌─────┬─────────────┬─────────────┬────────┬───┬─────────────┬─────────────┬──────────┬────────────┐\n",
       "│ Id  ┆ Name        ┆ Description ┆ TypeId ┆ … ┆ Computation ┆ TaxonomyStr ┆ LeafNode ┆ ShowOnWebs │\n",
       "│ --- ┆ ---         ┆ ---         ┆ ---    ┆   ┆ TypeId      ┆ ing         ┆ ---      ┆ ite        │\n",
       "│ i64 ┆ str         ┆ str         ┆ i64    ┆   ┆ ---         ┆ ---         ┆ i64      ┆ ---        │\n",
       "│     ┆             ┆             ┆        ┆   ┆ i64         ┆ str         ┆          ┆ i64        │\n",
       "╞═════╪═════════════╪═════════════╪════════╪═══╪═════════════╪═════════════╪══════════╪════════════╡\n",
       "│ 1   ┆ Properties  ┆ General     ┆ 1      ┆ … ┆ 1           ┆ 1           ┆ 0        ┆ 0          │\n",
       "│     ┆             ┆ properties  ┆        ┆   ┆             ┆             ┆          ┆            │\n",
       "│     ┆             ┆ of the      ┆        ┆   ┆             ┆             ┆          ┆            │\n",
       "│     ┆             ┆ game…       ┆        ┆   ┆             ┆             ┆          ┆            │\n",
       "│ 2   ┆ Format      ┆ Format of   ┆ 1      ┆ … ┆ 1           ┆ 1.1         ┆ 0        ┆ 0          │\n",
       "│     ┆             ┆ the game.   ┆        ┆   ┆             ┆             ┆          ┆            │\n",
       "│ 3   ┆ Time        ┆ Time model. ┆ 1      ┆ … ┆ 1           ┆ 1.1.1       ┆ 0        ┆ 0          │\n",
       "│ 4   ┆ Discrete    ┆ Players     ┆ 1      ┆ … ┆ 1           ┆ 1.1.1.1     ┆ 1        ┆ 1          │\n",
       "│     ┆             ┆ move at     ┆        ┆   ┆             ┆             ┆          ┆            │\n",
       "│     ┆             ┆ discrete    ┆        ┆   ┆             ┆             ┆          ┆            │\n",
       "│     ┆             ┆ inter…      ┆        ┆   ┆             ┆             ┆          ┆            │\n",
       "│ 5   ┆ Realtime    ┆ Moves not   ┆ 1      ┆ … ┆ 1           ┆ 1.1.1.2     ┆ 1        ┆ 1          │\n",
       "│     ┆             ┆ discrete.   ┆        ┆   ┆             ┆             ┆          ┆            │\n",
       "│ …   ┆ …           ┆ …           ┆ …      ┆ … ┆ …           ┆ …           ┆ …        ┆ …          │\n",
       "│ 805 ┆ SkillTrace  ┆ Skill       ┆ 7      ┆ … ┆ 2           ┆ 4.13        ┆ 0        ┆ 1          │\n",
       "│     ┆             ┆ Trace.      ┆        ┆   ┆             ┆             ┆          ┆            │\n",
       "│ 806 ┆ SkillTraceS ┆ Skill Trace ┆ 7      ┆ … ┆ 2           ┆ 4.13.1      ┆ 1        ┆ 1          │\n",
       "│     ┆ core        ┆ Score.      ┆        ┆   ┆             ┆             ┆          ┆            │\n",
       "│ 807 ┆ SkillTraceT ┆ Skill Trace ┆ 7      ┆ … ┆ 2           ┆ 4.13.2      ┆ 1        ┆ 1          │\n",
       "│     ┆ rials       ┆ Trials.     ┆        ┆   ┆             ┆             ┆          ┆            │\n",
       "│ 808 ┆ SkillTraceE ┆ Skill Trace ┆ 7      ┆ … ┆ 2           ┆ 4.13.3      ┆ 1        ┆ 1          │\n",
       "│     ┆ rrorSlope   ┆ Error       ┆        ┆   ┆             ┆             ┆          ┆            │\n",
       "│     ┆             ┆ Slope.      ┆        ┆   ┆             ┆             ┆          ┆            │\n",
       "│ 809 ┆ SkillTraceE ┆ Skill Trace ┆ 7      ┆ … ┆ 2           ┆ 4.13.4      ┆ 1        ┆ 1          │\n",
       "│     ┆ rrorInterce ┆ Error       ┆        ┆   ┆             ┆             ┆          ┆            │\n",
       "│     ┆ pt          ┆ Intercept.  ┆        ┆   ┆             ┆             ┆          ┆            │\n",
       "└─────┴─────────────┴─────────────┴────────┴───┴─────────────┴─────────────┴──────────┴────────────┘"
      ]
     },
     "execution_count": 7,
     "metadata": {},
     "output_type": "execute_result"
    }
   ],
   "source": [
    "concepts"
   ]
  },
  {
   "cell_type": "code",
   "execution_count": 5,
   "metadata": {},
   "outputs": [
    {
     "data": {
      "text/html": [
       "<div><style>\n",
       ".dataframe > thead > tr,\n",
       ".dataframe > tbody > tr {\n",
       "  text-align: right;\n",
       "  white-space: pre-wrap;\n",
       "}\n",
       "</style>\n",
       "<small>shape: (9, 10)</small><table border=\"1\" class=\"dataframe\"><thead><tr><th>statistic</th><th>Id</th><th>Name</th><th>Description</th><th>TypeId</th><th>DataTypeId</th><th>ComputationTypeId</th><th>TaxonomyString</th><th>LeafNode</th><th>ShowOnWebsite</th></tr><tr><td>str</td><td>f64</td><td>str</td><td>str</td><td>f64</td><td>f64</td><td>f64</td><td>str</td><td>f64</td><td>f64</td></tr></thead><tbody><tr><td>&quot;count&quot;</td><td>809.0</td><td>&quot;809&quot;</td><td>&quot;809&quot;</td><td>809.0</td><td>809.0</td><td>809.0</td><td>&quot;809&quot;</td><td>809.0</td><td>809.0</td></tr><tr><td>&quot;null_count&quot;</td><td>0.0</td><td>&quot;0&quot;</td><td>&quot;0&quot;</td><td>0.0</td><td>0.0</td><td>0.0</td><td>&quot;0&quot;</td><td>0.0</td><td>0.0</td></tr><tr><td>&quot;mean&quot;</td><td>405.0</td><td>null</td><td>null</td><td>6.728059</td><td>2.046972</td><td>1.368356</td><td>null</td><td>0.702101</td><td>0.978986</td></tr><tr><td>&quot;std&quot;</td><td>233.682477</td><td>null</td><td>null</td><td>2.46615</td><td>1.409047</td><td>0.482657</td><td>null</td><td>0.457618</td><td>0.143518</td></tr><tr><td>&quot;min&quot;</td><td>1.0</td><td>&quot;Absolute&quot;</td><td>&quot;!= operator.&quot;</td><td>1.0</td><td>1.0</td><td>1.0</td><td>&quot;1&quot;</td><td>0.0</td><td>0.0</td></tr><tr><td>&quot;25%&quot;</td><td>203.0</td><td>null</td><td>null</td><td>5.0</td><td>1.0</td><td>1.0</td><td>null</td><td>0.0</td><td>1.0</td></tr><tr><td>&quot;50%&quot;</td><td>405.0</td><td>null</td><td>null</td><td>6.0</td><td>1.0</td><td>1.0</td><td>null</td><td>1.0</td><td>1.0</td></tr><tr><td>&quot;75%&quot;</td><td>607.0</td><td>null</td><td>null</td><td>8.0</td><td>4.0</td><td>2.0</td><td>null</td><td>1.0</td><td>1.0</td></tr><tr><td>&quot;max&quot;</td><td>809.0</td><td>&quot;XiangqiStyle&quot;</td><td>&quot;Win with a path extent.&quot;</td><td>12.0</td><td>4.0</td><td>2.0</td><td>&quot;7.2.7&quot;</td><td>1.0</td><td>1.0</td></tr></tbody></table></div>"
      ],
      "text/plain": [
       "shape: (9, 10)\n",
       "┌───────────┬───────────┬───────────┬───────────┬───┬───────────┬───────────┬──────────┬───────────┐\n",
       "│ statistic ┆ Id        ┆ Name      ┆ Descripti ┆ … ┆ Computati ┆ TaxonomyS ┆ LeafNode ┆ ShowOnWeb │\n",
       "│ ---       ┆ ---       ┆ ---       ┆ on        ┆   ┆ onTypeId  ┆ tring     ┆ ---      ┆ site      │\n",
       "│ str       ┆ f64       ┆ str       ┆ ---       ┆   ┆ ---       ┆ ---       ┆ f64      ┆ ---       │\n",
       "│           ┆           ┆           ┆ str       ┆   ┆ f64       ┆ str       ┆          ┆ f64       │\n",
       "╞═══════════╪═══════════╪═══════════╪═══════════╪═══╪═══════════╪═══════════╪══════════╪═══════════╡\n",
       "│ count     ┆ 809.0     ┆ 809       ┆ 809       ┆ … ┆ 809.0     ┆ 809       ┆ 809.0    ┆ 809.0     │\n",
       "│ null_coun ┆ 0.0       ┆ 0         ┆ 0         ┆ … ┆ 0.0       ┆ 0         ┆ 0.0      ┆ 0.0       │\n",
       "│ t         ┆           ┆           ┆           ┆   ┆           ┆           ┆          ┆           │\n",
       "│ mean      ┆ 405.0     ┆ null      ┆ null      ┆ … ┆ 1.368356  ┆ null      ┆ 0.702101 ┆ 0.978986  │\n",
       "│ std       ┆ 233.68247 ┆ null      ┆ null      ┆ … ┆ 0.482657  ┆ null      ┆ 0.457618 ┆ 0.143518  │\n",
       "│           ┆ 7         ┆           ┆           ┆   ┆           ┆           ┆          ┆           │\n",
       "│ min       ┆ 1.0       ┆ Absolute  ┆ !=        ┆ … ┆ 1.0       ┆ 1         ┆ 0.0      ┆ 0.0       │\n",
       "│           ┆           ┆           ┆ operator. ┆   ┆           ┆           ┆          ┆           │\n",
       "│ 25%       ┆ 203.0     ┆ null      ┆ null      ┆ … ┆ 1.0       ┆ null      ┆ 0.0      ┆ 1.0       │\n",
       "│ 50%       ┆ 405.0     ┆ null      ┆ null      ┆ … ┆ 1.0       ┆ null      ┆ 1.0      ┆ 1.0       │\n",
       "│ 75%       ┆ 607.0     ┆ null      ┆ null      ┆ … ┆ 2.0       ┆ null      ┆ 1.0      ┆ 1.0       │\n",
       "│ max       ┆ 809.0     ┆ XiangqiSt ┆ Win with  ┆ … ┆ 2.0       ┆ 7.2.7     ┆ 1.0      ┆ 1.0       │\n",
       "│           ┆           ┆ yle       ┆ a path    ┆   ┆           ┆           ┆          ┆           │\n",
       "│           ┆           ┆           ┆ extent.   ┆   ┆           ┆           ┆          ┆           │\n",
       "└───────────┴───────────┴───────────┴───────────┴───┴───────────┴───────────┴──────────┴───────────┘"
      ]
     },
     "execution_count": 5,
     "metadata": {},
     "output_type": "execute_result"
    }
   ],
   "source": [
    "concepts.describe()"
   ]
  },
  {
   "cell_type": "code",
   "execution_count": 11,
   "metadata": {},
   "outputs": [
    {
     "data": {
      "text/html": [
       "<div><style>\n",
       ".dataframe > thead > tr,\n",
       ".dataframe > tbody > tr {\n",
       "  text-align: right;\n",
       "  white-space: pre-wrap;\n",
       "}\n",
       "</style>\n",
       "<small>shape: (0, 9)</small><table border=\"1\" class=\"dataframe\"><thead><tr><th>Id</th><th>Name</th><th>Description</th><th>TypeId</th><th>DataTypeId</th><th>ComputationTypeId</th><th>TaxonomyString</th><th>LeafNode</th><th>ShowOnWebsite</th></tr><tr><td>i64</td><td>str</td><td>str</td><td>i64</td><td>i64</td><td>i64</td><td>str</td><td>i64</td><td>i64</td></tr></thead><tbody></tbody></table></div>"
      ],
      "text/plain": [
       "shape: (0, 9)\n",
       "┌─────┬──────┬─────────────┬────────┬───┬───────────────┬───────────────┬──────────┬───────────────┐\n",
       "│ Id  ┆ Name ┆ Description ┆ TypeId ┆ … ┆ ComputationTy ┆ TaxonomyStrin ┆ LeafNode ┆ ShowOnWebsite │\n",
       "│ --- ┆ ---  ┆ ---         ┆ ---    ┆   ┆ peId          ┆ g             ┆ ---      ┆ ---           │\n",
       "│ i64 ┆ str  ┆ str         ┆ i64    ┆   ┆ ---           ┆ ---           ┆ i64      ┆ i64           │\n",
       "│     ┆      ┆             ┆        ┆   ┆ i64           ┆ str           ┆          ┆               │\n",
       "╞═════╪══════╪═════════════╪════════╪═══╪═══════════════╪═══════════════╪══════════╪═══════════════╡\n",
       "└─────┴──────┴─────────────┴────────┴───┴───────────────┴───────────────┴──────────┴───────────────┘"
      ]
     },
     "execution_count": 11,
     "metadata": {},
     "output_type": "execute_result"
    }
   ],
   "source": [
    "concepts.filter(pl.col(\"Name\").str.contains(\"00Y\"))"
   ]
  },
  {
   "cell_type": "code",
   "execution_count": 16,
   "metadata": {},
   "outputs": [
    {
     "data": {
      "text/html": [
       "<div><style>\n",
       ".dataframe > thead > tr,\n",
       ".dataframe > tbody > tr {\n",
       "  text-align: right;\n",
       "  white-space: pre-wrap;\n",
       "}\n",
       "</style>\n",
       "<small>shape: (233_234, 3)</small><table border=\"1\" class=\"dataframe\"><thead><tr><th>GameRulesetName</th><th>LudRules</th><th>EnglishRules</th></tr><tr><td>str</td><td>str</td><td>str</td></tr></thead><tbody><tr><td>&quot;00Y&quot;</td><td>&quot;(game &quot;00&#x27;Y&#x27;&quot; (players 2) (equ…</td><td>&quot;Goal: Connect all three edge c…</td></tr><tr><td>&quot;00Y&quot;</td><td>&quot;(game &quot;00&#x27;Y&#x27;&quot; (players 2) (equ…</td><td>&quot;Goal: Connect all three edge c…</td></tr><tr><td>&quot;00Y&quot;</td><td>&quot;(game &quot;00&#x27;Y&#x27;&quot; (players 2) (equ…</td><td>&quot;Goal: Connect all three edge c…</td></tr><tr><td>&quot;00Y&quot;</td><td>&quot;(game &quot;00&#x27;Y&#x27;&quot; (players 2) (equ…</td><td>&quot;Goal: Connect all three edge c…</td></tr><tr><td>&quot;00Y&quot;</td><td>&quot;(game &quot;00&#x27;Y&#x27;&quot; (players 2) (equ…</td><td>&quot;Goal: Connect all three edge c…</td></tr><tr><td>&hellip;</td><td>&hellip;</td><td>&hellip;</td></tr><tr><td>&quot;Zuz_Mel_7x7&quot;</td><td>&quot;(game &quot;Zuz Mel (7x7)&quot; (players…</td><td>&quot;7x7 board. 24 pieces per playe…</td></tr><tr><td>&quot;Zuz_Mel_7x7&quot;</td><td>&quot;(game &quot;Zuz Mel (7x7)&quot; (players…</td><td>&quot;7x7 board. 24 pieces per playe…</td></tr><tr><td>&quot;Zuz_Mel_7x7&quot;</td><td>&quot;(game &quot;Zuz Mel (7x7)&quot; (players…</td><td>&quot;7x7 board. 24 pieces per playe…</td></tr><tr><td>&quot;Zuz_Mel_7x7&quot;</td><td>&quot;(game &quot;Zuz Mel (7x7)&quot; (players…</td><td>&quot;7x7 board. 24 pieces per playe…</td></tr><tr><td>&quot;Zuz_Mel_7x7&quot;</td><td>&quot;(game &quot;Zuz Mel (7x7)&quot; (players…</td><td>&quot;7x7 board. 24 pieces per playe…</td></tr></tbody></table></div>"
      ],
      "text/plain": [
       "shape: (233_234, 3)\n",
       "┌─────────────────┬─────────────────────────────────┬─────────────────────────────────┐\n",
       "│ GameRulesetName ┆ LudRules                        ┆ EnglishRules                    │\n",
       "│ ---             ┆ ---                             ┆ ---                             │\n",
       "│ str             ┆ str                             ┆ str                             │\n",
       "╞═════════════════╪═════════════════════════════════╪═════════════════════════════════╡\n",
       "│ 00Y             ┆ (game \"00'Y'\" (players 2) (equ… ┆ Goal: Connect all three edge c… │\n",
       "│ 00Y             ┆ (game \"00'Y'\" (players 2) (equ… ┆ Goal: Connect all three edge c… │\n",
       "│ 00Y             ┆ (game \"00'Y'\" (players 2) (equ… ┆ Goal: Connect all three edge c… │\n",
       "│ 00Y             ┆ (game \"00'Y'\" (players 2) (equ… ┆ Goal: Connect all three edge c… │\n",
       "│ 00Y             ┆ (game \"00'Y'\" (players 2) (equ… ┆ Goal: Connect all three edge c… │\n",
       "│ …               ┆ …                               ┆ …                               │\n",
       "│ Zuz_Mel_7x7     ┆ (game \"Zuz Mel (7x7)\" (players… ┆ 7x7 board. 24 pieces per playe… │\n",
       "│ Zuz_Mel_7x7     ┆ (game \"Zuz Mel (7x7)\" (players… ┆ 7x7 board. 24 pieces per playe… │\n",
       "│ Zuz_Mel_7x7     ┆ (game \"Zuz Mel (7x7)\" (players… ┆ 7x7 board. 24 pieces per playe… │\n",
       "│ Zuz_Mel_7x7     ┆ (game \"Zuz Mel (7x7)\" (players… ┆ 7x7 board. 24 pieces per playe… │\n",
       "│ Zuz_Mel_7x7     ┆ (game \"Zuz Mel (7x7)\" (players… ┆ 7x7 board. 24 pieces per playe… │\n",
       "└─────────────────┴─────────────────────────────────┴─────────────────────────────────┘"
      ]
     },
     "execution_count": 16,
     "metadata": {},
     "output_type": "execute_result"
    }
   ],
   "source": [
    "train.select(pl.col([\"GameRulesetName\", \"LudRules\", \"EnglishRules\"]))"
   ]
  },
  {
   "cell_type": "code",
   "execution_count": null,
   "metadata": {},
   "outputs": [],
   "source": []
  }
 ],
 "metadata": {
  "kernelspec": {
   "display_name": "base",
   "language": "python",
   "name": "python3"
  },
  "language_info": {
   "codemirror_mode": {
    "name": "ipython",
    "version": 3
   },
   "file_extension": ".py",
   "mimetype": "text/x-python",
   "name": "python",
   "nbconvert_exporter": "python",
   "pygments_lexer": "ipython3",
   "version": "3.10.14"
  },
  "orig_nbformat": 4
 },
 "nbformat": 4,
 "nbformat_minor": 2
}
