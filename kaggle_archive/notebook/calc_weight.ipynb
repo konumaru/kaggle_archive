{
 "cells": [
  {
   "cell_type": "code",
   "execution_count": 4,
   "metadata": {},
   "outputs": [],
   "source": [
    "import pathlib\n",
    "\n",
    "import polars as pl"
   ]
  },
  {
   "cell_type": "code",
   "execution_count": 2,
   "metadata": {},
   "outputs": [],
   "source": [
    "raw_dirpath = pathlib.Path(\"../data/raw\")\n",
    "\n",
    "train = pl.read_csv(raw_dirpath / \"train.csv\")\n",
    "test = pl.read_csv(raw_dirpath / \"test.csv\")\n",
    "submission = pl.read_csv(raw_dirpath / \"sample_submission.csv\")\n",
    "concepts = pl.read_csv(raw_dirpath / \"concepts.csv\")"
   ]
  },
  {
   "cell_type": "code",
   "execution_count": 3,
   "metadata": {},
   "outputs": [
    {
     "data": {
      "text/plain": [
       "<Axes: >"
      ]
     },
     "execution_count": 3,
     "metadata": {},
     "output_type": "execute_result"
    },
    {
     "data": {
      "image/png": "[encoded data removed]",
      "text/plain": [
       "<Figure size 640x480 with 1 Axes>"
      ]
     },
     "metadata": {},
     "output_type": "display_data"
    }
   ],
   "source": [
    "target = train.select(pl.col(\"utility_agent1\")).to_pandas()\n",
    "\n",
    "target[\"utility_agent1\"].hist(bins=50)"
   ]
  },
  {
   "cell_type": "code",
   "execution_count": 40,
   "metadata": {},
   "outputs": [
    {
     "data": {
      "text/html": [
       "<div><style>\n",
       ".dataframe > thead > tr,\n",
       ".dataframe > tbody > tr {\n",
       "  text-align: right;\n",
       "  white-space: pre-wrap;\n",
       "}\n",
       "</style>\n",
       "<small>shape: (233_234, 1)</small><table border=\"1\" class=\"dataframe\"><thead><tr><th>weight_inversed</th></tr><tr><td>f64</td></tr></thead><tbody><tr><td>0.782133</td></tr><tr><td>1.047274</td></tr><tr><td>1.566667</td></tr><tr><td>1.047274</td></tr><tr><td>1.047274</td></tr><tr><td>&hellip;</td></tr><tr><td>0.617663</td></tr><tr><td>1.145373</td></tr><tr><td>0.731368</td></tr><tr><td>0.731368</td></tr><tr><td>1.145373</td></tr></tbody></table></div>"
      ],
      "text/plain": [
       "shape: (233_234, 1)\n",
       "┌─────────────────┐\n",
       "│ weight_inversed │\n",
       "│ ---             │\n",
       "│ f64             │\n",
       "╞═════════════════╡\n",
       "│ 0.782133        │\n",
       "│ 1.047274        │\n",
       "│ 1.566667        │\n",
       "│ 1.047274        │\n",
       "│ 1.047274        │\n",
       "│ …               │\n",
       "│ 0.617663        │\n",
       "│ 1.145373        │\n",
       "│ 0.731368        │\n",
       "│ 0.731368        │\n",
       "│ 1.145373        │\n",
       "└─────────────────┘"
      ]
     },
     "execution_count": 40,
     "metadata": {},
     "output_type": "execute_result"
    }
   ],
   "source": [
    "d = {}\n",
    "for row in (\n",
    "    train[\"utility_agent1\"]\n",
    "    .round(1)\n",
    "    .value_counts()\n",
    "    .sort(by=\"utility_agent1\")\n",
    "    .iter_rows()\n",
    "):\n",
    "    d[row[0]] = row[1] / len(train) * 20\n",
    "\n",
    "train.select(\n",
    "    pl.col(\"utility_agent1\")\n",
    "    .round(1)\n",
    "    .replace_strict(d)\n",
    "    .alias(\"weight_inversed\")\n",
    ")"
   ]
  },
  {
   "cell_type": "code",
   "execution_count": null,
   "metadata": {},
   "outputs": [],
   "source": []
  }
 ],
 "metadata": {
  "kernelspec": {
   "display_name": "base",
   "language": "python",
   "name": "python3"
  },
  "language_info": {
   "codemirror_mode": {
    "name": "ipython",
    "version": 3
   },
   "file_extension": ".py",
   "mimetype": "text/x-python",
   "name": "python",
   "nbconvert_exporter": "python",
   "pygments_lexer": "ipython3",
   "version": "3.10.14"
  }
 },
 "nbformat": 4,
 "nbformat_minor": 2
}
