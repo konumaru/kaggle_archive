{
 "cells": [
  {
   "cell_type": "code",
   "execution_count": 1,
   "metadata": {},
   "outputs": [],
   "source": [
    "import itertools\n",
    "import sys\n",
    "\n",
    "sys.path.append(\"..\")\n",
    "import polars as pl\n",
    "\n",
    "from src.utils.io import load_pickle"
   ]
  },
  {
   "cell_type": "code",
   "execution_count": 5,
   "metadata": {},
   "outputs": [],
   "source": [
    "agent_feat = load_pickle(\"../data/feature/agent_parsed_feature.pkl\")\n",
    "utility_agent1 = load_pickle(\"../data/feature/utility_agent1.pkl\")\n",
    "fold = load_pickle(\"../data/feature/fold.pkl\")\n",
    "\n",
    "train = pl.read_csv(\"../data/raw/train.csv\")"
   ]
  },
  {
   "cell_type": "code",
   "execution_count": 8,
   "metadata": {},
   "outputs": [],
   "source": [
    "result_agent1 = train.select(\n",
    "    pl.col(\n",
    "        [\n",
    "            \"num_wins_agent1\",\n",
    "            \"num_draws_agent1\",\n",
    "            \"num_losses_agent1\",\n",
    "            \"utility_agent1\",\n",
    "        ]\n",
    "    )\n",
    ")"
   ]
  },
  {
   "cell_type": "code",
   "execution_count": 21,
   "metadata": {},
   "outputs": [],
   "source": [
    "win_rate = result_agent1.select(\n",
    "    (\n",
    "        pl.col(\"num_wins_agent1\")\n",
    "        / (\n",
    "            pl.col(\"num_wins_agent1\")\n",
    "            + pl.col(\"num_draws_agent1\")\n",
    "            + pl.col(\"num_losses_agent1\")\n",
    "        )\n",
    "    ).alias(\"win_rate_agent1\")\n",
    ")"
   ]
  },
  {
   "cell_type": "code",
   "execution_count": 22,
   "metadata": {},
   "outputs": [
    {
     "data": {
      "text/html": [
       "<div><style>\n",
       ".dataframe > thead > tr,\n",
       ".dataframe > tbody > tr {\n",
       "  text-align: right;\n",
       "  white-space: pre-wrap;\n",
       "}\n",
       "</style>\n",
       "<small>shape: (1, 8)</small><table border=\"1\" class=\"dataframe\"><thead><tr><th>agent1_selection</th><th>agent1_expansion</th><th>agent1_playout</th><th>agent1_score_bounds</th><th>agent2_selection</th><th>agent2_expansion</th><th>agent2_playout</th><th>agent2_score_bounds</th></tr><tr><td>u32</td><td>u32</td><td>u32</td><td>u32</td><td>u32</td><td>u32</td><td>u32</td><td>u32</td></tr></thead><tbody><tr><td>4</td><td>3</td><td>3</td><td>2</td><td>4</td><td>3</td><td>3</td><td>2</td></tr></tbody></table></div>"
      ],
      "text/plain": [
       "shape: (1, 8)\n",
       "┌────────────┬────────────┬────────────┬───────────┬───────────┬───────────┬───────────┬───────────┐\n",
       "│ agent1_sel ┆ agent1_exp ┆ agent1_pla ┆ agent1_sc ┆ agent2_se ┆ agent2_ex ┆ agent2_pl ┆ agent2_sc │\n",
       "│ ection     ┆ ansion     ┆ yout       ┆ ore_bound ┆ lection   ┆ pansion   ┆ ayout     ┆ ore_bound │\n",
       "│ ---        ┆ ---        ┆ ---        ┆ s         ┆ ---       ┆ ---       ┆ ---       ┆ s         │\n",
       "│ u32        ┆ u32        ┆ u32        ┆ ---       ┆ u32       ┆ u32       ┆ u32       ┆ ---       │\n",
       "│            ┆            ┆            ┆ u32       ┆           ┆           ┆           ┆ u32       │\n",
       "╞════════════╪════════════╪════════════╪═══════════╪═══════════╪═══════════╪═══════════╪═══════════╡\n",
       "│ 4          ┆ 3          ┆ 3          ┆ 2         ┆ 4         ┆ 3         ┆ 3         ┆ 2         │\n",
       "└────────────┴────────────┴────────────┴───────────┴───────────┴───────────┴───────────┴───────────┘"
      ]
     },
     "execution_count": 22,
     "metadata": {},
     "output_type": "execute_result"
    }
   ],
   "source": [
    "agent_feat.select(pl.all().n_unique())"
   ]
  },
  {
   "cell_type": "code",
   "execution_count": 23,
   "metadata": {},
   "outputs": [
    {
     "data": {
      "text/plain": [
       "['agent1_selection',\n",
       " 'agent1_expansion',\n",
       " 'agent1_playout',\n",
       " 'agent1_score_bounds',\n",
       " 'agent2_selection',\n",
       " 'agent2_expansion',\n",
       " 'agent2_playout',\n",
       " 'agent2_score_bounds']"
      ]
     },
     "execution_count": 23,
     "metadata": {},
     "output_type": "execute_result"
    }
   ],
   "source": [
    "agent_feat.columns"
   ]
  },
  {
   "cell_type": "code",
   "execution_count": 39,
   "metadata": {},
   "outputs": [],
   "source": [
    "cols = [\n",
    "    \"agent1_expansion\",\n",
    "    \"agent1_playout\",\n",
    "    \"agent1_score_bounds\",\n",
    "    \"agent1_selection\",\n",
    "    \"agent2_expansion\",\n",
    "    \"agent2_playout\",\n",
    "    \"agent2_score_bounds\",\n",
    "    \"agent2_selection\",\n",
    "]\n",
    "\n",
    "cols_group = []\n",
    "cols_group += cols\n",
    "cols_group += list(itertools.combinations(cols, 2))\n",
    "\n",
    "data: pl.DataFrame = pl.concat(\n",
    "    [agent_feat, fold, utility_agent1, win_rate], how=\"horizontal\"\n",
    ")\n",
    "\n",
    "\n",
    "cols_select = []\n",
    "for col_group in cols_group:\n",
    "    if isinstance(col_group, str):\n",
    "        col_group = [col_group]\n",
    "    elif isinstance(col_group, tuple):\n",
    "        col_group = list(col_group)\n",
    "\n",
    "    data = data.with_columns(\n",
    "        pl.when(pl.col(\"utility_agent1\") == 1.0)\n",
    "        .then(1)\n",
    "        .otherwise(0)\n",
    "        .mean()\n",
    "        .over([\"fold\"] + col_group)\n",
    "        .alias(\n",
    "            \"{}_te_one_mean\".format(\"_\".join(col_group)),\n",
    "        ),\n",
    "        pl.when(pl.col(\"utility_agent1\") == 0.0)\n",
    "        .then(1)\n",
    "        .otherwise(0)\n",
    "        .mean()\n",
    "        .over([\"fold\"] + col_group)\n",
    "        .alias(\n",
    "            \"{}_te_zero_mean\".format(\"_\".join(col_group)),\n",
    "        ),\n",
    "        pl.when(pl.col(\"utility_agent1\").abs() < 1.0)\n",
    "        .then(pl.col(\"utility_agent1\"))\n",
    "        .otherwise(None)\n",
    "        .mean()\n",
    "        .over([\"fold\"] + col_group)\n",
    "        .alias(\n",
    "            \"{}_te_non_one_mean\".format(\"_\".join(col_group)),\n",
    "        ),\n",
    "    )\n",
    "    cols_select.append(\"{}_te_one_mean\".format(\"_\".join(col_group)))\n",
    "    cols_select.append(\"{}_te_zero_mean\".format(\"_\".join(col_group)))\n",
    "    cols_select.append(\"{}_te_non_one_mean\".format(\"_\".join(col_group)))"
   ]
  },
  {
   "cell_type": "code",
   "execution_count": 40,
   "metadata": {},
   "outputs": [
    {
     "data": {
      "text/html": [
       "<div><style>\n",
       ".dataframe > thead > tr,\n",
       ".dataframe > tbody > tr {\n",
       "  text-align: right;\n",
       "  white-space: pre-wrap;\n",
       "}\n",
       "</style>\n",
       "<small>shape: (233_234, 108)</small><table border=\"1\" class=\"dataframe\"><thead><tr><th>agent1_expansion_te_one_mean</th><th>agent1_expansion_te_zero_mean</th><th>agent1_expansion_te_non_one_mean</th><th>agent1_playout_te_one_mean</th><th>agent1_playout_te_zero_mean</th><th>agent1_playout_te_non_one_mean</th><th>agent1_score_bounds_te_one_mean</th><th>agent1_score_bounds_te_zero_mean</th><th>agent1_score_bounds_te_non_one_mean</th><th>agent1_selection_te_one_mean</th><th>agent1_selection_te_zero_mean</th><th>agent1_selection_te_non_one_mean</th><th>agent2_expansion_te_one_mean</th><th>agent2_expansion_te_zero_mean</th><th>agent2_expansion_te_non_one_mean</th><th>agent2_playout_te_one_mean</th><th>agent2_playout_te_zero_mean</th><th>agent2_playout_te_non_one_mean</th><th>agent2_score_bounds_te_one_mean</th><th>agent2_score_bounds_te_zero_mean</th><th>agent2_score_bounds_te_non_one_mean</th><th>agent2_selection_te_one_mean</th><th>agent2_selection_te_zero_mean</th><th>agent2_selection_te_non_one_mean</th><th>agent1_expansion_agent1_playout_te_one_mean</th><th>agent1_expansion_agent1_playout_te_zero_mean</th><th>agent1_expansion_agent1_playout_te_non_one_mean</th><th>agent1_expansion_agent1_score_bounds_te_one_mean</th><th>agent1_expansion_agent1_score_bounds_te_zero_mean</th><th>agent1_expansion_agent1_score_bounds_te_non_one_mean</th><th>agent1_expansion_agent1_selection_te_one_mean</th><th>agent1_expansion_agent1_selection_te_zero_mean</th><th>agent1_expansion_agent1_selection_te_non_one_mean</th><th>agent1_expansion_agent2_expansion_te_one_mean</th><th>agent1_expansion_agent2_expansion_te_zero_mean</th><th>agent1_expansion_agent2_expansion_te_non_one_mean</th><th>agent1_expansion_agent2_playout_te_one_mean</th><th>&hellip;</th><th>agent1_score_bounds_agent2_playout_te_non_one_mean</th><th>agent1_score_bounds_agent2_score_bounds_te_one_mean</th><th>agent1_score_bounds_agent2_score_bounds_te_zero_mean</th><th>agent1_score_bounds_agent2_score_bounds_te_non_one_mean</th><th>agent1_score_bounds_agent2_selection_te_one_mean</th><th>agent1_score_bounds_agent2_selection_te_zero_mean</th><th>agent1_score_bounds_agent2_selection_te_non_one_mean</th><th>agent1_selection_agent2_expansion_te_one_mean</th><th>agent1_selection_agent2_expansion_te_zero_mean</th><th>agent1_selection_agent2_expansion_te_non_one_mean</th><th>agent1_selection_agent2_playout_te_one_mean</th><th>agent1_selection_agent2_playout_te_zero_mean</th><th>agent1_selection_agent2_playout_te_non_one_mean</th><th>agent1_selection_agent2_score_bounds_te_one_mean</th><th>agent1_selection_agent2_score_bounds_te_zero_mean</th><th>agent1_selection_agent2_score_bounds_te_non_one_mean</th><th>agent1_selection_agent2_selection_te_one_mean</th><th>agent1_selection_agent2_selection_te_zero_mean</th><th>agent1_selection_agent2_selection_te_non_one_mean</th><th>agent2_expansion_agent2_playout_te_one_mean</th><th>agent2_expansion_agent2_playout_te_zero_mean</th><th>agent2_expansion_agent2_playout_te_non_one_mean</th><th>agent2_expansion_agent2_score_bounds_te_one_mean</th><th>agent2_expansion_agent2_score_bounds_te_zero_mean</th><th>agent2_expansion_agent2_score_bounds_te_non_one_mean</th><th>agent2_expansion_agent2_selection_te_one_mean</th><th>agent2_expansion_agent2_selection_te_zero_mean</th><th>agent2_expansion_agent2_selection_te_non_one_mean</th><th>agent2_playout_agent2_score_bounds_te_one_mean</th><th>agent2_playout_agent2_score_bounds_te_zero_mean</th><th>agent2_playout_agent2_score_bounds_te_non_one_mean</th><th>agent2_playout_agent2_selection_te_one_mean</th><th>agent2_playout_agent2_selection_te_zero_mean</th><th>agent2_playout_agent2_selection_te_non_one_mean</th><th>agent2_score_bounds_agent2_selection_te_one_mean</th><th>agent2_score_bounds_agent2_selection_te_zero_mean</th><th>agent2_score_bounds_agent2_selection_te_non_one_mean</th></tr><tr><td>f64</td><td>f64</td><td>f64</td><td>f64</td><td>f64</td><td>f64</td><td>f64</td><td>f64</td><td>f64</td><td>f64</td><td>f64</td><td>f64</td><td>f64</td><td>f64</td><td>f64</td><td>f64</td><td>f64</td><td>f64</td><td>f64</td><td>f64</td><td>f64</td><td>f64</td><td>f64</td><td>f64</td><td>f64</td><td>f64</td><td>f64</td><td>f64</td><td>f64</td><td>f64</td><td>f64</td><td>f64</td><td>f64</td><td>f64</td><td>f64</td><td>f64</td><td>f64</td><td>&hellip;</td><td>f64</td><td>f64</td><td>f64</td><td>f64</td><td>f64</td><td>f64</td><td>f64</td><td>f64</td><td>f64</td><td>f64</td><td>f64</td><td>f64</td><td>f64</td><td>f64</td><td>f64</td><td>f64</td><td>f64</td><td>f64</td><td>f64</td><td>f64</td><td>f64</td><td>f64</td><td>f64</td><td>f64</td><td>f64</td><td>f64</td><td>f64</td><td>f64</td><td>f64</td><td>f64</td><td>f64</td><td>f64</td><td>f64</td><td>f64</td><td>f64</td><td>f64</td><td>f64</td></tr></thead><tbody><tr><td>0.101151</td><td>0.071419</td><td>-0.025766</td><td>0.117436</td><td>0.071767</td><td>0.050825</td><td>0.113352</td><td>0.066959</td><td>0.030591</td><td>0.105785</td><td>0.069575</td><td>0.022433</td><td>0.117841</td><td>0.073465</td><td>0.011971</td><td>0.118927</td><td>0.07599</td><td>0.024257</td><td>0.116939</td><td>0.068075</td><td>0.03117</td><td>0.149496</td><td>0.065695</td><td>0.036192</td><td>0.098605</td><td>0.066883</td><td>-0.005193</td><td>0.09229</td><td>0.065333</td><td>-0.040499</td><td>0.077531</td><td>0.067075</td><td>-0.108489</td><td>0.095963</td><td>0.068165</td><td>-0.049992</td><td>0.099522</td><td>&hellip;</td><td>0.023784</td><td>0.100837</td><td>0.059353</td><td>0.030159</td><td>0.138026</td><td>0.059709</td><td>0.038673</td><td>0.100873</td><td>0.076232</td><td>-0.000525</td><td>0.108453</td><td>0.06736</td><td>0.01469</td><td>0.101294</td><td>0.066019</td><td>0.027066</td><td>0.111951</td><td>0.069834</td><td>0.035925</td><td>0.107904</td><td>0.07284</td><td>-0.00831</td><td>0.11263</td><td>0.068456</td><td>0.006523</td><td>0.146284</td><td>0.057888</td><td>0.029741</td><td>0.112208</td><td>0.070672</td><td>0.024266</td><td>0.147917</td><td>0.068229</td><td>0.021149</td><td>0.145744</td><td>0.06078</td><td>0.038484</td></tr><tr><td>0.101151</td><td>0.071419</td><td>-0.025766</td><td>0.117436</td><td>0.071767</td><td>0.050825</td><td>0.113352</td><td>0.066959</td><td>0.030591</td><td>0.105785</td><td>0.069575</td><td>0.022433</td><td>0.117841</td><td>0.073465</td><td>0.011971</td><td>0.132547</td><td>0.074055</td><td>0.057234</td><td>0.129026</td><td>0.079226</td><td>0.030737</td><td>0.126025</td><td>0.073821</td><td>0.066007</td><td>0.098605</td><td>0.066883</td><td>-0.005193</td><td>0.09229</td><td>0.065333</td><td>-0.040499</td><td>0.077531</td><td>0.067075</td><td>-0.108489</td><td>0.095963</td><td>0.068165</td><td>-0.049992</td><td>0.112301</td><td>&hellip;</td><td>0.055645</td><td>0.129414</td><td>0.07672</td><td>0.031194</td><td>0.115065</td><td>0.06623</td><td>0.062234</td><td>0.100873</td><td>0.076232</td><td>-0.000525</td><td>0.11114</td><td>0.072112</td><td>0.051688</td><td>0.110906</td><td>0.07363</td><td>0.016903</td><td>0.112614</td><td>0.069665</td><td>0.059114</td><td>0.125884</td><td>0.077769</td><td>0.047697</td><td>0.12374</td><td>0.079133</td><td>0.018353</td><td>0.127965</td><td>0.072452</td><td>0.074383</td><td>0.137666</td><td>0.082371</td><td>0.058987</td><td>0.130912</td><td>0.066893</td><td>0.075854</td><td>0.137944</td><td>0.07872</td><td>0.067697</td></tr><tr><td>0.101151</td><td>0.071419</td><td>-0.025766</td><td>0.117436</td><td>0.071767</td><td>0.050825</td><td>0.133203</td><td>0.080525</td><td>0.031442</td><td>0.105785</td><td>0.069575</td><td>0.022433</td><td>0.139962</td><td>0.070141</td><td>0.081559</td><td>0.132547</td><td>0.074055</td><td>0.057234</td><td>0.116939</td><td>0.068075</td><td>0.03117</td><td>0.116488</td><td>0.077345</td><td>0.025742</td><td>0.098605</td><td>0.066883</td><td>-0.005193</td><td>0.111686</td><td>0.078656</td><td>-0.007427</td><td>0.077531</td><td>0.067075</td><td>-0.108489</td><td>0.112712</td><td>0.073826</td><td>0.027803</td><td>0.112301</td><td>&hellip;</td><td>0.059115</td><td>0.137605</td><td>0.079268</td><td>0.032587</td><td>0.126089</td><td>0.082923</td><td>0.021672</td><td>0.120092</td><td>0.064152</td><td>0.077076</td><td>0.11114</td><td>0.072112</td><td>0.051688</td><td>0.101294</td><td>0.066019</td><td>0.027066</td><td>0.107899</td><td>0.07395</td><td>0.005877</td><td>0.149776</td><td>0.06808</td><td>0.096008</td><td>0.134785</td><td>0.064626</td><td>0.093679</td><td>0.144059</td><td>0.07387</td><td>0.126574</td><td>0.128272</td><td>0.067111</td><td>0.055824</td><td>0.128481</td><td>0.085391</td><td>0.065183</td><td>0.114935</td><td>0.072355</td><td>0.028854</td></tr><tr><td>0.101151</td><td>0.071419</td><td>-0.025766</td><td>0.117436</td><td>0.071767</td><td>0.050825</td><td>0.133203</td><td>0.080525</td><td>0.031442</td><td>0.105785</td><td>0.069575</td><td>0.022433</td><td>0.117841</td><td>0.073465</td><td>0.011971</td><td>0.132547</td><td>0.074055</td><td>0.057234</td><td>0.116939</td><td>0.068075</td><td>0.03117</td><td>0.116488</td><td>0.077345</td><td>0.025742</td><td>0.098605</td><td>0.066883</td><td>-0.005193</td><td>0.111686</td><td>0.078656</td><td>-0.007427</td><td>0.077531</td><td>0.067075</td><td>-0.108489</td><td>0.095963</td><td>0.068165</td><td>-0.049992</td><td>0.112301</td><td>&hellip;</td><td>0.059115</td><td>0.137605</td><td>0.079268</td><td>0.032587</td><td>0.126089</td><td>0.082923</td><td>0.021672</td><td>0.100873</td><td>0.076232</td><td>-0.000525</td><td>0.11114</td><td>0.072112</td><td>0.051688</td><td>0.101294</td><td>0.066019</td><td>0.027066</td><td>0.107899</td><td>0.07395</td><td>0.005877</td><td>0.125884</td><td>0.077769</td><td>0.047697</td><td>0.11263</td><td>0.068456</td><td>0.006523</td><td>0.09832</td><td>0.084776</td><td>-0.034036</td><td>0.128272</td><td>0.067111</td><td>0.055824</td><td>0.128481</td><td>0.085391</td><td>0.065183</td><td>0.114935</td><td>0.072355</td><td>0.028854</td></tr><tr><td>0.101151</td><td>0.071419</td><td>-0.025766</td><td>0.117436</td><td>0.071767</td><td>0.050825</td><td>0.133203</td><td>0.080525</td><td>0.031442</td><td>0.105785</td><td>0.069575</td><td>0.022433</td><td>0.10964</td><td>0.076093</td><td>-0.000632</td><td>0.132547</td><td>0.074055</td><td>0.057234</td><td>0.116939</td><td>0.068075</td><td>0.03117</td><td>0.126025</td><td>0.073821</td><td>0.066007</td><td>0.098605</td><td>0.066883</td><td>-0.005193</td><td>0.111686</td><td>0.078656</td><td>-0.007427</td><td>0.077531</td><td>0.067075</td><td>-0.108489</td><td>0.095265</td><td>0.072341</td><td>-0.053963</td><td>0.112301</td><td>&hellip;</td><td>0.059115</td><td>0.137605</td><td>0.079268</td><td>0.032587</td><td>0.138654</td><td>0.082567</td><td>0.070602</td><td>0.096164</td><td>0.068313</td><td>-0.01087</td><td>0.11114</td><td>0.072112</td><td>0.051688</td><td>0.101294</td><td>0.066019</td><td>0.027066</td><td>0.112614</td><td>0.069665</td><td>0.059114</td><td>0.122012</td><td>0.07633</td><td>0.028347</td><td>0.103095</td><td>0.07119</td><td>-0.00729</td><td>0.138046</td><td>0.076093</td><td>0.116959</td><td>0.128272</td><td>0.067111</td><td>0.055824</td><td>0.130912</td><td>0.066893</td><td>0.075854</td><td>0.115685</td><td>0.069571</td><td>0.064624</td></tr><tr><td>&hellip;</td><td>&hellip;</td><td>&hellip;</td><td>&hellip;</td><td>&hellip;</td><td>&hellip;</td><td>&hellip;</td><td>&hellip;</td><td>&hellip;</td><td>&hellip;</td><td>&hellip;</td><td>&hellip;</td><td>&hellip;</td><td>&hellip;</td><td>&hellip;</td><td>&hellip;</td><td>&hellip;</td><td>&hellip;</td><td>&hellip;</td><td>&hellip;</td><td>&hellip;</td><td>&hellip;</td><td>&hellip;</td><td>&hellip;</td><td>&hellip;</td><td>&hellip;</td><td>&hellip;</td><td>&hellip;</td><td>&hellip;</td><td>&hellip;</td><td>&hellip;</td><td>&hellip;</td><td>&hellip;</td><td>&hellip;</td><td>&hellip;</td><td>&hellip;</td><td>&hellip;</td><td>&hellip;</td><td>&hellip;</td><td>&hellip;</td><td>&hellip;</td><td>&hellip;</td><td>&hellip;</td><td>&hellip;</td><td>&hellip;</td><td>&hellip;</td><td>&hellip;</td><td>&hellip;</td><td>&hellip;</td><td>&hellip;</td><td>&hellip;</td><td>&hellip;</td><td>&hellip;</td><td>&hellip;</td><td>&hellip;</td><td>&hellip;</td><td>&hellip;</td><td>&hellip;</td><td>&hellip;</td><td>&hellip;</td><td>&hellip;</td><td>&hellip;</td><td>&hellip;</td><td>&hellip;</td><td>&hellip;</td><td>&hellip;</td><td>&hellip;</td><td>&hellip;</td><td>&hellip;</td><td>&hellip;</td><td>&hellip;</td><td>&hellip;</td><td>&hellip;</td><td>&hellip;</td><td>&hellip;</td></tr><tr><td>0.150665</td><td>0.085705</td><td>0.042454</td><td>0.12297</td><td>0.082217</td><td>-0.02509</td><td>0.124527</td><td>0.079874</td><td>0.019968</td><td>0.157886</td><td>0.08699</td><td>0.051996</td><td>0.122917</td><td>0.086742</td><td>-0.02323</td><td>0.128059</td><td>0.0809</td><td>0.002749</td><td>0.127393</td><td>0.080989</td><td>0.013092</td><td>0.162582</td><td>0.080601</td><td>0.005577</td><td>0.140136</td><td>0.083382</td><td>-0.005043</td><td>0.138471</td><td>0.085491</td><td>0.050421</td><td>0.170681</td><td>0.084693</td><td>0.068144</td><td>0.136682</td><td>0.094483</td><td>0.007305</td><td>0.143751</td><td>&hellip;</td><td>0.013389</td><td>0.112858</td><td>0.075215</td><td>0.023271</td><td>0.15355</td><td>0.077578</td><td>0.020688</td><td>0.145416</td><td>0.09589</td><td>0.022078</td><td>0.147395</td><td>0.084117</td><td>0.050661</td><td>0.152689</td><td>0.084182</td><td>0.055688</td><td>0.179303</td><td>0.081626</td><td>0.044232</td><td>0.113741</td><td>0.086605</td><td>-0.028943</td><td>0.116436</td><td>0.085491</td><td>-0.023931</td><td>0.114897</td><td>0.087956</td><td>-0.117609</td><td>0.118783</td><td>0.078991</td><td>0.007133</td><td>0.154762</td><td>0.078934</td><td>-0.020838</td><td>0.155531</td><td>0.076726</td><td>0.006919</td></tr><tr><td>0.150665</td><td>0.085705</td><td>0.042454</td><td>0.144802</td><td>0.082753</td><td>0.028892</td><td>0.124527</td><td>0.079874</td><td>0.019968</td><td>0.157886</td><td>0.08699</td><td>0.051996</td><td>0.127615</td><td>0.083157</td><td>-0.000168</td><td>0.129766</td><td>0.085974</td><td>-0.007921</td><td>0.127393</td><td>0.080989</td><td>0.013092</td><td>0.129185</td><td>0.079392</td><td>0.011921</td><td>0.159353</td><td>0.087567</td><td>0.052884</td><td>0.138471</td><td>0.085491</td><td>0.050421</td><td>0.170681</td><td>0.084693</td><td>0.068144</td><td>0.139257</td><td>0.090754</td><td>0.038759</td><td>0.140249</td><td>&hellip;</td><td>-0.00249</td><td>0.112858</td><td>0.075215</td><td>0.023271</td><td>0.115176</td><td>0.077476</td><td>0.020645</td><td>0.148045</td><td>0.082472</td><td>0.042131</td><td>0.147462</td><td>0.093909</td><td>0.02616</td><td>0.152689</td><td>0.084182</td><td>0.055688</td><td>0.156303</td><td>0.088067</td><td>0.040063</td><td>0.129488</td><td>0.084798</td><td>-0.003009</td><td>0.119962</td><td>0.079305</td><td>-0.005661</td><td>0.112595</td><td>0.083006</td><td>-0.04944</td><td>0.122755</td><td>0.083978</td><td>-0.011058</td><td>0.11295</td><td>0.082742</td><td>-0.031187</td><td>0.116971</td><td>0.076848</td><td>0.007726</td></tr><tr><td>0.150665</td><td>0.085705</td><td>0.042454</td><td>0.144802</td><td>0.082753</td><td>0.028892</td><td>0.124527</td><td>0.079874</td><td>0.019968</td><td>0.157886</td><td>0.08699</td><td>0.051996</td><td>0.122917</td><td>0.086742</td><td>-0.02323</td><td>0.147099</td><td>0.082088</td><td>0.044389</td><td>0.127393</td><td>0.080989</td><td>0.013092</td><td>0.137206</td><td>0.084864</td><td>0.062192</td><td>0.159353</td><td>0.087567</td><td>0.052884</td><td>0.138471</td><td>0.085491</td><td>0.050421</td><td>0.170681</td><td>0.084693</td><td>0.068144</td><td>0.136682</td><td>0.094483</td><td>0.007305</td><td>0.167893</td><td>&hellip;</td><td>0.048647</td><td>0.112858</td><td>0.075215</td><td>0.023271</td><td>0.127116</td><td>0.082402</td><td>0.061305</td><td>0.145416</td><td>0.09589</td><td>0.022078</td><td>0.178835</td><td>0.082931</td><td>0.079593</td><td>0.152689</td><td>0.084182</td><td>0.055688</td><td>0.173134</td><td>0.089552</td><td>0.106811</td><td>0.141302</td><td>0.083382</td><td>0.013695</td><td>0.116436</td><td>0.085491</td><td>-0.023931</td><td>0.140706</td><td>0.090083</td><td>0.101349</td><td>0.140889</td><td>0.07999</td><td>0.043581</td><td>0.146694</td><td>0.08187</td><td>0.07203</td><td>0.132507</td><td>0.080712</td><td>0.064133</td></tr><tr><td>0.150665</td><td>0.085705</td><td>0.042454</td><td>0.144802</td><td>0.082753</td><td>0.028892</td><td>0.124527</td><td>0.079874</td><td>0.019968</td><td>0.157886</td><td>0.08699</td><td>0.051996</td><td>0.122917</td><td>0.086742</td><td>-0.02323</td><td>0.147099</td><td>0.082088</td><td>0.044389</td><td>0.143754</td><td>0.085313</td><td>0.012988</td><td>0.137206</td><td>0.084864</td><td>0.062192</td><td>0.159353</td><td>0.087567</td><td>0.052884</td><td>0.138471</td><td>0.085491</td><td>0.050421</td><td>0.170681</td><td>0.084693</td><td>0.068144</td><td>0.136682</td><td>0.094483</td><td>0.007305</td><td>0.167893</td><td>&hellip;</td><td>0.048647</td><td>0.139658</td><td>0.085915</td><td>0.015456</td><td>0.127116</td><td>0.082402</td><td>0.061305</td><td>0.145416</td><td>0.09589</td><td>0.022078</td><td>0.178835</td><td>0.082931</td><td>0.079593</td><td>0.163995</td><td>0.090289</td><td>0.047566</td><td>0.173134</td><td>0.089552</td><td>0.106811</td><td>0.141302</td><td>0.083382</td><td>0.013695</td><td>0.130478</td><td>0.088202</td><td>-0.022384</td><td>0.140706</td><td>0.090083</td><td>0.101349</td><td>0.154253</td><td>0.084505</td><td>0.045347</td><td>0.146694</td><td>0.08187</td><td>0.07203</td><td>0.142724</td><td>0.089739</td><td>0.059859</td></tr><tr><td>0.150665</td><td>0.085705</td><td>0.042454</td><td>0.144802</td><td>0.082753</td><td>0.028892</td><td>0.147101</td><td>0.086615</td><td>0.004613</td><td>0.157886</td><td>0.08699</td><td>0.051996</td><td>0.127615</td><td>0.083157</td><td>-0.000168</td><td>0.129766</td><td>0.085974</td><td>-0.007921</td><td>0.127393</td><td>0.080989</td><td>0.013092</td><td>0.111215</td><td>0.08699</td><td>-0.026713</td><td>0.159353</td><td>0.087567</td><td>0.052884</td><td>0.164888</td><td>0.085955</td><td>0.032717</td><td>0.170681</td><td>0.084693</td><td>0.068144</td><td>0.139257</td><td>0.090754</td><td>0.038759</td><td>0.140249</td><td>&hellip;</td><td>-0.014463</td><td>0.146239</td><td>0.088475</td><td>-0.000957</td><td>0.121061</td><td>0.092869</td><td>-0.032631</td><td>0.148045</td><td>0.082472</td><td>0.042131</td><td>0.147462</td><td>0.093909</td><td>0.02616</td><td>0.152689</td><td>0.084182</td><td>0.055688</td><td>0.121884</td><td>0.088643</td><td>0.017153</td><td>0.129488</td><td>0.084798</td><td>-0.003009</td><td>0.119962</td><td>0.079305</td><td>-0.005661</td><td>0.104167</td><td>0.086847</td><td>-0.029528</td><td>0.122755</td><td>0.083978</td><td>-0.011058</td><td>0.101682</td><td>0.08712</td><td>-0.057378</td><td>0.104909</td><td>0.089431</td><td>-0.025419</td></tr></tbody></table></div>"
      ],
      "text/plain": [
       "shape: (233_234, 108)\n",
       "┌───────────┬───────────┬───────────┬───────────┬───┬───────────┬───────────┬───────────┬──────────┐\n",
       "│ agent1_ex ┆ agent1_ex ┆ agent1_ex ┆ agent1_pl ┆ … ┆ agent2_pl ┆ agent2_sc ┆ agent2_sc ┆ agent2_s │\n",
       "│ pansion_t ┆ pansion_t ┆ pansion_t ┆ ayout_te_ ┆   ┆ ayout_age ┆ ore_bound ┆ ore_bound ┆ core_bou │\n",
       "│ e_one_mea ┆ e_zero_me ┆ e_non_one ┆ one_mean  ┆   ┆ nt2_selec ┆ s_agent2_ ┆ s_agent2_ ┆ nds_agen │\n",
       "│ n         ┆ an        ┆ _me…      ┆ ---       ┆   ┆ tio…      ┆ sel…      ┆ sel…      ┆ t2_sel…  │\n",
       "│ ---       ┆ ---       ┆ ---       ┆ f64       ┆   ┆ ---       ┆ ---       ┆ ---       ┆ ---      │\n",
       "│ f64       ┆ f64       ┆ f64       ┆           ┆   ┆ f64       ┆ f64       ┆ f64       ┆ f64      │\n",
       "╞═══════════╪═══════════╪═══════════╪═══════════╪═══╪═══════════╪═══════════╪═══════════╪══════════╡\n",
       "│ 0.101151  ┆ 0.071419  ┆ -0.025766 ┆ 0.117436  ┆ … ┆ 0.021149  ┆ 0.145744  ┆ 0.06078   ┆ 0.038484 │\n",
       "│ 0.101151  ┆ 0.071419  ┆ -0.025766 ┆ 0.117436  ┆ … ┆ 0.075854  ┆ 0.137944  ┆ 0.07872   ┆ 0.067697 │\n",
       "│ 0.101151  ┆ 0.071419  ┆ -0.025766 ┆ 0.117436  ┆ … ┆ 0.065183  ┆ 0.114935  ┆ 0.072355  ┆ 0.028854 │\n",
       "│ 0.101151  ┆ 0.071419  ┆ -0.025766 ┆ 0.117436  ┆ … ┆ 0.065183  ┆ 0.114935  ┆ 0.072355  ┆ 0.028854 │\n",
       "│ 0.101151  ┆ 0.071419  ┆ -0.025766 ┆ 0.117436  ┆ … ┆ 0.075854  ┆ 0.115685  ┆ 0.069571  ┆ 0.064624 │\n",
       "│ …         ┆ …         ┆ …         ┆ …         ┆ … ┆ …         ┆ …         ┆ …         ┆ …        │\n",
       "│ 0.150665  ┆ 0.085705  ┆ 0.042454  ┆ 0.12297   ┆ … ┆ -0.020838 ┆ 0.155531  ┆ 0.076726  ┆ 0.006919 │\n",
       "│ 0.150665  ┆ 0.085705  ┆ 0.042454  ┆ 0.144802  ┆ … ┆ -0.031187 ┆ 0.116971  ┆ 0.076848  ┆ 0.007726 │\n",
       "│ 0.150665  ┆ 0.085705  ┆ 0.042454  ┆ 0.144802  ┆ … ┆ 0.07203   ┆ 0.132507  ┆ 0.080712  ┆ 0.064133 │\n",
       "│ 0.150665  ┆ 0.085705  ┆ 0.042454  ┆ 0.144802  ┆ … ┆ 0.07203   ┆ 0.142724  ┆ 0.089739  ┆ 0.059859 │\n",
       "│ 0.150665  ┆ 0.085705  ┆ 0.042454  ┆ 0.144802  ┆ … ┆ -0.057378 ┆ 0.104909  ┆ 0.089431  ┆ -0.02541 │\n",
       "│           ┆           ┆           ┆           ┆   ┆           ┆           ┆           ┆ 9        │\n",
       "└───────────┴───────────┴───────────┴───────────┴───┴───────────┴───────────┴───────────┴──────────┘"
      ]
     },
     "execution_count": 40,
     "metadata": {},
     "output_type": "execute_result"
    }
   ],
   "source": [
    "data.select(cols_select)"
   ]
  },
  {
   "cell_type": "code",
   "execution_count": null,
   "metadata": {},
   "outputs": [],
   "source": []
  }
 ],
 "metadata": {
  "kernelspec": {
   "display_name": "base",
   "language": "python",
   "name": "python3"
  },
  "language_info": {
   "codemirror_mode": {
    "name": "ipython",
    "version": 3
   },
   "file_extension": ".py",
   "mimetype": "text/x-python",
   "name": "python",
   "nbconvert_exporter": "python",
   "pygments_lexer": "ipython3",
   "version": "3.10.14"
  }
 },
 "nbformat": 4,
 "nbformat_minor": 2
}
