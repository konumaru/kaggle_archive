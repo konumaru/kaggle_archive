{
 "cells": [
  {
   "cell_type": "code",
   "execution_count": 34,
   "metadata": {},
   "outputs": [],
   "source": [
    "import pathlib\n",
    "\n",
    "import polars as pl"
   ]
  },
  {
   "cell_type": "code",
   "execution_count": 11,
   "metadata": {},
   "outputs": [],
   "source": [
    "raw_dirpath = pathlib.Path(\"../data/raw\")\n",
    "\n",
    "train = pl.read_csv(\n",
    "    raw_dirpath / \"train.csv\",\n",
    "    columns=[\n",
    "        \"Id\",\n",
    "        \"GameRulesetName\",\n",
    "        \"agent1\",\n",
    "        \"agent2\",\n",
    "        \"EnglishRules\",\n",
    "        \"LudRules\",\n",
    "    ],\n",
    ")\n",
    "test = pl.read_csv(raw_dirpath / \"test.csv\")"
   ]
  },
  {
   "cell_type": "code",
   "execution_count": 18,
   "metadata": {},
   "outputs": [
    {
     "data": {
      "text/html": [
       "<div><style>\n",
       ".dataframe > thead > tr,\n",
       ".dataframe > tbody > tr {\n",
       "  text-align: right;\n",
       "  white-space: pre-wrap;\n",
       "}\n",
       "</style>\n",
       "<small>shape: (233_234, 6)</small><table border=\"1\" class=\"dataframe\"><thead><tr><th>Id</th><th>GameRulesetName</th><th>agent1</th><th>agent2</th><th>EnglishRules</th><th>LudRules</th></tr><tr><td>i64</td><td>str</td><td>str</td><td>str</td><td>str</td><td>str</td></tr></thead><tbody><tr><td>0</td><td>&quot;00Y&quot;</td><td>&quot;MCTS-ProgressiveHistory-0.1-MA…</td><td>&quot;MCTS-ProgressiveHistory-0.6-Ra…</td><td>&quot;Goal: Connect all three edge c…</td><td>&quot;(game &quot;00&#x27;Y&#x27;&quot; (players 2) (equ…</td></tr><tr><td>1</td><td>&quot;00Y&quot;</td><td>&quot;MCTS-ProgressiveHistory-0.1-MA…</td><td>&quot;MCTS-UCB1GRAVE-0.6-NST-true&quot;</td><td>&quot;Goal: Connect all three edge c…</td><td>&quot;(game &quot;00&#x27;Y&#x27;&quot; (players 2) (equ…</td></tr><tr><td>2</td><td>&quot;00Y&quot;</td><td>&quot;MCTS-ProgressiveHistory-0.1-MA…</td><td>&quot;MCTS-UCB1-0.1-NST-false&quot;</td><td>&quot;Goal: Connect all three edge c…</td><td>&quot;(game &quot;00&#x27;Y&#x27;&quot; (players 2) (equ…</td></tr><tr><td>3</td><td>&quot;00Y&quot;</td><td>&quot;MCTS-ProgressiveHistory-0.1-MA…</td><td>&quot;MCTS-UCB1-0.6-NST-false&quot;</td><td>&quot;Goal: Connect all three edge c…</td><td>&quot;(game &quot;00&#x27;Y&#x27;&quot; (players 2) (equ…</td></tr><tr><td>4</td><td>&quot;00Y&quot;</td><td>&quot;MCTS-ProgressiveHistory-0.1-MA…</td><td>&quot;MCTS-UCB1GRAVE-1.41421356237-N…</td><td>&quot;Goal: Connect all three edge c…</td><td>&quot;(game &quot;00&#x27;Y&#x27;&quot; (players 2) (equ…</td></tr><tr><td>&hellip;</td><td>&hellip;</td><td>&hellip;</td><td>&hellip;</td><td>&hellip;</td><td>&hellip;</td></tr><tr><td>233229</td><td>&quot;Zuz_Mel_7x7&quot;</td><td>&quot;MCTS-UCB1Tuned-1.41421356237-N…</td><td>&quot;MCTS-ProgressiveHistory-1.4142…</td><td>&quot;7x7 board. 24 pieces per playe…</td><td>&quot;(game &quot;Zuz Mel (7x7)&quot; (players…</td></tr><tr><td>233230</td><td>&quot;Zuz_Mel_7x7&quot;</td><td>&quot;MCTS-UCB1Tuned-1.41421356237-R…</td><td>&quot;MCTS-UCB1-0.6-MAST-false&quot;</td><td>&quot;7x7 board. 24 pieces per playe…</td><td>&quot;(game &quot;Zuz Mel (7x7)&quot; (players…</td></tr><tr><td>233231</td><td>&quot;Zuz_Mel_7x7&quot;</td><td>&quot;MCTS-UCB1Tuned-1.41421356237-R…</td><td>&quot;MCTS-UCB1GRAVE-1.41421356237-N…</td><td>&quot;7x7 board. 24 pieces per playe…</td><td>&quot;(game &quot;Zuz Mel (7x7)&quot; (players…</td></tr><tr><td>233232</td><td>&quot;Zuz_Mel_7x7&quot;</td><td>&quot;MCTS-UCB1Tuned-1.41421356237-R…</td><td>&quot;MCTS-UCB1GRAVE-1.41421356237-N…</td><td>&quot;7x7 board. 24 pieces per playe…</td><td>&quot;(game &quot;Zuz Mel (7x7)&quot; (players…</td></tr><tr><td>233233</td><td>&quot;Zuz_Mel_7x7&quot;</td><td>&quot;MCTS-UCB1Tuned-1.41421356237-R…</td><td>&quot;MCTS-UCB1Tuned-0.6-MAST-false&quot;</td><td>&quot;7x7 board. 24 pieces per playe…</td><td>&quot;(game &quot;Zuz Mel (7x7)&quot; (players…</td></tr></tbody></table></div>"
      ],
      "text/plain": [
       "shape: (233_234, 6)\n",
       "┌────────┬─────────────────┬─────────────────┬─────────────────┬─────────────────┬─────────────────┐\n",
       "│ Id     ┆ GameRulesetName ┆ agent1          ┆ agent2          ┆ EnglishRules    ┆ LudRules        │\n",
       "│ ---    ┆ ---             ┆ ---             ┆ ---             ┆ ---             ┆ ---             │\n",
       "│ i64    ┆ str             ┆ str             ┆ str             ┆ str             ┆ str             │\n",
       "╞════════╪═════════════════╪═════════════════╪═════════════════╪═════════════════╪═════════════════╡\n",
       "│ 0      ┆ 00Y             ┆ MCTS-Progressiv ┆ MCTS-Progressiv ┆ Goal: Connect   ┆ (game \"00'Y'\"   │\n",
       "│        ┆                 ┆ eHistory-0.1-MA ┆ eHistory-0.6-Ra ┆ all three edge  ┆ (players 2)     │\n",
       "│        ┆                 ┆ …               ┆ …               ┆ c…              ┆ (equ…           │\n",
       "│ 1      ┆ 00Y             ┆ MCTS-Progressiv ┆ MCTS-UCB1GRAVE- ┆ Goal: Connect   ┆ (game \"00'Y'\"   │\n",
       "│        ┆                 ┆ eHistory-0.1-MA ┆ 0.6-NST-true    ┆ all three edge  ┆ (players 2)     │\n",
       "│        ┆                 ┆ …               ┆                 ┆ c…              ┆ (equ…           │\n",
       "│ 2      ┆ 00Y             ┆ MCTS-Progressiv ┆ MCTS-UCB1-0.1-N ┆ Goal: Connect   ┆ (game \"00'Y'\"   │\n",
       "│        ┆                 ┆ eHistory-0.1-MA ┆ ST-false        ┆ all three edge  ┆ (players 2)     │\n",
       "│        ┆                 ┆ …               ┆                 ┆ c…              ┆ (equ…           │\n",
       "│ 3      ┆ 00Y             ┆ MCTS-Progressiv ┆ MCTS-UCB1-0.6-N ┆ Goal: Connect   ┆ (game \"00'Y'\"   │\n",
       "│        ┆                 ┆ eHistory-0.1-MA ┆ ST-false        ┆ all three edge  ┆ (players 2)     │\n",
       "│        ┆                 ┆ …               ┆                 ┆ c…              ┆ (equ…           │\n",
       "│ 4      ┆ 00Y             ┆ MCTS-Progressiv ┆ MCTS-UCB1GRAVE- ┆ Goal: Connect   ┆ (game \"00'Y'\"   │\n",
       "│        ┆                 ┆ eHistory-0.1-MA ┆ 1.41421356237-N ┆ all three edge  ┆ (players 2)     │\n",
       "│        ┆                 ┆ …               ┆ …               ┆ c…              ┆ (equ…           │\n",
       "│ …      ┆ …               ┆ …               ┆ …               ┆ …               ┆ …               │\n",
       "│ 233229 ┆ Zuz_Mel_7x7     ┆ MCTS-UCB1Tuned- ┆ MCTS-Progressiv ┆ 7x7 board. 24   ┆ (game \"Zuz Mel  │\n",
       "│        ┆                 ┆ 1.41421356237-N ┆ eHistory-1.4142 ┆ pieces per      ┆ (7x7)\"          │\n",
       "│        ┆                 ┆ …               ┆ …               ┆ playe…          ┆ (players…       │\n",
       "│ 233230 ┆ Zuz_Mel_7x7     ┆ MCTS-UCB1Tuned- ┆ MCTS-UCB1-0.6-M ┆ 7x7 board. 24   ┆ (game \"Zuz Mel  │\n",
       "│        ┆                 ┆ 1.41421356237-R ┆ AST-false       ┆ pieces per      ┆ (7x7)\"          │\n",
       "│        ┆                 ┆ …               ┆                 ┆ playe…          ┆ (players…       │\n",
       "│ 233231 ┆ Zuz_Mel_7x7     ┆ MCTS-UCB1Tuned- ┆ MCTS-UCB1GRAVE- ┆ 7x7 board. 24   ┆ (game \"Zuz Mel  │\n",
       "│        ┆                 ┆ 1.41421356237-R ┆ 1.41421356237-N ┆ pieces per      ┆ (7x7)\"          │\n",
       "│        ┆                 ┆ …               ┆ …               ┆ playe…          ┆ (players…       │\n",
       "│ 233232 ┆ Zuz_Mel_7x7     ┆ MCTS-UCB1Tuned- ┆ MCTS-UCB1GRAVE- ┆ 7x7 board. 24   ┆ (game \"Zuz Mel  │\n",
       "│        ┆                 ┆ 1.41421356237-R ┆ 1.41421356237-N ┆ pieces per      ┆ (7x7)\"          │\n",
       "│        ┆                 ┆ …               ┆ …               ┆ playe…          ┆ (players…       │\n",
       "│ 233233 ┆ Zuz_Mel_7x7     ┆ MCTS-UCB1Tuned- ┆ MCTS-UCB1Tuned- ┆ 7x7 board. 24   ┆ (game \"Zuz Mel  │\n",
       "│        ┆                 ┆ 1.41421356237-R ┆ 0.6-MAST-false  ┆ pieces per      ┆ (7x7)\"          │\n",
       "│        ┆                 ┆ …               ┆                 ┆ playe…          ┆ (players…       │\n",
       "└────────┴─────────────────┴─────────────────┴─────────────────┴─────────────────┴─────────────────┘"
      ]
     },
     "execution_count": 18,
     "metadata": {},
     "output_type": "execute_result"
    }
   ],
   "source": [
    "train"
   ]
  },
  {
   "cell_type": "markdown",
   "metadata": {},
   "source": [
    "## Agent String Descriptions\n",
    "\n",
    "`MCTS-<SELECTION>-<EXPLORATION_CONST>-<PLAYOUT>-<SCORE_BOUNDS>` という文字列の構成になっている。\n",
    "\n",
    "- SELECTION: 戦略名（e.g. UCB1, UCB1-Tuned, etc.）。string\n",
    "- EXPLORATION_CONST: 探索定数（e.g. 1.0, 1.5, etc.）。float\n",
    "- PLAYOUT: Random200, MAST, NST のいずれか。string\n",
    "- SCORE_BOUNDS: true または false。boolean"
   ]
  },
  {
   "cell_type": "code",
   "execution_count": 23,
   "metadata": {},
   "outputs": [
    {
     "data": {
      "text/plain": [
       "['MCTS-ProgressiveHistory-0.6-MAST-false',\n",
       " 'MCTS-UCB1GRAVE-1.41421356237-Random200-true',\n",
       " 'MCTS-UCB1-0.1-NST-true',\n",
       " 'MCTS-UCB1GRAVE-0.6-NST-false',\n",
       " 'MCTS-ProgressiveHistory-0.6-Random200-true']"
      ]
     },
     "execution_count": 23,
     "metadata": {},
     "output_type": "execute_result"
    }
   ],
   "source": [
    "train.sample(n=5, seed=42)[\"agent1\"].to_list()"
   ]
  },
  {
   "cell_type": "code",
   "execution_count": 114,
   "metadata": {},
   "outputs": [],
   "source": [
    "selectio_keys = {\n",
    "    \"ProgressiveHistory\": 0,\n",
    "    \"UCB1\": 1,\n",
    "    \"UCB1GRAVE\": 2,\n",
    "    \"UCB1Tuned\": 3,\n",
    "}\n",
    "\n",
    "_agent_parsed = []\n",
    "\n",
    "for agent in [\"agent1\", \"agent2\"]:\n",
    "    _agent_parsed.append(\n",
    "        train[agent]\n",
    "        .str.split_exact(\"-\", 5)\n",
    "        .struct.rename_fields(\n",
    "            [\"mcts\", \"selection\", \"expansion\", \"playout\", \"score_bounds\"]\n",
    "        )\n",
    "        .alias(f\"{agent}_parsed\")\n",
    "        .to_frame()\n",
    "        .unnest(f\"{agent}_parsed\")\n",
    "        .drop(\"mcts\")\n",
    "        .cast({\"expansion\": pl.Float32})\n",
    "        .with_columns(\n",
    "            pl.col(\"score_bounds\")\n",
    "            .map_elements(lambda s: 1 if s == \"true\" else 0, pl.Int8)\n",
    "            .alias(\"score_bounds\")\n",
    "        )\n",
    "        .with_columns(\n",
    "            pl.col(\"playout\")\n",
    "            .map_elements(\n",
    "                lambda s: {\"Random200\": 0, \"MAST\": 1, \"NST\": 2}[s], pl.Int8\n",
    "            )\n",
    "            .alias(\"playout\")\n",
    "        )\n",
    "        .with_columns(\n",
    "            pl.col(\"selection\").map_elements(\n",
    "                lambda s: selectio_keys[s] if s in selectio_keys else -1,\n",
    "                pl.Int8,\n",
    "            )\n",
    "        )\n",
    "        .rename(\n",
    "            {\n",
    "                s: f\"{agent}_{s}\"\n",
    "                for s in [\"selection\", \"expansion\", \"playout\", \"score_bounds\"]\n",
    "            }\n",
    "        )\n",
    "    )\n",
    "\n",
    "agent_parsed = pl.concat(_agent_parsed, how=\"horizontal\")"
   ]
  },
  {
   "cell_type": "code",
   "execution_count": null,
   "metadata": {},
   "outputs": [],
   "source": []
  }
 ],
 "metadata": {
  "kernelspec": {
   "display_name": "base",
   "language": "python",
   "name": "python3"
  },
  "language_info": {
   "codemirror_mode": {
    "name": "ipython",
    "version": 3
   },
   "file_extension": ".py",
   "mimetype": "text/x-python",
   "name": "python",
   "nbconvert_exporter": "python",
   "pygments_lexer": "ipython3",
   "version": "3.10.14"
  },
  "orig_nbformat": 4
 },
 "nbformat": 4,
 "nbformat_minor": 2
}
