{
 "cells": [
  {
   "cell_type": "markdown",
   "id": "f9c22678-4834-4508-aa54-753181695e0b",
   "metadata": {},
   "source": [
    "# Simple Baseline"
   ]
  },
  {
   "cell_type": "code",
   "execution_count": 1,
   "id": "433fff43-0b6d-410d-b787-1c114cca4eaf",
   "metadata": {},
   "outputs": [],
   "source": [
    "import os\n",
    "import pathlib\n",
    "\n",
    "if os.path.exists(\"/kaggle\"):\n",
    "    input_dir = pathlib.Path(\"/kaggle/input/commonlitreadabilityprize\")\n",
    "    \n",
    "    !pip install ../input/textstat/Pyphen-0.10.0-py3-none-any.whl\n",
    "    !pip install ../input/textstat/textstat-0.7.0-py3-none-any.whl\n",
    "    !pip install ../input/pandarallel151whl/pandarallel-1.5.1-py3-none-any.whl\n",
    "else:\n",
    "    input_dir = pathlib.Path(\"../data/raw\")"
   ]
  },
  {
   "cell_type": "code",
   "execution_count": 2,
   "id": "fcda7421-67ce-4aa3-b0a2-d462be2d494a",
   "metadata": {},
   "outputs": [
    {
     "name": "stdout",
     "output_type": "stream",
     "text": [
      "INFO: Pandarallel will run on 8 workers.\n",
      "INFO: Pandarallel will use standard multiprocessing data transfer (pipe) to transfer data between the main process and workers.\n"
     ]
    }
   ],
   "source": [
    "import os\n",
    "import re\n",
    "import time\n",
    "import pathlib\n",
    "import textstat\n",
    "import numpy as np\n",
    "import pandas as pd\n",
    "import seaborn as sns\n",
    "from tqdm.notebook import tqdm\n",
    "import matplotlib.pyplot as plt\n",
    "from collections import defaultdict\n",
    "from pandarallel import pandarallel\n",
    "from pandas_profiling import ProfileReport\n",
    "\n",
    "from typing import AnyStr\n",
    "\n",
    "import rich\n",
    "from rich import print\n",
    "from rich.theme import Theme\n",
    "from rich.console import Console\n",
    "\n",
    "import nltk\n",
    "from nltk import pos_tag\n",
    "from nltk.corpus import stopwords\n",
    "\n",
    "tqdm.pandas()\n",
    "\n",
    "pandarallel.initialize(progress_bar=True)\n",
    "\n",
    "plt.style.use('seaborn-darkgrid')"
   ]
  },
  {
   "cell_type": "code",
   "execution_count": 3,
   "id": "9b0cac6b-2313-4052-92a2-1a038a3a1ccf",
   "metadata": {},
   "outputs": [],
   "source": [
    "train = pd.read_csv(input_dir / 'train.csv')\n",
    "test = pd.read_csv(input_dir / 'test.csv')\n",
    "smpl_sub = pd.read_csv(input_dir / 'sample_submission.csv')"
   ]
  },
  {
   "cell_type": "markdown",
   "id": "f3505f78-4592-4f3d-be95-1159cd8a37be",
   "metadata": {},
   "source": [
    "## Preprocessing"
   ]
  },
  {
   "cell_type": "code",
   "execution_count": 4,
   "id": "d9822086-08ad-4d2c-aff8-454a854abb3e",
   "metadata": {},
   "outputs": [],
   "source": [
    "def preprocess_excerpt(text: AnyStr):\n",
    "    text = re.sub(\"[^a-zA-Z]\", \" \", text).lower()\n",
    "    text = nltk.word_tokenize(text)  # NOTE: 英文を単語分割する\n",
    "    text = [word for word in text if not word in set(stopwords.words(\"english\"))]\n",
    "    \n",
    "    lemma = nltk.WordNetLemmatizer()  # NOTE: 複数形の単語を単数形に変換する\n",
    "    text =  \" \".join([lemma.lemmatize(word) for word in text])\n",
    "    return text"
   ]
  },
  {
   "cell_type": "code",
   "execution_count": 5,
   "id": "53bfbd21-dd9e-4533-88eb-61a7dd2d4d33",
   "metadata": {},
   "outputs": [
    {
     "data": {
      "application/vnd.jupyter.widget-view+json": {
       "model_id": "60ea8000f0ae4f7cbfd5a0fc7ddafd27",
       "version_major": 2,
       "version_minor": 0
      },
      "text/plain": [
       "VBox(children=(HBox(children=(IntProgress(value=0, description='0.00%', max=355), Label(value='0 / 355'))), HB…"
      ]
     },
     "metadata": {},
     "output_type": "display_data"
    },
    {
     "data": {
      "application/vnd.jupyter.widget-view+json": {
       "model_id": "d8c6b24ddb60432b9ee94b656dbb553c",
       "version_major": 2,
       "version_minor": 0
      },
      "text/plain": [
       "VBox(children=(HBox(children=(IntProgress(value=0, description='0.00%', max=1), Label(value='0 / 1'))), HBox(c…"
      ]
     },
     "metadata": {},
     "output_type": "display_data"
    },
    {
     "name": "stdout",
     "output_type": "stream",
     "text": [
      "CPU times: user 2.27 s, sys: 396 ms, total: 2.67 s\n",
      "Wall time: 33.4 s\n"
     ]
    }
   ],
   "source": [
    "%%time\n",
    "\n",
    "train['excerpt_preprocessed'] = train['excerpt'].parallel_apply(preprocess_excerpt)\n",
    "test['excerpt_preprocessed'] = test['excerpt'].parallel_apply(preprocess_excerpt)"
   ]
  },
  {
   "cell_type": "code",
   "execution_count": 6,
   "id": "5cb530a4-e234-4dd0-bbd6-5937699b76f8",
   "metadata": {},
   "outputs": [],
   "source": [
    "from sklearn.pipeline import Pipeline\n",
    "from sklearn.base import BaseEstimator, TransformerMixin\n",
    "\n",
    "from sklearn.feature_extraction.text import TfidfVectorizer\n",
    "from sklearn.decomposition import PCA"
   ]
  },
  {
   "cell_type": "code",
   "execution_count": 7,
   "id": "37bb5f39-43a5-47a7-a2f9-57094ff45532",
   "metadata": {},
   "outputs": [],
   "source": [
    "# Ref: https://nigimitama.hatenablog.jp/entry/2020/11/09/080000\n",
    "\n",
    "class BaseTransformer(BaseEstimator, TransformerMixin):\n",
    "\n",
    "    def fit(self, X, y=None):\n",
    "        return self\n",
    "\n",
    "    def transform(self, X):\n",
    "        return self\n",
    "\n",
    "class TextstatProcessing(BaseTransformer):\n",
    "    \n",
    "    def transform(self, X):\n",
    "        X['excerpt_len'] = X['excerpt_preprocessed'].str.len()\n",
    "        X['avg_word_len'] = X['excerpt_preprocessed'].apply(lambda x: [len(s) for s in x.split()]).map(np.mean)\n",
    "        X['char_count'] = X['excerpt'].map(textstat.char_count)\n",
    "        X['word_count'] = X['excerpt_preprocessed'].map(textstat.lexicon_count)\n",
    "        X['sentence_count'] = X['excerpt'].map(textstat.sentence_count)\n",
    "        X['syllable_count'] = X['excerpt'].apply(textstat.syllable_count)\n",
    "        X['smog_index'] = X['excerpt'].apply(textstat.smog_index)\n",
    "        X['automated_readability_index'] = X['excerpt'].apply(textstat.automated_readability_index)\n",
    "        X['coleman_liau_index'] = X['excerpt'].apply(textstat.coleman_liau_index)\n",
    "        X['linsear_write_formula'] = X['excerpt'].apply(textstat.linsear_write_formula)\n",
    "        return X\n",
    "    \n",
    "\n",
    "class TfidfTransformer(BaseTransformer):\n",
    "    \n",
    "    def transform(self, X):\n",
    "        tfidf_vec = TfidfVectorizer(binary=True, ngram_range=(1,1))\n",
    "        vector = tfidf_vec.fit_transform(X['excerpt'])\n",
    "        vector = pd.DataFrame(vector.toarray(), columns=tfidf_vec.get_feature_names())\n",
    "        pca = PCA(n_components=5)\n",
    "        pca_vector = pd.DataFrame(pca.fit_transform(vector))\n",
    "        X = pd.concat([X, pca_vector], axis=1)\n",
    "        return X\n",
    "    \n",
    "\n",
    "class DropFeature(BaseTransformer):\n",
    "    \n",
    "    def transform(self, X):\n",
    "        X.drop(['excerpt', 'excerpt_preprocessed'], axis=1, inplace=True)\n",
    "        return X"
   ]
  },
  {
   "cell_type": "code",
   "execution_count": 8,
   "id": "20b89401-4a59-4d52-827a-9fd20fedf9f7",
   "metadata": {},
   "outputs": [
    {
     "name": "stdout",
     "output_type": "stream",
     "text": [
      "CPU times: user 19.7 s, sys: 2.68 s, total: 22.4 s\n",
      "Wall time: 13.6 s\n"
     ]
    },
    {
     "data": {
      "text/plain": [
       "Pipeline(steps=[('textstat_processing', TextstatProcessing()),\n",
       "                ('tfidf', TfidfTransformer()),\n",
       "                ('drop_feature', DropFeature())])"
      ]
     },
     "execution_count": 8,
     "metadata": {},
     "output_type": "execute_result"
    }
   ],
   "source": [
    "%%time\n",
    "src_X = train[['excerpt', 'excerpt_preprocessed']].copy()\n",
    "\n",
    "pipe = Pipeline(steps=[\n",
    "    ('textstat_processing', TextstatProcessing()),\n",
    "    ('tfidf', TfidfTransformer()),\n",
    "    ('drop_feature', DropFeature()),\n",
    "])\n",
    "\n",
    "pipe.fit(src_X)"
   ]
  },
  {
   "cell_type": "code",
   "execution_count": 9,
   "id": "a1991485-6c7a-4955-be4b-5b10758afe7b",
   "metadata": {},
   "outputs": [
    {
     "data": {
      "text/html": [
       "<div>\n",
       "<style scoped>\n",
       "    .dataframe tbody tr th:only-of-type {\n",
       "        vertical-align: middle;\n",
       "    }\n",
       "\n",
       "    .dataframe tbody tr th {\n",
       "        vertical-align: top;\n",
       "    }\n",
       "\n",
       "    .dataframe thead th {\n",
       "        text-align: right;\n",
       "    }\n",
       "</style>\n",
       "<table border=\"1\" class=\"dataframe\">\n",
       "  <thead>\n",
       "    <tr style=\"text-align: right;\">\n",
       "      <th></th>\n",
       "      <th>excerpt_len</th>\n",
       "      <th>avg_word_len</th>\n",
       "      <th>char_count</th>\n",
       "      <th>word_count</th>\n",
       "      <th>sentence_count</th>\n",
       "      <th>syllable_count</th>\n",
       "      <th>smog_index</th>\n",
       "      <th>automated_readability_index</th>\n",
       "      <th>coleman_liau_index</th>\n",
       "      <th>linsear_write_formula</th>\n",
       "      <th>0</th>\n",
       "      <th>1</th>\n",
       "      <th>2</th>\n",
       "      <th>3</th>\n",
       "      <th>4</th>\n",
       "    </tr>\n",
       "  </thead>\n",
       "  <tbody>\n",
       "    <tr>\n",
       "      <th>0</th>\n",
       "      <td>591</td>\n",
       "      <td>5.505495</td>\n",
       "      <td>819</td>\n",
       "      <td>91</td>\n",
       "      <td>11</td>\n",
       "      <td>225</td>\n",
       "      <td>8.6</td>\n",
       "      <td>8.3</td>\n",
       "      <td>8.06</td>\n",
       "      <td>9.000000</td>\n",
       "      <td>-0.038045</td>\n",
       "      <td>-0.047436</td>\n",
       "      <td>0.040788</td>\n",
       "      <td>0.048865</td>\n",
       "      <td>-0.021736</td>\n",
       "    </tr>\n",
       "    <tr>\n",
       "      <th>1</th>\n",
       "      <td>551</td>\n",
       "      <td>5.494118</td>\n",
       "      <td>774</td>\n",
       "      <td>85</td>\n",
       "      <td>12</td>\n",
       "      <td>222</td>\n",
       "      <td>8.3</td>\n",
       "      <td>7.2</td>\n",
       "      <td>6.78</td>\n",
       "      <td>7.285714</td>\n",
       "      <td>0.097216</td>\n",
       "      <td>0.057800</td>\n",
       "      <td>-0.035791</td>\n",
       "      <td>-0.101759</td>\n",
       "      <td>0.040186</td>\n",
       "    </tr>\n",
       "    <tr>\n",
       "      <th>2</th>\n",
       "      <td>527</td>\n",
       "      <td>5.285714</td>\n",
       "      <td>747</td>\n",
       "      <td>84</td>\n",
       "      <td>8</td>\n",
       "      <td>209</td>\n",
       "      <td>10.1</td>\n",
       "      <td>10.1</td>\n",
       "      <td>7.20</td>\n",
       "      <td>14.750000</td>\n",
       "      <td>0.096676</td>\n",
       "      <td>0.014529</td>\n",
       "      <td>-0.018461</td>\n",
       "      <td>-0.035823</td>\n",
       "      <td>0.021789</td>\n",
       "    </tr>\n",
       "    <tr>\n",
       "      <th>3</th>\n",
       "      <td>573</td>\n",
       "      <td>5.106383</td>\n",
       "      <td>747</td>\n",
       "      <td>94</td>\n",
       "      <td>5</td>\n",
       "      <td>196</td>\n",
       "      <td>6.7</td>\n",
       "      <td>16.4</td>\n",
       "      <td>8.54</td>\n",
       "      <td>12.500000</td>\n",
       "      <td>0.043273</td>\n",
       "      <td>-0.116141</td>\n",
       "      <td>0.064823</td>\n",
       "      <td>0.048972</td>\n",
       "      <td>0.012214</td>\n",
       "    </tr>\n",
       "    <tr>\n",
       "      <th>4</th>\n",
       "      <td>413</td>\n",
       "      <td>4.594595</td>\n",
       "      <td>577</td>\n",
       "      <td>74</td>\n",
       "      <td>5</td>\n",
       "      <td>170</td>\n",
       "      <td>8.8</td>\n",
       "      <td>11.8</td>\n",
       "      <td>4.83</td>\n",
       "      <td>13.500000</td>\n",
       "      <td>0.048841</td>\n",
       "      <td>-0.063656</td>\n",
       "      <td>0.014328</td>\n",
       "      <td>0.117312</td>\n",
       "      <td>-0.012781</td>\n",
       "    </tr>\n",
       "  </tbody>\n",
       "</table>\n",
       "</div>"
      ],
      "text/plain": [
       "   excerpt_len  avg_word_len  char_count  word_count  sentence_count  \\\n",
       "0          591      5.505495         819          91              11   \n",
       "1          551      5.494118         774          85              12   \n",
       "2          527      5.285714         747          84               8   \n",
       "3          573      5.106383         747          94               5   \n",
       "4          413      4.594595         577          74               5   \n",
       "\n",
       "   syllable_count  smog_index  automated_readability_index  \\\n",
       "0             225         8.6                          8.3   \n",
       "1             222         8.3                          7.2   \n",
       "2             209        10.1                         10.1   \n",
       "3             196         6.7                         16.4   \n",
       "4             170         8.8                         11.8   \n",
       "\n",
       "   coleman_liau_index  linsear_write_formula         0         1         2  \\\n",
       "0                8.06               9.000000 -0.038045 -0.047436  0.040788   \n",
       "1                6.78               7.285714  0.097216  0.057800 -0.035791   \n",
       "2                7.20              14.750000  0.096676  0.014529 -0.018461   \n",
       "3                8.54              12.500000  0.043273 -0.116141  0.064823   \n",
       "4                4.83              13.500000  0.048841 -0.063656  0.014328   \n",
       "\n",
       "          3         4  \n",
       "0  0.048865 -0.021736  \n",
       "1 -0.101759  0.040186  \n",
       "2 -0.035823  0.021789  \n",
       "3  0.048972  0.012214  \n",
       "4  0.117312 -0.012781  "
      ]
     },
     "execution_count": 9,
     "metadata": {},
     "output_type": "execute_result"
    }
   ],
   "source": [
    "dst_X = pipe.transform(src_X)\n",
    "dst_X.head()"
   ]
  },
  {
   "cell_type": "markdown",
   "id": "ac83045a-3799-4a89-8b6d-d77cd584044c",
   "metadata": {},
   "source": [
    "## Train Model"
   ]
  },
  {
   "cell_type": "code",
   "execution_count": 10,
   "id": "f65539db-e4a8-4e3f-b821-b01742747a8e",
   "metadata": {},
   "outputs": [],
   "source": [
    "from sklearn import model_selection\n",
    "from sklearn.metrics import make_scorer, mean_squared_error\n",
    "from sklearn.model_selection import cross_validate, cross_val_score\n",
    "from sklearn.pipeline import Pipeline, make_pipeline\n",
    "from sklearn.preprocessing import StandardScaler\n",
    "\n",
    "from sklearn.linear_model import Ridge, LinearRegression, LogisticRegression\n",
    "from sklearn.ensemble import RandomForestRegressor"
   ]
  },
  {
   "cell_type": "code",
   "execution_count": 11,
   "id": "a4bed2b6-9632-46f0-9d35-00abef9c49cb",
   "metadata": {},
   "outputs": [],
   "source": [
    "def rmse(y_true, y_pred):\n",
    "    return mean_squared_error(y_true, y_pred, squared=False)"
   ]
  },
  {
   "cell_type": "code",
   "execution_count": 12,
   "id": "d1baa45e-f0c6-4289-97fa-481942cc1984",
   "metadata": {},
   "outputs": [],
   "source": [
    "def custom_cv(n_splits: int, target: pd.Series, shuffle: bool = True):\n",
    "    target = target.to_frame()\n",
    "    num_bins = int(np.floor(1 + np.log2(len(target))))\n",
    "    target.loc[:, \"bins\"] = pd.cut(\n",
    "        target[\"target\"], bins=num_bins, labels=False\n",
    "    )\n",
    "\n",
    "    kf = model_selection.StratifiedKFold(n_splits=n_splits)\n",
    "    for train_idx, test_idx in kf.split(X=target, y=target['bins']):\n",
    "        yield train_idx, test_idx"
   ]
  },
  {
   "cell_type": "code",
   "execution_count": 13,
   "id": "f036f767-9178-43ab-8988-44db9afb0442",
   "metadata": {},
   "outputs": [],
   "source": [
    "X = pipe.transform(src_X)\n",
    "y = train['target']\n",
    "cv = custom_cv(5, y)\n",
    "\n",
    "model = make_pipeline(\n",
    "    StandardScaler(),\n",
    "    LinearRegression(normalize=True, n_jobs=-1),\n",
    ")\n",
    "\n",
    "result = cross_validate(\n",
    "    model, \n",
    "    X, \n",
    "    y, \n",
    "    cv=5, \n",
    "    scoring={'rmse': make_scorer(rmse)}, \n",
    "    return_train_score=True,\n",
    "    return_estimator=True,\n",
    "    n_jobs=-1,\n",
    ")"
   ]
  },
  {
   "cell_type": "code",
   "execution_count": 14,
   "id": "8dfcc20a-cfe7-4397-9bbf-f0e98401c5bd",
   "metadata": {},
   "outputs": [
    {
     "data": {
      "text/html": [
       "<pre style=\"white-space:pre;overflow-x:auto;line-height:normal;font-family:Menlo,'DejaVu Sans Mono',consolas,'Courier New',monospace\">fit_time   : <span style=\"color: #008080; text-decoration-color: #008080; font-weight: bold\">0.02289</span>\n",
       "</pre>\n"
      ],
      "text/plain": [
       "fit_time   : \u001b[1;36m0.02289\u001b[0m\n"
      ]
     },
     "metadata": {},
     "output_type": "display_data"
    },
    {
     "data": {
      "text/html": [
       "<pre style=\"white-space:pre;overflow-x:auto;line-height:normal;font-family:Menlo,'DejaVu Sans Mono',consolas,'Courier New',monospace\">score_time : <span style=\"color: #008080; text-decoration-color: #008080; font-weight: bold\">0.00581</span>\n",
       "</pre>\n"
      ],
      "text/plain": [
       "score_time : \u001b[1;36m0.00581\u001b[0m\n"
      ]
     },
     "metadata": {},
     "output_type": "display_data"
    },
    {
     "data": {
      "text/html": [
       "<pre style=\"white-space:pre;overflow-x:auto;line-height:normal;font-family:Menlo,'DejaVu Sans Mono',consolas,'Courier New',monospace\">train_rmse : <span style=\"color: #008080; text-decoration-color: #008080; font-weight: bold\">0.72359</span>\n",
       "</pre>\n"
      ],
      "text/plain": [
       "train_rmse : \u001b[1;36m0.72359\u001b[0m\n"
      ]
     },
     "metadata": {},
     "output_type": "display_data"
    },
    {
     "data": {
      "text/html": [
       "<pre style=\"white-space:pre;overflow-x:auto;line-height:normal;font-family:Menlo,'DejaVu Sans Mono',consolas,'Courier New',monospace\">test_rmse  : <span style=\"color: #008080; text-decoration-color: #008080; font-weight: bold\">0.75025</span>\n",
       "</pre>\n"
      ],
      "text/plain": [
       "test_rmse  : \u001b[1;36m0.75025\u001b[0m\n"
      ]
     },
     "metadata": {},
     "output_type": "display_data"
    }
   ],
   "source": [
    "print(f\"fit_time   : {result['fit_time'].mean():.5f}\")\n",
    "print(f\"score_time : {result['score_time'].mean():.5f}\")\n",
    "print(f\"train_rmse : {result['train_rmse'].mean():.5f}\") \n",
    "print(f\"test_rmse  : {result['test_rmse'].mean():.5f}\") "
   ]
  },
  {
   "cell_type": "markdown",
   "id": "c69e8b00-b12b-4ac7-8d07-7b0be3277ba4",
   "metadata": {},
   "source": [
    "## Prediction"
   ]
  },
  {
   "cell_type": "code",
   "execution_count": 15,
   "id": "41d89156-4f52-4572-908b-311fac51347e",
   "metadata": {},
   "outputs": [],
   "source": [
    "X_test = test[['excerpt', 'excerpt_preprocessed']].copy()\n",
    "X_test = pipe.transform(X_test)\n",
    "pred = np.zeros(X_test.shape[0])\n",
    "\n",
    "for estimator in result['estimator']:\n",
    "    pred += estimator.predict(X_test) / len(result['estimator'])"
   ]
  },
  {
   "cell_type": "code",
   "execution_count": 16,
   "id": "e6df372a-e3ad-49cc-9d7c-a5ba769c3056",
   "metadata": {},
   "outputs": [
    {
     "data": {
      "text/plain": [
       "<matplotlib.legend.Legend at 0x12abc4490>"
      ]
     },
     "execution_count": 16,
     "metadata": {},
     "output_type": "execute_result"
    },
    {
     "data": {
      "image/png": "[encoded data removed]",
      "text/plain": [
       "<Figure size 432x288 with 1 Axes>"
      ]
     },
     "metadata": {},
     "output_type": "display_data"
    }
   ],
   "source": [
    "plt.title('Target Distribution')\n",
    "plt.hist(pred, bins=50)\n",
    "plt.axvline(pred.mean(), color='tab:orange', linewidth=2, linestyle='--', label='mean')\n",
    "plt.xlabel('target')\n",
    "plt.ylabel('count')\n",
    "plt.legend()"
   ]
  },
  {
   "cell_type": "code",
   "execution_count": null,
   "id": "4ff862ba-c9a8-4364-a8c3-f593f66d3540",
   "metadata": {},
   "outputs": [],
   "source": []
  }
 ],
 "metadata": {
  "kernelspec": {
   "display_name": "Python 3",
   "language": "python",
   "name": "python3"
  },
  "language_info": {
   "codemirror_mode": {
    "name": "ipython",
    "version": 3
   },
   "file_extension": ".py",
   "mimetype": "text/x-python",
   "name": "python",
   "nbconvert_exporter": "python",
   "pygments_lexer": "ipython3",
   "version": "3.8.7"
  }
 },
 "nbformat": 4,
 "nbformat_minor": 5
}
