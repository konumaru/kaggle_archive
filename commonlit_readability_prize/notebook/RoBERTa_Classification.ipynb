{
 "cells": [
  {
   "cell_type": "markdown",
   "id": "d1cbd644-8781-4f54-b566-4043a5d3a98f",
   "metadata": {},
   "source": [
    "# RoBERTa Classification\n",
    "\n",
    "## Experiment Histories"
   ]
  },
  {
   "cell_type": "code",
   "execution_count": 1,
   "id": "67af5211-0238-421e-85bb-2702a8def940",
   "metadata": {},
   "outputs": [],
   "source": [
    "import pathlib\n",
    "import re\n",
    "from typing import Optional\n",
    "\n",
    "import numpy as np\n",
    "import pandas as pd\n",
    "import pytorch_lightning as pl\n",
    "import torch\n",
    "import torch.nn as nn\n",
    "import transformers\n",
    "from pytorch_lightning import Trainer\n",
    "from pytorch_lightning.callbacks import LearningRateMonitor, ModelCheckpoint\n",
    "from pytorch_lightning.callbacks.early_stopping import EarlyStopping\n",
    "from pytorch_lightning.loggers import TensorBoardLogger\n",
    "from sklearn.model_selection import KFold, StratifiedKFold, RepeatedStratifiedKFold\n",
    "from torch.utils.data import DataLoader, Dataset\n",
    "from torchinfo import summary\n",
    "from transformers import (\n",
    "    AdamW,\n",
    "    RobertaConfig,\n",
    "    RobertaModel,\n",
    "    RobertaTokenizer,\n",
    "    get_cosine_schedule_with_warmup,\n",
    "    get_linear_schedule_with_warmup,\n",
    ")\n"
   ]
  },
  {
   "cell_type": "code",
   "execution_count": 2,
   "id": "d7c50663-6cf9-436e-9d10-827d9bd76eb2",
   "metadata": {},
   "outputs": [
    {
     "name": "stderr",
     "output_type": "stream",
     "text": [
      "Global seed set to 422\n"
     ]
    }
   ],
   "source": [
    "def seed_everything(seed: int = 42):\n",
    "    np.random.seed(seed)\n",
    "    pl.seed_everything(seed)\n",
    "    torch.manual_seed(seed)\n",
    "    torch.backends.cudnn.deterministic = True\n",
    "\n",
    "    if torch.cuda.is_available():\n",
    "        torch.cuda.manual_seed_all(seed)\n",
    "        \n",
    "seed_everything(422)"
   ]
  },
  {
   "cell_type": "code",
   "execution_count": 3,
   "id": "f9744c61-ae1f-4999-b4be-dca7e44ee92f",
   "metadata": {},
   "outputs": [],
   "source": [
    "src_dir = pathlib.Path(\"../data/raw\")"
   ]
  },
  {
   "cell_type": "markdown",
   "id": "c1a76055-a732-4d2a-af1d-a52bc73717bc",
   "metadata": {},
   "source": [
    "## Binning"
   ]
  },
  {
   "cell_type": "code",
   "execution_count": 4,
   "id": "4da569d5-082e-4d1a-840a-a333fc22fa16",
   "metadata": {},
   "outputs": [],
   "source": [
    "data = pd.read_csv(src_dir / \"train.csv\")\n",
    "\n",
    "num_bin = 40\n",
    "target_label, target_bins = pd.cut(data[\"target\"], bins=num_bin, labels=False, retbins=True)"
   ]
  },
  {
   "cell_type": "code",
   "execution_count": 5,
   "id": "e3918488-cf4f-4e84-93cc-38fe8c535c4c",
   "metadata": {},
   "outputs": [],
   "source": [
    "data['target_label']= target_label"
   ]
  },
  {
   "cell_type": "markdown",
   "id": "4d99f12c-15d4-4913-95af-57b2b0f6fcbd",
   "metadata": {},
   "source": [
    "## Split Fold"
   ]
  },
  {
   "cell_type": "code",
   "execution_count": 6,
   "id": "c1e5dbad-9d8b-45ad-873d-0555e1081488",
   "metadata": {},
   "outputs": [
    {
     "name": "stdout",
     "output_type": "stream",
     "text": [
      "Fold: 0\n",
      "\tTrain Target Average: -0.9589\tTrain Size=2267\n",
      "\tValid Target Average: -0.9609\tValid Size=567\n",
      "Fold: 1\n",
      "\tTrain Target Average: -0.9581\tTrain Size=2267\n",
      "\tValid Target Average: -0.9641\tValid Size=567\n",
      "Fold: 2\n",
      "\tTrain Target Average: -0.9583\tTrain Size=2267\n",
      "\tValid Target Average: -0.9632\tValid Size=567\n",
      "Fold: 3\n",
      "\tTrain Target Average: -0.9623\tTrain Size=2267\n",
      "\tValid Target Average: -0.9473\tValid Size=567\n",
      "Fold: 4\n",
      "\tTrain Target Average: -0.9589\tTrain Size=2268\n",
      "\tValid Target Average: -0.9611\tValid Size=566\n"
     ]
    }
   ],
   "source": [
    "# KFold\n",
    "# cv = KFold(n_splits=5, shuffle=True, random_state=42)\n",
    "\n",
    "# StratifiedKFold\n",
    "num_bins = int(np.floor(1 + np.log2(len(data))))  # ref: https://www.kaggle.com/abhishek/step-1-create-folds\n",
    "bins = pd.cut(data[\"target\"], bins=num_bins, labels=False)\n",
    "\n",
    "cv = StratifiedKFold(n_splits=5, shuffle=True, random_state=42)\n",
    "# cv = RepeatedStratifiedKFold(n_splits=5, n_repeats=2, random_state=42)\n",
    "for n_fold, (train_idx, valid_idx) in enumerate(cv.split(data, bins)):\n",
    "\n",
    "    train = data.loc[train_idx, [\"excerpt\", \"target\", \"target_label\"]]\n",
    "    valid = data.loc[valid_idx, [\"excerpt\", \"target\", \"target_label\"]]\n",
    "\n",
    "    fold_dump_dir = pathlib.Path(f\"../data/split/fold_{n_fold}/\")\n",
    "    fold_dump_dir.mkdir(exist_ok=True)\n",
    "\n",
    "    train.to_pickle(fold_dump_dir / \"train.pkl\")\n",
    "    valid.to_pickle(fold_dump_dir / \"valid.pkl\")\n",
    "\n",
    "    print(\"Fold:\", n_fold)\n",
    "    print(f\"\\tTrain Target Average: {train.target.mean():.04f}\" + f\"\\tTrain Size={train.shape[0]}\")\n",
    "    print(f\"\\tValid Target Average: {valid.target.mean():.04f}\" + f\"\\tValid Size={valid.shape[0]}\")"
   ]
  },
  {
   "cell_type": "code",
   "execution_count": 7,
   "id": "fe84afec-9d90-4c2c-b9f4-08de203dd5a5",
   "metadata": {},
   "outputs": [
    {
     "data": {
      "text/plain": [
       "5"
      ]
     },
     "execution_count": 7,
     "metadata": {},
     "output_type": "execute_result"
    }
   ],
   "source": [
    "num_splits = cv.get_n_splits()\n",
    "num_splits"
   ]
  },
  {
   "cell_type": "markdown",
   "id": "4f44b40a-fb0b-43ff-a0b7-70c3517091a9",
   "metadata": {},
   "source": [
    "## Define Dataset & Dataloader"
   ]
  },
  {
   "cell_type": "code",
   "execution_count": 8,
   "id": "913b2536-dba4-45e0-b789-a1ad851bd7a9",
   "metadata": {},
   "outputs": [],
   "source": [
    "class CommonLitDataset(Dataset):\n",
    "    def __init__(self, data, tokenizer, max_len: int = 256, is_test: bool = False):\n",
    "        self.max_len = max_len\n",
    "        self.tokenizer = tokenizer\n",
    "        self.excerpt = data[[\"excerpt\"]].to_numpy()\n",
    "        \n",
    "        if is_test:\n",
    "            self.target = np.zeros(len(data))\n",
    "            self.target_label = np.zeros(len(data)).astype(np.int8)\n",
    "        else:\n",
    "            self.target = data[\"target\"].to_numpy()\n",
    "            self.target_label = data[\"target_label\"].to_numpy()\n",
    "\n",
    "    def __len__(self):\n",
    "        return len(self.excerpt)\n",
    "\n",
    "    def __getitem__(self, idx):\n",
    "        text = str(self.excerpt[idx])\n",
    "        inputs = self.tokenizer(\n",
    "            text,\n",
    "            truncation=True,\n",
    "            padding=\"max_length\",\n",
    "            max_length=self.max_len,\n",
    "            return_token_type_ids=True,\n",
    "        )\n",
    "        target = self.target[idx]\n",
    "        target_label = self.target_label[idx]\n",
    "\n",
    "        return {\n",
    "            \"inputs\": {\n",
    "                \"input_ids\": torch.tensor(inputs[\"input_ids\"], dtype=torch.long),\n",
    "                \"attention_mask\": torch.tensor(inputs[\"attention_mask\"], dtype=torch.long),\n",
    "                \"token_type_ids\": torch.tensor(inputs[\"token_type_ids\"], dtype=torch.long),\n",
    "            },\n",
    "            \"target\": torch.tensor(target, dtype=torch.float32),\n",
    "            \"target_label\": torch.tensor(target_label, dtype=torch.long),\n",
    "        }\n",
    "\n",
    "\n",
    "class CommonLitDataModule(pl.LightningDataModule):\n",
    "    def __init__(self, data_dir: str, tokenizer, batch_size: int = 32):\n",
    "        super(CommonLitDataModule, self).__init__()\n",
    "        self.data_dir = pathlib.Path(data_dir)\n",
    "        self.tokenizer = tokenizer\n",
    "        self.batch_size = batch_size\n",
    "\n",
    "    def setup(self, stage: Optional[str] = None):\n",
    "        self.train = pd.read_pickle(self.data_dir / \"train.pkl\")\n",
    "        self.valid = pd.read_pickle(self.data_dir / \"valid.pkl\")\n",
    "\n",
    "    def train_dataloader(self):\n",
    "        dataset = CommonLitDataset(self.train, self.tokenizer)\n",
    "        return DataLoader(\n",
    "            dataset,\n",
    "            batch_size=self.batch_size,\n",
    "            num_workers=4,\n",
    "            pin_memory=True,\n",
    "            shuffle=True,\n",
    "            drop_last=True,\n",
    "        )\n",
    "\n",
    "    def val_dataloader(self):\n",
    "        dataset = CommonLitDataset(self.valid, self.tokenizer)\n",
    "        return DataLoader(\n",
    "            dataset,\n",
    "            batch_size=self.batch_size,\n",
    "            num_workers=4,\n",
    "            pin_memory=True,\n",
    "            shuffle=False,\n",
    "            drop_last=False,\n",
    "        )"
   ]
  },
  {
   "cell_type": "markdown",
   "id": "152947e3-041c-4e2a-8914-2b41b3f851bd",
   "metadata": {},
   "source": [
    "## Define Model Arch"
   ]
  },
  {
   "cell_type": "code",
   "execution_count": 9,
   "id": "5e4cb7f9-80f2-4e97-93ee-7450878535c2",
   "metadata": {},
   "outputs": [],
   "source": [
    "class RMSELoss(nn.Module):\n",
    "    def __init__(self):\n",
    "        super().__init__()\n",
    "        self.mse = nn.MSELoss()\n",
    "\n",
    "    def forward(self, yhat, y):\n",
    "        loss = torch.sqrt(self.mse(yhat, y))\n",
    "        return loss\n",
    "\n",
    "\n",
    "class CommonLitRoBERTaModel(nn.Module):\n",
    "    def __init__(\n",
    "            self, \n",
    "            out_dim: int = 20,\n",
    "    ):\n",
    "        super(CommonLitRoBERTaModel, self).__init__()\n",
    "        self.out_dim = out_dim\n",
    "        \n",
    "        self.config = RobertaConfig.from_pretrained(\"roberta-base\")\n",
    "        self.roberta = RobertaModel.from_pretrained(\"roberta-base\")\n",
    "        self.layers = nn.Sequential(\n",
    "            nn.LayerNorm(768),\n",
    "            nn.Dropout(0.5),\n",
    "            nn.Linear(768, out_dim)\n",
    "        )\n",
    "        # Initialize Weights\n",
    "        self.layers.apply(self._init_weights)\n",
    "\n",
    "    def forward(self, batch):\n",
    "        outputs = self.roberta(**batch[\"inputs\"])\n",
    "        pooler_output = outputs.pooler_output\n",
    "        hidden_state_avg = outputs.last_hidden_state[:, -4:].mean(dim=(1,2)).view(-1, 1)\n",
    "        hidden_state_sum = outputs.last_hidden_state[:, -4:].sum(dim=(1,2)).view(-1, 1)\n",
    "        \n",
    "        # x = torch.cat((pooler_output, hidden_state_avg, hidden_state_sum), dim=1)\n",
    "        x = self.layers(pooler_output)\n",
    "        return x\n",
    "    \n",
    "    def _init_weights(self, module):\n",
    "        if isinstance(module, nn.Linear):\n",
    "            module.weight.data.normal_(mean=0.0, std=self.config.initializer_range)\n",
    "            if module.bias is not None:\n",
    "                module.bias.data.zero_()\n",
    "        elif isinstance(module, nn.Embedding):\n",
    "            module.weight.data.normal_(mean=0.0, std=self.config.initializer_range)\n",
    "            if module.padding_idx is not None:\n",
    "                module.weight.data[module.padding_idx].zero_()\n",
    "        elif isinstance(module, nn.LayerNorm):\n",
    "            module.bias.data.zero_()\n",
    "            module.weight.data.fill_(1.0)\n",
    "    \n",
    "    \n",
    "class CommonLitModel(pl.LightningModule):\n",
    "    def __init__(\n",
    "        self,\n",
    "        out_dim: int,\n",
    "        target_bins: np.ndarray,\n",
    "        lr: float = 5e-5,\n",
    "        num_epoch: int = 10,\n",
    "    ):\n",
    "        super(CommonLitModel, self).__init__()\n",
    "        self.save_hyperparameters()\n",
    "        self.target_bins = torch.tensor(target_bins, dtype=torch.float32, device='cuda')\n",
    "\n",
    "        self.roberta = CommonLitRoBERTaModel(out_dim=out_dim)\n",
    "        self.loss_fn = nn.CrossEntropyLoss()  # nn.MSELoss()\n",
    "        self.eval_fn = RMSELoss()\n",
    "\n",
    "    def forward(self, batch):\n",
    "        z = self.roberta(batch)\n",
    "        return z\n",
    "\n",
    "    def configure_optimizers(self):\n",
    "        optimizer_grouped_parameters = self._get_optimizer_params(self)\n",
    "        optimizer = torch.optim.AdamW(\n",
    "            optimizer_grouped_parameters,  # self.parameters()\n",
    "            lr=self.hparams.lr,\n",
    "            betas=(0.9, 0.999),\n",
    "            eps=1e-8,\n",
    "            weight_decay=1e-2,\n",
    "        )\n",
    "        \n",
    "        lr_scheduler = get_cosine_schedule_with_warmup(\n",
    "            optimizer,\n",
    "            num_warmup_steps=0,\n",
    "            num_training_steps=self.hparams.num_epoch,\n",
    "        )\n",
    "        return [optimizer], [lr_scheduler]\n",
    "    \n",
    "    def _get_optimizer_params(self, model):\n",
    "        # differential learning rate and weight decay\n",
    "        param_optimizer = list(model.named_parameters())\n",
    "        learning_rate = self.hparams.lr\n",
    "        no_decay = [\"bias\", \"gamma\", \"beta\"]\n",
    "        group1 = [\"layer.0.\", \"layer.1.\", \"layer.2.\", \"layer.3.\"]\n",
    "        group2 = [\"layer.4.\", \"layer.5.\", \"layer.6.\", \"layer.7.\"]\n",
    "        group3 = [\"layer.8.\", \"layer.9.\", \"layer.10.\", \"layer.11.\"]\n",
    "        group_all = [\n",
    "            \"layer.0.\",\n",
    "            \"layer.1.\",\n",
    "            \"layer.2.\",\n",
    "            \"layer.3.\",\n",
    "            \"layer.4.\",\n",
    "            \"layer.5.\",\n",
    "            \"layer.6.\",\n",
    "            \"layer.7.\",\n",
    "            \"layer.8.\",\n",
    "            \"layer.9.\",\n",
    "            \"layer.10.\",\n",
    "            \"layer.11.\",\n",
    "        ]\n",
    "        optimizer_parameters = [\n",
    "            {\n",
    "                \"params\": [\n",
    "                    p\n",
    "                    for n, p in model.roberta.named_parameters()\n",
    "                    if not any(nd in n for nd in no_decay)\n",
    "                    and not any(nd in n for nd in group_all)\n",
    "                ],\n",
    "                \"weight_decay_rate\": 0.01,\n",
    "            },\n",
    "            {\n",
    "                \"params\": [\n",
    "                    p\n",
    "                    for n, p in model.roberta.named_parameters()\n",
    "                    if not any(nd in n for nd in no_decay) and any(nd in n for nd in group1)\n",
    "                ],\n",
    "                \"weight_decay_rate\": 0.01,\n",
    "                \"lr\": learning_rate / 2.6,\n",
    "            },\n",
    "            {\n",
    "                \"params\": [\n",
    "                    p\n",
    "                    for n, p in model.roberta.named_parameters()\n",
    "                    if not any(nd in n for nd in no_decay) and any(nd in n for nd in group2)\n",
    "                ],\n",
    "                \"weight_decay_rate\": 0.01,\n",
    "                \"lr\": learning_rate / 1.5,\n",
    "            },\n",
    "            {\n",
    "                \"params\": [\n",
    "                    p\n",
    "                    for n, p in model.roberta.named_parameters()\n",
    "                    if not any(nd in n for nd in no_decay) and any(nd in n for nd in group3)\n",
    "                ],\n",
    "                \"weight_decay_rate\": 0.01,\n",
    "                \"lr\": learning_rate,\n",
    "            },\n",
    "            {\n",
    "                \"params\": [\n",
    "                    p\n",
    "                    for n, p in model.roberta.named_parameters()\n",
    "                    if any(nd in n for nd in no_decay)\n",
    "                    and not any(nd in n for nd in group_all)\n",
    "                ],\n",
    "                \"weight_decay_rate\": 0.0,\n",
    "            },\n",
    "            {\n",
    "                \"params\": [\n",
    "                    p\n",
    "                    for n, p in model.roberta.named_parameters()\n",
    "                    if any(nd in n for nd in no_decay) and any(nd in n for nd in group1)\n",
    "                ],\n",
    "                \"weight_decay_rate\": 0.0,\n",
    "                \"lr\": learning_rate / 2.6,\n",
    "            },\n",
    "            {\n",
    "                \"params\": [\n",
    "                    p\n",
    "                    for n, p in model.roberta.named_parameters()\n",
    "                    if any(nd in n for nd in no_decay) and any(nd in n for nd in group2)\n",
    "                ],\n",
    "                \"weight_decay_rate\": 0.0,\n",
    "                \"lr\": learning_rate / 1.5,\n",
    "            },\n",
    "            {\n",
    "                \"params\": [\n",
    "                    p\n",
    "                    for n, p in model.roberta.named_parameters()\n",
    "                    if any(nd in n for nd in no_decay) and any(nd in n for nd in group3)\n",
    "                ],\n",
    "                \"weight_decay_rate\": 0.0,\n",
    "                \"lr\": learning_rate,\n",
    "            },\n",
    "            {\n",
    "                \"params\": [p for n, p in model.named_parameters() if \"roberta\" not in n],\n",
    "                \"lr\": 1e-5,\n",
    "                \"momentum\": 0.99,\n",
    "            },\n",
    "        ]\n",
    "        return optimizer_parameters\n",
    "\n",
    "\n",
    "    def shared_step(self, batch):\n",
    "        z = self(batch)\n",
    "        loss = self.loss_fn(z, batch[\"target_label\"])\n",
    "        \n",
    "        z_reg = self.target_bins[z.argmax(dim=1)]\n",
    "        metric = self.eval_fn(z_reg, batch[\"target\"])\n",
    "        return z, loss, metric\n",
    "\n",
    "    def training_step(self, batch, batch_idx):\n",
    "        z, loss, metric = self.shared_step(batch)\n",
    "        self.log(\"train_loss\", loss)\n",
    "        return {\"loss\": loss}\n",
    "\n",
    "    def validation_step(self, batch, batch_idx):\n",
    "        z, loss, metric = self.shared_step(batch)\n",
    "        \n",
    "        self.log(\"val_loss\", loss, prog_bar=True)\n",
    "        self.log(\"val_metric\", metric, prog_bar=True)\n",
    "        return {\"val_loss\": loss, \"val_metric\": metric}"
   ]
  },
  {
   "cell_type": "code",
   "execution_count": 10,
   "id": "8bfa7b0b-447e-44be-ade4-09508a7d752b",
   "metadata": {},
   "outputs": [
    {
     "name": "stdout",
     "output_type": "stream",
     "text": [
      "=================================================================\n",
      "Layer (type:depth-idx)                   Param #\n",
      "=================================================================\n",
      "├─RobertaModel: 1-1                      --\n",
      "|    └─RobertaEmbeddings: 2-1            --\n",
      "|    |    └─Embedding: 3-1               38,603,520\n",
      "|    |    └─Embedding: 3-2               394,752\n",
      "|    |    └─Embedding: 3-3               768\n",
      "|    |    └─LayerNorm: 3-4               1,536\n",
      "|    |    └─Dropout: 3-5                 --\n",
      "|    └─RobertaEncoder: 2-2               --\n",
      "|    |    └─ModuleList: 3-6              85,054,464\n",
      "|    └─RobertaPooler: 2-3                --\n",
      "|    |    └─Linear: 3-7                  590,592\n",
      "|    |    └─Tanh: 3-8                    --\n",
      "├─Sequential: 1-2                        --\n",
      "|    └─LayerNorm: 2-4                    1,536\n",
      "|    └─Dropout: 2-5                      --\n",
      "|    └─Linear: 2-6                       15,380\n",
      "=================================================================\n",
      "Total params: 124,662,548\n",
      "Trainable params: 124,662,548\n",
      "Non-trainable params: 0\n",
      "=================================================================\n"
     ]
    }
   ],
   "source": [
    "model = CommonLitRoBERTaModel()\n",
    "\n",
    "# print(model)\n",
    "print(summary(model, depth=3, verbose=0))"
   ]
  },
  {
   "cell_type": "markdown",
   "id": "913fce65-bb77-4cfe-9e58-435ee0042ae8",
   "metadata": {},
   "source": [
    "## Train Model"
   ]
  },
  {
   "cell_type": "code",
   "execution_count": 11,
   "id": "ae88730b-52ce-4f4d-83a4-a6d90fd210d0",
   "metadata": {},
   "outputs": [
    {
     "name": "stderr",
     "output_type": "stream",
     "text": [
      "GPU available: True, used: True\n",
      "TPU available: False, using: 0 TPU cores\n",
      "LOCAL_RANK: 0 - CUDA_VISIBLE_DEVICES: [0]\n",
      "/home/rui.konuma/commonLit_readability_prize/.venv/lib/python3.8/site-packages/omegaconf/_utils.py:365: FutureWarning: elementwise comparison failed; returning scalar instead, but in the future will perform elementwise comparison\n",
      "  if value == \"???\":\n",
      "/home/rui.konuma/commonLit_readability_prize/.venv/lib/python3.8/site-packages/omegaconf/dictconfig.py:169: FutureWarning: elementwise comparison failed; returning scalar instead, but in the future will perform elementwise comparison\n",
      "  if value == \"???\":\n",
      "/home/rui.konuma/commonLit_readability_prize/.venv/lib/python3.8/site-packages/omegaconf/basecontainer.py:405: FutureWarning: elementwise comparison failed; returning scalar instead, but in the future will perform elementwise comparison\n",
      "  special_value = value is None or value == \"???\"\n",
      "\n",
      "  | Name    | Type                  | Params\n",
      "--------------------------------------------------\n",
      "0 | roberta | CommonLitRoBERTaModel | 124 M \n",
      "1 | loss_fn | CrossEntropyLoss      | 0     \n",
      "2 | eval_fn | RMSELoss              | 0     \n",
      "--------------------------------------------------\n",
      "124 M     Trainable params\n",
      "0         Non-trainable params\n",
      "124 M     Total params\n",
      "498.712   Total estimated model params size (MB)\n"
     ]
    },
    {
     "data": {
      "application/vnd.jupyter.widget-view+json": {
       "model_id": "",
       "version_major": 2,
       "version_minor": 0
      },
      "text/plain": [
       "Validation sanity check: 0it [00:00, ?it/s]"
      ]
     },
     "metadata": {},
     "output_type": "display_data"
    },
    {
     "name": "stderr",
     "output_type": "stream",
     "text": [
      "Global seed set to 422\n"
     ]
    },
    {
     "data": {
      "application/vnd.jupyter.widget-view+json": {
       "model_id": "acfa4614f91f411982d6a0e81fb92440",
       "version_major": 2,
       "version_minor": 0
      },
      "text/plain": [
       "Training: 0it [00:00, ?it/s]"
      ]
     },
     "metadata": {},
     "output_type": "display_data"
    },
    {
     "data": {
      "application/vnd.jupyter.widget-view+json": {
       "model_id": "",
       "version_major": 2,
       "version_minor": 0
      },
      "text/plain": [
       "Validating: 0it [00:00, ?it/s]"
      ]
     },
     "metadata": {},
     "output_type": "display_data"
    },
    {
     "data": {
      "application/vnd.jupyter.widget-view+json": {
       "model_id": "",
       "version_major": 2,
       "version_minor": 0
      },
      "text/plain": [
       "Validating: 0it [00:00, ?it/s]"
      ]
     },
     "metadata": {},
     "output_type": "display_data"
    },
    {
     "data": {
      "application/vnd.jupyter.widget-view+json": {
       "model_id": "",
       "version_major": 2,
       "version_minor": 0
      },
      "text/plain": [
       "Validating: 0it [00:00, ?it/s]"
      ]
     },
     "metadata": {},
     "output_type": "display_data"
    },
    {
     "data": {
      "application/vnd.jupyter.widget-view+json": {
       "model_id": "",
       "version_major": 2,
       "version_minor": 0
      },
      "text/plain": [
       "Validating: 0it [00:00, ?it/s]"
      ]
     },
     "metadata": {},
     "output_type": "display_data"
    },
    {
     "data": {
      "application/vnd.jupyter.widget-view+json": {
       "model_id": "",
       "version_major": 2,
       "version_minor": 0
      },
      "text/plain": [
       "Validating: 0it [00:00, ?it/s]"
      ]
     },
     "metadata": {},
     "output_type": "display_data"
    },
    {
     "data": {
      "application/vnd.jupyter.widget-view+json": {
       "model_id": "",
       "version_major": 2,
       "version_minor": 0
      },
      "text/plain": [
       "Validating: 0it [00:00, ?it/s]"
      ]
     },
     "metadata": {},
     "output_type": "display_data"
    },
    {
     "data": {
      "application/vnd.jupyter.widget-view+json": {
       "model_id": "",
       "version_major": 2,
       "version_minor": 0
      },
      "text/plain": [
       "Validating: 0it [00:00, ?it/s]"
      ]
     },
     "metadata": {},
     "output_type": "display_data"
    },
    {
     "name": "stderr",
     "output_type": "stream",
     "text": [
      "Swapping scheduler <torch.optim.lr_scheduler.LambdaLR object at 0x7f3d9c8563a0> for <torch.optim.swa_utils.SWALR object at 0x7f3e2103a820>\n"
     ]
    },
    {
     "data": {
      "application/vnd.jupyter.widget-view+json": {
       "model_id": "",
       "version_major": 2,
       "version_minor": 0
      },
      "text/plain": [
       "Validating: 0it [00:00, ?it/s]"
      ]
     },
     "metadata": {},
     "output_type": "display_data"
    },
    {
     "data": {
      "application/vnd.jupyter.widget-view+json": {
       "model_id": "",
       "version_major": 2,
       "version_minor": 0
      },
      "text/plain": [
       "Validating: 0it [00:00, ?it/s]"
      ]
     },
     "metadata": {},
     "output_type": "display_data"
    },
    {
     "data": {
      "application/vnd.jupyter.widget-view+json": {
       "model_id": "",
       "version_major": 2,
       "version_minor": 0
      },
      "text/plain": [
       "Validating: 0it [00:00, ?it/s]"
      ]
     },
     "metadata": {},
     "output_type": "display_data"
    },
    {
     "name": "stderr",
     "output_type": "stream",
     "text": [
      "LOCAL_RANK: 0 - CUDA_VISIBLE_DEVICES: [0]\n",
      "GPU available: True, used: True\n",
      "TPU available: False, using: 0 TPU cores\n",
      "LOCAL_RANK: 0 - CUDA_VISIBLE_DEVICES: [0]\n",
      "/home/rui.konuma/commonLit_readability_prize/.venv/lib/python3.8/site-packages/omegaconf/_utils.py:365: FutureWarning: elementwise comparison failed; returning scalar instead, but in the future will perform elementwise comparison\n",
      "  if value == \"???\":\n",
      "/home/rui.konuma/commonLit_readability_prize/.venv/lib/python3.8/site-packages/omegaconf/dictconfig.py:169: FutureWarning: elementwise comparison failed; returning scalar instead, but in the future will perform elementwise comparison\n",
      "  if value == \"???\":\n",
      "/home/rui.konuma/commonLit_readability_prize/.venv/lib/python3.8/site-packages/omegaconf/basecontainer.py:405: FutureWarning: elementwise comparison failed; returning scalar instead, but in the future will perform elementwise comparison\n",
      "  special_value = value is None or value == \"???\"\n",
      "\n",
      "  | Name    | Type                  | Params\n",
      "--------------------------------------------------\n",
      "0 | roberta | CommonLitRoBERTaModel | 124 M \n",
      "1 | loss_fn | CrossEntropyLoss      | 0     \n",
      "2 | eval_fn | RMSELoss              | 0     \n",
      "--------------------------------------------------\n",
      "124 M     Trainable params\n",
      "0         Non-trainable params\n",
      "124 M     Total params\n",
      "498.712   Total estimated model params size (MB)\n"
     ]
    },
    {
     "data": {
      "application/vnd.jupyter.widget-view+json": {
       "model_id": "",
       "version_major": 2,
       "version_minor": 0
      },
      "text/plain": [
       "Validation sanity check: 0it [00:00, ?it/s]"
      ]
     },
     "metadata": {},
     "output_type": "display_data"
    },
    {
     "name": "stderr",
     "output_type": "stream",
     "text": [
      "Global seed set to 422\n"
     ]
    },
    {
     "data": {
      "application/vnd.jupyter.widget-view+json": {
       "model_id": "d37bf7f318a94fefa6197de3529d6c4b",
       "version_major": 2,
       "version_minor": 0
      },
      "text/plain": [
       "Training: 0it [00:00, ?it/s]"
      ]
     },
     "metadata": {},
     "output_type": "display_data"
    },
    {
     "data": {
      "application/vnd.jupyter.widget-view+json": {
       "model_id": "",
       "version_major": 2,
       "version_minor": 0
      },
      "text/plain": [
       "Validating: 0it [00:00, ?it/s]"
      ]
     },
     "metadata": {},
     "output_type": "display_data"
    },
    {
     "data": {
      "application/vnd.jupyter.widget-view+json": {
       "model_id": "",
       "version_major": 2,
       "version_minor": 0
      },
      "text/plain": [
       "Validating: 0it [00:00, ?it/s]"
      ]
     },
     "metadata": {},
     "output_type": "display_data"
    },
    {
     "data": {
      "application/vnd.jupyter.widget-view+json": {
       "model_id": "",
       "version_major": 2,
       "version_minor": 0
      },
      "text/plain": [
       "Validating: 0it [00:00, ?it/s]"
      ]
     },
     "metadata": {},
     "output_type": "display_data"
    },
    {
     "data": {
      "application/vnd.jupyter.widget-view+json": {
       "model_id": "",
       "version_major": 2,
       "version_minor": 0
      },
      "text/plain": [
       "Validating: 0it [00:00, ?it/s]"
      ]
     },
     "metadata": {},
     "output_type": "display_data"
    },
    {
     "data": {
      "application/vnd.jupyter.widget-view+json": {
       "model_id": "",
       "version_major": 2,
       "version_minor": 0
      },
      "text/plain": [
       "Validating: 0it [00:00, ?it/s]"
      ]
     },
     "metadata": {},
     "output_type": "display_data"
    },
    {
     "data": {
      "application/vnd.jupyter.widget-view+json": {
       "model_id": "",
       "version_major": 2,
       "version_minor": 0
      },
      "text/plain": [
       "Validating: 0it [00:00, ?it/s]"
      ]
     },
     "metadata": {},
     "output_type": "display_data"
    },
    {
     "data": {
      "application/vnd.jupyter.widget-view+json": {
       "model_id": "",
       "version_major": 2,
       "version_minor": 0
      },
      "text/plain": [
       "Validating: 0it [00:00, ?it/s]"
      ]
     },
     "metadata": {},
     "output_type": "display_data"
    },
    {
     "name": "stderr",
     "output_type": "stream",
     "text": [
      "Swapping scheduler <torch.optim.lr_scheduler.LambdaLR object at 0x7f3e214c52e0> for <torch.optim.swa_utils.SWALR object at 0x7f3e2141ce80>\n"
     ]
    },
    {
     "data": {
      "application/vnd.jupyter.widget-view+json": {
       "model_id": "",
       "version_major": 2,
       "version_minor": 0
      },
      "text/plain": [
       "Validating: 0it [00:00, ?it/s]"
      ]
     },
     "metadata": {},
     "output_type": "display_data"
    },
    {
     "data": {
      "application/vnd.jupyter.widget-view+json": {
       "model_id": "",
       "version_major": 2,
       "version_minor": 0
      },
      "text/plain": [
       "Validating: 0it [00:00, ?it/s]"
      ]
     },
     "metadata": {},
     "output_type": "display_data"
    },
    {
     "data": {
      "application/vnd.jupyter.widget-view+json": {
       "model_id": "",
       "version_major": 2,
       "version_minor": 0
      },
      "text/plain": [
       "Validating: 0it [00:00, ?it/s]"
      ]
     },
     "metadata": {},
     "output_type": "display_data"
    },
    {
     "name": "stderr",
     "output_type": "stream",
     "text": [
      "LOCAL_RANK: 0 - CUDA_VISIBLE_DEVICES: [0]\n",
      "GPU available: True, used: True\n",
      "TPU available: False, using: 0 TPU cores\n",
      "LOCAL_RANK: 0 - CUDA_VISIBLE_DEVICES: [0]\n",
      "/home/rui.konuma/commonLit_readability_prize/.venv/lib/python3.8/site-packages/omegaconf/_utils.py:365: FutureWarning: elementwise comparison failed; returning scalar instead, but in the future will perform elementwise comparison\n",
      "  if value == \"???\":\n",
      "/home/rui.konuma/commonLit_readability_prize/.venv/lib/python3.8/site-packages/omegaconf/dictconfig.py:169: FutureWarning: elementwise comparison failed; returning scalar instead, but in the future will perform elementwise comparison\n",
      "  if value == \"???\":\n",
      "/home/rui.konuma/commonLit_readability_prize/.venv/lib/python3.8/site-packages/omegaconf/basecontainer.py:405: FutureWarning: elementwise comparison failed; returning scalar instead, but in the future will perform elementwise comparison\n",
      "  special_value = value is None or value == \"???\"\n",
      "\n",
      "  | Name    | Type                  | Params\n",
      "--------------------------------------------------\n",
      "0 | roberta | CommonLitRoBERTaModel | 124 M \n",
      "1 | loss_fn | CrossEntropyLoss      | 0     \n",
      "2 | eval_fn | RMSELoss              | 0     \n",
      "--------------------------------------------------\n",
      "124 M     Trainable params\n",
      "0         Non-trainable params\n",
      "124 M     Total params\n",
      "498.712   Total estimated model params size (MB)\n"
     ]
    },
    {
     "data": {
      "application/vnd.jupyter.widget-view+json": {
       "model_id": "",
       "version_major": 2,
       "version_minor": 0
      },
      "text/plain": [
       "Validation sanity check: 0it [00:00, ?it/s]"
      ]
     },
     "metadata": {},
     "output_type": "display_data"
    },
    {
     "name": "stderr",
     "output_type": "stream",
     "text": [
      "Global seed set to 422\n"
     ]
    },
    {
     "data": {
      "application/vnd.jupyter.widget-view+json": {
       "model_id": "10efa3a92ead4be9b63bbf4c0983e3b0",
       "version_major": 2,
       "version_minor": 0
      },
      "text/plain": [
       "Training: 0it [00:00, ?it/s]"
      ]
     },
     "metadata": {},
     "output_type": "display_data"
    },
    {
     "data": {
      "application/vnd.jupyter.widget-view+json": {
       "model_id": "",
       "version_major": 2,
       "version_minor": 0
      },
      "text/plain": [
       "Validating: 0it [00:00, ?it/s]"
      ]
     },
     "metadata": {},
     "output_type": "display_data"
    },
    {
     "data": {
      "application/vnd.jupyter.widget-view+json": {
       "model_id": "",
       "version_major": 2,
       "version_minor": 0
      },
      "text/plain": [
       "Validating: 0it [00:00, ?it/s]"
      ]
     },
     "metadata": {},
     "output_type": "display_data"
    },
    {
     "data": {
      "application/vnd.jupyter.widget-view+json": {
       "model_id": "",
       "version_major": 2,
       "version_minor": 0
      },
      "text/plain": [
       "Validating: 0it [00:00, ?it/s]"
      ]
     },
     "metadata": {},
     "output_type": "display_data"
    },
    {
     "data": {
      "application/vnd.jupyter.widget-view+json": {
       "model_id": "",
       "version_major": 2,
       "version_minor": 0
      },
      "text/plain": [
       "Validating: 0it [00:00, ?it/s]"
      ]
     },
     "metadata": {},
     "output_type": "display_data"
    },
    {
     "data": {
      "application/vnd.jupyter.widget-view+json": {
       "model_id": "",
       "version_major": 2,
       "version_minor": 0
      },
      "text/plain": [
       "Validating: 0it [00:00, ?it/s]"
      ]
     },
     "metadata": {},
     "output_type": "display_data"
    },
    {
     "data": {
      "application/vnd.jupyter.widget-view+json": {
       "model_id": "",
       "version_major": 2,
       "version_minor": 0
      },
      "text/plain": [
       "Validating: 0it [00:00, ?it/s]"
      ]
     },
     "metadata": {},
     "output_type": "display_data"
    },
    {
     "data": {
      "application/vnd.jupyter.widget-view+json": {
       "model_id": "",
       "version_major": 2,
       "version_minor": 0
      },
      "text/plain": [
       "Validating: 0it [00:00, ?it/s]"
      ]
     },
     "metadata": {},
     "output_type": "display_data"
    },
    {
     "name": "stderr",
     "output_type": "stream",
     "text": [
      "Swapping scheduler <torch.optim.lr_scheduler.LambdaLR object at 0x7f3da5235bb0> for <torch.optim.swa_utils.SWALR object at 0x7f3e213e8580>\n"
     ]
    },
    {
     "data": {
      "application/vnd.jupyter.widget-view+json": {
       "model_id": "",
       "version_major": 2,
       "version_minor": 0
      },
      "text/plain": [
       "Validating: 0it [00:00, ?it/s]"
      ]
     },
     "metadata": {},
     "output_type": "display_data"
    },
    {
     "data": {
      "application/vnd.jupyter.widget-view+json": {
       "model_id": "",
       "version_major": 2,
       "version_minor": 0
      },
      "text/plain": [
       "Validating: 0it [00:00, ?it/s]"
      ]
     },
     "metadata": {},
     "output_type": "display_data"
    },
    {
     "data": {
      "application/vnd.jupyter.widget-view+json": {
       "model_id": "",
       "version_major": 2,
       "version_minor": 0
      },
      "text/plain": [
       "Validating: 0it [00:00, ?it/s]"
      ]
     },
     "metadata": {},
     "output_type": "display_data"
    },
    {
     "name": "stderr",
     "output_type": "stream",
     "text": [
      "LOCAL_RANK: 0 - CUDA_VISIBLE_DEVICES: [0]\n",
      "GPU available: True, used: True\n",
      "TPU available: False, using: 0 TPU cores\n",
      "LOCAL_RANK: 0 - CUDA_VISIBLE_DEVICES: [0]\n",
      "/home/rui.konuma/commonLit_readability_prize/.venv/lib/python3.8/site-packages/omegaconf/_utils.py:365: FutureWarning: elementwise comparison failed; returning scalar instead, but in the future will perform elementwise comparison\n",
      "  if value == \"???\":\n",
      "/home/rui.konuma/commonLit_readability_prize/.venv/lib/python3.8/site-packages/omegaconf/dictconfig.py:169: FutureWarning: elementwise comparison failed; returning scalar instead, but in the future will perform elementwise comparison\n",
      "  if value == \"???\":\n",
      "/home/rui.konuma/commonLit_readability_prize/.venv/lib/python3.8/site-packages/omegaconf/basecontainer.py:405: FutureWarning: elementwise comparison failed; returning scalar instead, but in the future will perform elementwise comparison\n",
      "  special_value = value is None or value == \"???\"\n",
      "\n",
      "  | Name    | Type                  | Params\n",
      "--------------------------------------------------\n",
      "0 | roberta | CommonLitRoBERTaModel | 124 M \n",
      "1 | loss_fn | CrossEntropyLoss      | 0     \n",
      "2 | eval_fn | RMSELoss              | 0     \n",
      "--------------------------------------------------\n",
      "124 M     Trainable params\n",
      "0         Non-trainable params\n",
      "124 M     Total params\n",
      "498.712   Total estimated model params size (MB)\n"
     ]
    },
    {
     "data": {
      "application/vnd.jupyter.widget-view+json": {
       "model_id": "",
       "version_major": 2,
       "version_minor": 0
      },
      "text/plain": [
       "Validation sanity check: 0it [00:00, ?it/s]"
      ]
     },
     "metadata": {},
     "output_type": "display_data"
    },
    {
     "name": "stderr",
     "output_type": "stream",
     "text": [
      "Global seed set to 422\n"
     ]
    },
    {
     "data": {
      "application/vnd.jupyter.widget-view+json": {
       "model_id": "e1c2ab682f2b488583fa673d5d0fd12b",
       "version_major": 2,
       "version_minor": 0
      },
      "text/plain": [
       "Training: 0it [00:00, ?it/s]"
      ]
     },
     "metadata": {},
     "output_type": "display_data"
    },
    {
     "data": {
      "application/vnd.jupyter.widget-view+json": {
       "model_id": "",
       "version_major": 2,
       "version_minor": 0
      },
      "text/plain": [
       "Validating: 0it [00:00, ?it/s]"
      ]
     },
     "metadata": {},
     "output_type": "display_data"
    },
    {
     "data": {
      "application/vnd.jupyter.widget-view+json": {
       "model_id": "",
       "version_major": 2,
       "version_minor": 0
      },
      "text/plain": [
       "Validating: 0it [00:00, ?it/s]"
      ]
     },
     "metadata": {},
     "output_type": "display_data"
    },
    {
     "data": {
      "application/vnd.jupyter.widget-view+json": {
       "model_id": "",
       "version_major": 2,
       "version_minor": 0
      },
      "text/plain": [
       "Validating: 0it [00:00, ?it/s]"
      ]
     },
     "metadata": {},
     "output_type": "display_data"
    },
    {
     "data": {
      "application/vnd.jupyter.widget-view+json": {
       "model_id": "",
       "version_major": 2,
       "version_minor": 0
      },
      "text/plain": [
       "Validating: 0it [00:00, ?it/s]"
      ]
     },
     "metadata": {},
     "output_type": "display_data"
    },
    {
     "data": {
      "application/vnd.jupyter.widget-view+json": {
       "model_id": "",
       "version_major": 2,
       "version_minor": 0
      },
      "text/plain": [
       "Validating: 0it [00:00, ?it/s]"
      ]
     },
     "metadata": {},
     "output_type": "display_data"
    },
    {
     "data": {
      "application/vnd.jupyter.widget-view+json": {
       "model_id": "",
       "version_major": 2,
       "version_minor": 0
      },
      "text/plain": [
       "Validating: 0it [00:00, ?it/s]"
      ]
     },
     "metadata": {},
     "output_type": "display_data"
    },
    {
     "data": {
      "application/vnd.jupyter.widget-view+json": {
       "model_id": "",
       "version_major": 2,
       "version_minor": 0
      },
      "text/plain": [
       "Validating: 0it [00:00, ?it/s]"
      ]
     },
     "metadata": {},
     "output_type": "display_data"
    },
    {
     "name": "stderr",
     "output_type": "stream",
     "text": [
      "Swapping scheduler <torch.optim.lr_scheduler.LambdaLR object at 0x7f3e21d05670> for <torch.optim.swa_utils.SWALR object at 0x7f3d9c87c5b0>\n"
     ]
    },
    {
     "data": {
      "application/vnd.jupyter.widget-view+json": {
       "model_id": "",
       "version_major": 2,
       "version_minor": 0
      },
      "text/plain": [
       "Validating: 0it [00:00, ?it/s]"
      ]
     },
     "metadata": {},
     "output_type": "display_data"
    },
    {
     "data": {
      "application/vnd.jupyter.widget-view+json": {
       "model_id": "",
       "version_major": 2,
       "version_minor": 0
      },
      "text/plain": [
       "Validating: 0it [00:00, ?it/s]"
      ]
     },
     "metadata": {},
     "output_type": "display_data"
    },
    {
     "data": {
      "application/vnd.jupyter.widget-view+json": {
       "model_id": "",
       "version_major": 2,
       "version_minor": 0
      },
      "text/plain": [
       "Validating: 0it [00:00, ?it/s]"
      ]
     },
     "metadata": {},
     "output_type": "display_data"
    },
    {
     "name": "stderr",
     "output_type": "stream",
     "text": [
      "LOCAL_RANK: 0 - CUDA_VISIBLE_DEVICES: [0]\n",
      "GPU available: True, used: True\n",
      "TPU available: False, using: 0 TPU cores\n",
      "LOCAL_RANK: 0 - CUDA_VISIBLE_DEVICES: [0]\n",
      "/home/rui.konuma/commonLit_readability_prize/.venv/lib/python3.8/site-packages/omegaconf/_utils.py:365: FutureWarning: elementwise comparison failed; returning scalar instead, but in the future will perform elementwise comparison\n",
      "  if value == \"???\":\n",
      "/home/rui.konuma/commonLit_readability_prize/.venv/lib/python3.8/site-packages/omegaconf/dictconfig.py:169: FutureWarning: elementwise comparison failed; returning scalar instead, but in the future will perform elementwise comparison\n",
      "  if value == \"???\":\n",
      "/home/rui.konuma/commonLit_readability_prize/.venv/lib/python3.8/site-packages/omegaconf/basecontainer.py:405: FutureWarning: elementwise comparison failed; returning scalar instead, but in the future will perform elementwise comparison\n",
      "  special_value = value is None or value == \"???\"\n",
      "\n",
      "  | Name    | Type                  | Params\n",
      "--------------------------------------------------\n",
      "0 | roberta | CommonLitRoBERTaModel | 124 M \n",
      "1 | loss_fn | CrossEntropyLoss      | 0     \n",
      "2 | eval_fn | RMSELoss              | 0     \n",
      "--------------------------------------------------\n",
      "124 M     Trainable params\n",
      "0         Non-trainable params\n",
      "124 M     Total params\n",
      "498.712   Total estimated model params size (MB)\n"
     ]
    },
    {
     "data": {
      "application/vnd.jupyter.widget-view+json": {
       "model_id": "",
       "version_major": 2,
       "version_minor": 0
      },
      "text/plain": [
       "Validation sanity check: 0it [00:00, ?it/s]"
      ]
     },
     "metadata": {},
     "output_type": "display_data"
    },
    {
     "name": "stderr",
     "output_type": "stream",
     "text": [
      "Global seed set to 422\n"
     ]
    },
    {
     "data": {
      "application/vnd.jupyter.widget-view+json": {
       "model_id": "66e5aa1f1f8442dfbbfab99343e30d4b",
       "version_major": 2,
       "version_minor": 0
      },
      "text/plain": [
       "Training: 0it [00:00, ?it/s]"
      ]
     },
     "metadata": {},
     "output_type": "display_data"
    },
    {
     "data": {
      "application/vnd.jupyter.widget-view+json": {
       "model_id": "",
       "version_major": 2,
       "version_minor": 0
      },
      "text/plain": [
       "Validating: 0it [00:00, ?it/s]"
      ]
     },
     "metadata": {},
     "output_type": "display_data"
    },
    {
     "data": {
      "application/vnd.jupyter.widget-view+json": {
       "model_id": "",
       "version_major": 2,
       "version_minor": 0
      },
      "text/plain": [
       "Validating: 0it [00:00, ?it/s]"
      ]
     },
     "metadata": {},
     "output_type": "display_data"
    },
    {
     "data": {
      "application/vnd.jupyter.widget-view+json": {
       "model_id": "",
       "version_major": 2,
       "version_minor": 0
      },
      "text/plain": [
       "Validating: 0it [00:00, ?it/s]"
      ]
     },
     "metadata": {},
     "output_type": "display_data"
    },
    {
     "data": {
      "application/vnd.jupyter.widget-view+json": {
       "model_id": "",
       "version_major": 2,
       "version_minor": 0
      },
      "text/plain": [
       "Validating: 0it [00:00, ?it/s]"
      ]
     },
     "metadata": {},
     "output_type": "display_data"
    },
    {
     "data": {
      "application/vnd.jupyter.widget-view+json": {
       "model_id": "",
       "version_major": 2,
       "version_minor": 0
      },
      "text/plain": [
       "Validating: 0it [00:00, ?it/s]"
      ]
     },
     "metadata": {},
     "output_type": "display_data"
    },
    {
     "data": {
      "application/vnd.jupyter.widget-view+json": {
       "model_id": "",
       "version_major": 2,
       "version_minor": 0
      },
      "text/plain": [
       "Validating: 0it [00:00, ?it/s]"
      ]
     },
     "metadata": {},
     "output_type": "display_data"
    },
    {
     "data": {
      "application/vnd.jupyter.widget-view+json": {
       "model_id": "",
       "version_major": 2,
       "version_minor": 0
      },
      "text/plain": [
       "Validating: 0it [00:00, ?it/s]"
      ]
     },
     "metadata": {},
     "output_type": "display_data"
    },
    {
     "name": "stderr",
     "output_type": "stream",
     "text": [
      "Swapping scheduler <torch.optim.lr_scheduler.LambdaLR object at 0x7f3d9c9fec40> for <torch.optim.swa_utils.SWALR object at 0x7f3e21c5a9d0>\n"
     ]
    },
    {
     "data": {
      "application/vnd.jupyter.widget-view+json": {
       "model_id": "",
       "version_major": 2,
       "version_minor": 0
      },
      "text/plain": [
       "Validating: 0it [00:00, ?it/s]"
      ]
     },
     "metadata": {},
     "output_type": "display_data"
    },
    {
     "data": {
      "application/vnd.jupyter.widget-view+json": {
       "model_id": "",
       "version_major": 2,
       "version_minor": 0
      },
      "text/plain": [
       "Validating: 0it [00:00, ?it/s]"
      ]
     },
     "metadata": {},
     "output_type": "display_data"
    },
    {
     "data": {
      "application/vnd.jupyter.widget-view+json": {
       "model_id": "",
       "version_major": 2,
       "version_minor": 0
      },
      "text/plain": [
       "Validating: 0it [00:00, ?it/s]"
      ]
     },
     "metadata": {},
     "output_type": "display_data"
    },
    {
     "name": "stderr",
     "output_type": "stream",
     "text": [
      "LOCAL_RANK: 0 - CUDA_VISIBLE_DEVICES: [0]\n"
     ]
    },
    {
     "name": "stdout",
     "output_type": "stream",
     "text": [
      "CPU times: user 25min 59s, sys: 4min 49s, total: 30min 49s\n",
      "Wall time: 31min 29s\n"
     ]
    }
   ],
   "source": [
    "%%time\n",
    "\n",
    "num_epoch = 10\n",
    "batch_size = 32\n",
    "\n",
    "model_path = \"roberta-base\" \n",
    "tokenizer = RobertaTokenizer.from_pretrained(model_path)\n",
    "\n",
    "best_checkpoints = []\n",
    "for n_fold in range(num_splits):\n",
    "    datamodule = CommonLitDataModule(f\"../data/split/fold_{n_fold}/\", tokenizer, batch_size)\n",
    "    datamodule.setup()\n",
    "\n",
    "    # Logger\n",
    "    tb_logger = TensorBoardLogger(\n",
    "        save_dir=\"../tb_logs\",\n",
    "        name=\"Baseline\",\n",
    "    )\n",
    "    # Callbacks\n",
    "    lr_monitor = LearningRateMonitor(logging_interval=\"step\")\n",
    "    early_stop = EarlyStopping(\n",
    "        mode=\"min\",\n",
    "        patience=5,\n",
    "        verbose=False,\n",
    "        monitor=\"val_loss\",\n",
    "        min_delta=0.01,\n",
    "    )\n",
    "    checkpoint = ModelCheckpoint(\n",
    "        filename=\"{epoch:02d}-{loss:.4f}-{val_loss:.4f}-{val_metric:.4f}\",\n",
    "        monitor=\"val_loss\",\n",
    "        save_top_k=3,\n",
    "        mode=\"min\",\n",
    "    )\n",
    "\n",
    "    model = CommonLitModel(\n",
    "        out_dim=num_bin,\n",
    "        target_bins=target_bins,\n",
    "        lr=3e-5,\n",
    "        num_epoch=num_epoch,\n",
    "    )\n",
    "    trainer = Trainer(\n",
    "        accelerator=\"dp\",\n",
    "        gpus=1,\n",
    "        logger=tb_logger,\n",
    "        callbacks=[lr_monitor, checkpoint],\n",
    "        max_epochs=num_epoch,\n",
    "        stochastic_weight_avg=True,\n",
    "    )\n",
    "    trainer.fit(model=model, datamodule=datamodule)\n",
    "    trainer.test(model=model, datamodule=datamodule, ckpt_path='best')\n",
    "    \n",
    "    best_checkpoints.append(checkpoint.best_model_path)"
   ]
  },
  {
   "cell_type": "markdown",
   "id": "84c05820-cccf-43e5-bcd8-5522c36da18c",
   "metadata": {},
   "source": [
    "## CV Score"
   ]
  },
  {
   "cell_type": "code",
   "execution_count": 12,
   "id": "af45470a-edd2-4c8a-a758-34be24947e7f",
   "metadata": {},
   "outputs": [
    {
     "data": {
      "text/plain": [
       "['../tb_logs/Baseline/version_8/checkpoints/epoch=03-loss=0.0000-val_loss=3.0207-val_metric=0.6094.ckpt',\n",
       " '../tb_logs/Baseline/version_9/checkpoints/epoch=02-loss=0.0000-val_loss=3.0405-val_metric=0.6174.ckpt',\n",
       " '../tb_logs/Baseline/version_10/checkpoints/epoch=03-loss=0.0000-val_loss=3.0848-val_metric=0.6049.ckpt',\n",
       " '../tb_logs/Baseline/version_11/checkpoints/epoch=01-loss=0.0000-val_loss=2.9501-val_metric=0.6045.ckpt',\n",
       " '../tb_logs/Baseline/version_12/checkpoints/epoch=02-loss=0.0000-val_loss=3.0309-val_metric=0.6078.ckpt']"
      ]
     },
     "execution_count": 12,
     "metadata": {},
     "output_type": "execute_result"
    }
   ],
   "source": [
    "best_checkpoints"
   ]
  },
  {
   "cell_type": "code",
   "execution_count": 13,
   "id": "ee8c8a78-aa79-446d-99a9-c325d09a035a",
   "metadata": {},
   "outputs": [],
   "source": [
    "def calc_average_loss(ckeckpoints):\n",
    "    metrics = []\n",
    "    for ckpt in ckeckpoints:\n",
    "        metric = float(re.findall(r\"val_metric=(\\d+\\.\\d+)\", ckpt)[0])\n",
    "        metrics.append(metric)\n",
    "        \n",
    "    return np.mean(metrics)"
   ]
  },
  {
   "cell_type": "code",
   "execution_count": 14,
   "id": "c6e9d830-01e2-4f62-a6bb-39b360fa7127",
   "metadata": {},
   "outputs": [
    {
     "name": "stdout",
     "output_type": "stream",
     "text": [
      "Average Validation Loss: 0.6088\n"
     ]
    }
   ],
   "source": [
    "avg_valid_loss = calc_average_loss(best_checkpoints)\n",
    "print(\"Average Validation Loss:\", avg_valid_loss)"
   ]
  },
  {
   "cell_type": "code",
   "execution_count": null,
   "id": "168c5083-5845-48b5-a3c9-526b0c215757",
   "metadata": {},
   "outputs": [],
   "source": []
  }
 ],
 "metadata": {
  "kernelspec": {
   "display_name": "Python 3",
   "language": "python",
   "name": "python3"
  },
  "language_info": {
   "codemirror_mode": {
    "name": "ipython",
    "version": 3
   },
   "file_extension": ".py",
   "mimetype": "text/x-python",
   "name": "python",
   "nbconvert_exporter": "python",
   "pygments_lexer": "ipython3",
   "version": "3.8.7"
  }
 },
 "nbformat": 4,
 "nbformat_minor": 5
}
