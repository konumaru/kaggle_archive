{
 "cells": [
  {
   "cell_type": "code",
   "execution_count": 1,
   "id": "58f3dfaf",
   "metadata": {
    "execution": {
     "iopub.execute_input": "2023-03-07T03:45:05.371961Z",
     "iopub.status.busy": "2023-03-07T03:45:05.371561Z",
     "iopub.status.idle": "2023-03-07T03:45:05.381277Z",
     "shell.execute_reply": "2023-03-07T03:45:05.379826Z"
    },
    "papermill": {
     "duration": 0.018792,
     "end_time": "2023-03-07T03:45:05.383473",
     "exception": false,
     "start_time": "2023-03-07T03:45:05.364681",
     "status": "completed"
    },
    "tags": []
   },
   "outputs": [],
   "source": [
    "import os\n",
    "import pathlib\n",
    "from datetime import datetime\n",
    "from dateutil import relativedelta\n",
    "\n",
    "import numpy as np\n",
    "import pandas as pd"
   ]
  },
  {
   "cell_type": "code",
   "execution_count": 2,
   "id": "21aca560",
   "metadata": {
    "execution": {
     "iopub.execute_input": "2023-03-07T03:45:05.393296Z",
     "iopub.status.busy": "2023-03-07T03:45:05.392909Z",
     "iopub.status.idle": "2023-03-07T03:45:05.758091Z",
     "shell.execute_reply": "2023-03-07T03:45:05.756701Z"
    },
    "papermill": {
     "duration": 0.372869,
     "end_time": "2023-03-07T03:45:05.760612",
     "exception": false,
     "start_time": "2023-03-07T03:45:05.387743",
     "status": "completed"
    },
    "tags": []
   },
   "outputs": [],
   "source": [
    "input_dir = pathlib.Path(\"../input/godaddy-microbusiness-density-forecasting/\")\n",
    "\n",
    "train = pd.read_csv(input_dir / \"train.csv\")\n",
    "census = pd.read_csv(input_dir / \"census_starter.csv\")\n",
    "revealed_test = pd.read_csv(input_dir / \"revealed_test.csv\")\n",
    "test = pd.read_csv(input_dir / \"test.csv\")\n",
    "sample_submission = pd.read_csv(input_dir / \"sample_submission.csv\")"
   ]
  },
  {
   "cell_type": "code",
   "execution_count": 3,
   "id": "c3978c64",
   "metadata": {
    "execution": {
     "iopub.execute_input": "2023-03-07T03:45:05.770567Z",
     "iopub.status.busy": "2023-03-07T03:45:05.769918Z",
     "iopub.status.idle": "2023-03-07T03:45:05.913276Z",
     "shell.execute_reply": "2023-03-07T03:45:05.912095Z"
    },
    "papermill": {
     "duration": 0.15092,
     "end_time": "2023-03-07T03:45:05.915649",
     "exception": false,
     "start_time": "2023-03-07T03:45:05.764729",
     "status": "completed"
    },
    "tags": []
   },
   "outputs": [
    {
     "name": "stdout",
     "output_type": "stream",
     "text": [
      "2022-11-01 ~ 2023-06-01\n",
      "7ヶ月\n"
     ]
    }
   ],
   "source": [
    "def diff_month(start_date, end_date):\n",
    "    s = datetime.strptime(start_date, \"%Y-%m-%d\")\n",
    "    e = datetime.strptime(end_date, \"%Y-%m-%d\")\n",
    "    \n",
    "    diff = relativedelta.relativedelta(e, s)\n",
    "    return diff.months\n",
    "    \n",
    "    \n",
    "\n",
    "# NOTE: Testデータに含まれるデータは11ヶ月分\n",
    "sample_date = sample_submission[\"row_id\"].str.split('_').str[1]\n",
    "print(sample_date.iloc[0], \"~\", sample_date.iloc[-1])\n",
    "print(str(diff_month(sample_date.iloc[0], sample_date.iloc[-1])) + \"ヶ月\")"
   ]
  },
  {
   "cell_type": "code",
   "execution_count": 4,
   "id": "6df5c621",
   "metadata": {
    "execution": {
     "iopub.execute_input": "2023-03-07T03:45:05.925302Z",
     "iopub.status.busy": "2023-03-07T03:45:05.924999Z",
     "iopub.status.idle": "2023-03-07T03:45:06.050371Z",
     "shell.execute_reply": "2023-03-07T03:45:06.049139Z"
    },
    "papermill": {
     "duration": 0.13267,
     "end_time": "2023-03-07T03:45:06.052448",
     "exception": false,
     "start_time": "2023-03-07T03:45:05.919778",
     "status": "completed"
    },
    "tags": []
   },
   "outputs": [
    {
     "data": {
      "text/html": [
       "<div>\n",
       "<style scoped>\n",
       "    .dataframe tbody tr th:only-of-type {\n",
       "        vertical-align: middle;\n",
       "    }\n",
       "\n",
       "    .dataframe tbody tr th {\n",
       "        vertical-align: top;\n",
       "    }\n",
       "\n",
       "    .dataframe thead th {\n",
       "        text-align: right;\n",
       "    }\n",
       "</style>\n",
       "<table border=\"1\" class=\"dataframe\">\n",
       "  <thead>\n",
       "    <tr style=\"text-align: right;\">\n",
       "      <th></th>\n",
       "      <th>row_id</th>\n",
       "      <th>cfips</th>\n",
       "      <th>county</th>\n",
       "      <th>state</th>\n",
       "      <th>first_day_of_month</th>\n",
       "      <th>microbusiness_density</th>\n",
       "      <th>active</th>\n",
       "    </tr>\n",
       "  </thead>\n",
       "  <tbody>\n",
       "    <tr>\n",
       "      <th>128530</th>\n",
       "      <td>56045_2022-08-01</td>\n",
       "      <td>56045</td>\n",
       "      <td>Weston County</td>\n",
       "      <td>Wyoming</td>\n",
       "      <td>2022-08-01</td>\n",
       "      <td>1.785395</td>\n",
       "      <td>100</td>\n",
       "    </tr>\n",
       "    <tr>\n",
       "      <th>128531</th>\n",
       "      <td>56045_2022-09-01</td>\n",
       "      <td>56045</td>\n",
       "      <td>Weston County</td>\n",
       "      <td>Wyoming</td>\n",
       "      <td>2022-09-01</td>\n",
       "      <td>1.785395</td>\n",
       "      <td>100</td>\n",
       "    </tr>\n",
       "    <tr>\n",
       "      <th>128532</th>\n",
       "      <td>56045_2022-10-01</td>\n",
       "      <td>56045</td>\n",
       "      <td>Weston County</td>\n",
       "      <td>Wyoming</td>\n",
       "      <td>2022-10-01</td>\n",
       "      <td>1.785395</td>\n",
       "      <td>100</td>\n",
       "    </tr>\n",
       "    <tr>\n",
       "      <th>128533</th>\n",
       "      <td>56045_2022-11-01</td>\n",
       "      <td>56045</td>\n",
       "      <td>Weston County</td>\n",
       "      <td>Wyoming</td>\n",
       "      <td>2022-11-01</td>\n",
       "      <td>1.785395</td>\n",
       "      <td>100</td>\n",
       "    </tr>\n",
       "    <tr>\n",
       "      <th>128534</th>\n",
       "      <td>56045_2022-12-01</td>\n",
       "      <td>56045</td>\n",
       "      <td>Weston County</td>\n",
       "      <td>Wyoming</td>\n",
       "      <td>2022-12-01</td>\n",
       "      <td>1.803249</td>\n",
       "      <td>101</td>\n",
       "    </tr>\n",
       "  </tbody>\n",
       "</table>\n",
       "</div>"
      ],
      "text/plain": [
       "                  row_id  cfips         county    state first_day_of_month  \\\n",
       "128530  56045_2022-08-01  56045  Weston County  Wyoming         2022-08-01   \n",
       "128531  56045_2022-09-01  56045  Weston County  Wyoming         2022-09-01   \n",
       "128532  56045_2022-10-01  56045  Weston County  Wyoming         2022-10-01   \n",
       "128533  56045_2022-11-01  56045  Weston County  Wyoming         2022-11-01   \n",
       "128534  56045_2022-12-01  56045  Weston County  Wyoming         2022-12-01   \n",
       "\n",
       "        microbusiness_density  active  \n",
       "128530               1.785395     100  \n",
       "128531               1.785395     100  \n",
       "128532               1.785395     100  \n",
       "128533               1.785395     100  \n",
       "128534               1.803249     101  "
      ]
     },
     "execution_count": 4,
     "metadata": {},
     "output_type": "execute_result"
    }
   ],
   "source": [
    "raw = pd.concat([train, revealed_test]).sort_values(by=['cfips','first_day_of_month']).reset_index(drop=True)\n",
    "raw[\"first_day_of_month\"] = pd.to_datetime(raw[\"first_day_of_month\"], format=\"%Y-%m-%d\")\n",
    "\n",
    "raw.tail()"
   ]
  },
  {
   "cell_type": "markdown",
   "id": "38c24fab",
   "metadata": {
    "papermill": {
     "duration": 0.003798,
     "end_time": "2023-03-07T03:45:06.060550",
     "exception": false,
     "start_time": "2023-03-07T03:45:06.056752",
     "status": "completed"
    },
    "tags": []
   },
   "source": [
    "## Split Data"
   ]
  },
  {
   "cell_type": "code",
   "execution_count": 5,
   "id": "b7f34f87",
   "metadata": {
    "execution": {
     "iopub.execute_input": "2023-03-07T03:45:06.070091Z",
     "iopub.status.busy": "2023-03-07T03:45:06.069622Z",
     "iopub.status.idle": "2023-03-07T03:45:06.089322Z",
     "shell.execute_reply": "2023-03-07T03:45:06.088046Z"
    },
    "papermill": {
     "duration": 0.027516,
     "end_time": "2023-03-07T03:45:06.091890",
     "exception": false,
     "start_time": "2023-03-07T03:45:06.064374",
     "status": "completed"
    },
    "tags": []
   },
   "outputs": [],
   "source": [
    "base_date = \"2022-06-01\"\n",
    "\n",
    "train = raw.loc[raw[\"first_day_of_month\"] < base_date, :]\n",
    "valid = raw.loc[raw[\"first_day_of_month\"] >= base_date, :]"
   ]
  },
  {
   "cell_type": "markdown",
   "id": "b6ed56fe",
   "metadata": {
    "papermill": {
     "duration": 0.003778,
     "end_time": "2023-03-07T03:45:06.100014",
     "exception": false,
     "start_time": "2023-03-07T03:45:06.096236",
     "status": "completed"
    },
    "tags": []
   },
   "source": [
    "## Feature"
   ]
  },
  {
   "cell_type": "markdown",
   "id": "74199c47",
   "metadata": {
    "papermill": {
     "duration": 0.004331,
     "end_time": "2023-03-07T03:45:06.108121",
     "exception": false,
     "start_time": "2023-03-07T03:45:06.103790",
     "status": "completed"
    },
    "tags": []
   },
   "source": [
    "## Train"
   ]
  },
  {
   "cell_type": "code",
   "execution_count": 6,
   "id": "4841c039",
   "metadata": {
    "execution": {
     "iopub.execute_input": "2023-03-07T03:45:06.118769Z",
     "iopub.status.busy": "2023-03-07T03:45:06.118429Z",
     "iopub.status.idle": "2023-03-07T03:45:06.130705Z",
     "shell.execute_reply": "2023-03-07T03:45:06.129720Z"
    },
    "papermill": {
     "duration": 0.020137,
     "end_time": "2023-03-07T03:45:06.132930",
     "exception": false,
     "start_time": "2023-03-07T03:45:06.112793",
     "status": "completed"
    },
    "tags": []
   },
   "outputs": [],
   "source": [
    "cfips_lastTarget = train.groupby(\"cfips\")[\"microbusiness_density\"].last().to_dict()"
   ]
  },
  {
   "cell_type": "code",
   "execution_count": 7,
   "id": "48ef2cb9",
   "metadata": {
    "execution": {
     "iopub.execute_input": "2023-03-07T03:45:06.142749Z",
     "iopub.status.busy": "2023-03-07T03:45:06.142419Z",
     "iopub.status.idle": "2023-03-07T03:45:06.152317Z",
     "shell.execute_reply": "2023-03-07T03:45:06.151195Z"
    },
    "papermill": {
     "duration": 0.017969,
     "end_time": "2023-03-07T03:45:06.155060",
     "exception": false,
     "start_time": "2023-03-07T03:45:06.137091",
     "status": "completed"
    },
    "tags": []
   },
   "outputs": [],
   "source": [
    "valid = valid.assign(predict=valid[\"cfips\"].map(cfips_lastTarget))"
   ]
  },
  {
   "cell_type": "markdown",
   "id": "5caaebfa",
   "metadata": {
    "papermill": {
     "duration": 0.004638,
     "end_time": "2023-03-07T03:45:06.164207",
     "exception": false,
     "start_time": "2023-03-07T03:45:06.159569",
     "status": "completed"
    },
    "tags": []
   },
   "source": [
    "## Evaluation"
   ]
  },
  {
   "cell_type": "code",
   "execution_count": 8,
   "id": "cbc85cd1",
   "metadata": {
    "execution": {
     "iopub.execute_input": "2023-03-07T03:45:06.173882Z",
     "iopub.status.busy": "2023-03-07T03:45:06.173531Z",
     "iopub.status.idle": "2023-03-07T03:45:06.179576Z",
     "shell.execute_reply": "2023-03-07T03:45:06.178930Z"
    },
    "papermill": {
     "duration": 0.01306,
     "end_time": "2023-03-07T03:45:06.181285",
     "exception": false,
     "start_time": "2023-03-07T03:45:06.168225",
     "status": "completed"
    },
    "tags": []
   },
   "outputs": [],
   "source": [
    "def smape(y_true, y_pred):\n",
    "    smap = np.zeros(len(y_true))\n",
    "    \n",
    "    num = np.abs(y_true - y_pred)\n",
    "    dem = ((np.abs(y_true) + np.abs(y_pred)) / 2)\n",
    "    \n",
    "    pos_ind = (y_true!=0)|(y_pred!=0)\n",
    "    smap[pos_ind] = num[pos_ind] / dem[pos_ind]\n",
    "    \n",
    "    return 100 * np.mean(smap)\n",
    "\n",
    "def vsmape(y_true, y_pred):\n",
    "    smap = np.zeros(len(y_true))\n",
    "    \n",
    "    num = np.abs(y_true - y_pred)\n",
    "    dem = ((np.abs(y_true) + np.abs(y_pred)) / 2)\n",
    "    \n",
    "    pos_ind = (y_true!=0)|(y_pred!=0)\n",
    "    smap[pos_ind] = num[pos_ind] / dem[pos_ind]\n",
    "    \n",
    "    return 100 * smap"
   ]
  },
  {
   "cell_type": "code",
   "execution_count": 9,
   "id": "2849b877",
   "metadata": {
    "execution": {
     "iopub.execute_input": "2023-03-07T03:45:06.191001Z",
     "iopub.status.busy": "2023-03-07T03:45:06.190726Z",
     "iopub.status.idle": "2023-03-07T03:45:06.198690Z",
     "shell.execute_reply": "2023-03-07T03:45:06.197550Z"
    },
    "papermill": {
     "duration": 0.015223,
     "end_time": "2023-03-07T03:45:06.200682",
     "exception": false,
     "start_time": "2023-03-07T03:45:06.185459",
     "status": "completed"
    },
    "tags": []
   },
   "outputs": [
    {
     "data": {
      "text/plain": [
       "3.8283454743276013"
      ]
     },
     "execution_count": 9,
     "metadata": {},
     "output_type": "execute_result"
    }
   ],
   "source": [
    "smape(valid[\"microbusiness_density\"].to_numpy(), valid[\"predict\"].to_numpy())"
   ]
  },
  {
   "cell_type": "markdown",
   "id": "7d15139b",
   "metadata": {
    "papermill": {
     "duration": 0.003909,
     "end_time": "2023-03-07T03:45:06.208946",
     "exception": false,
     "start_time": "2023-03-07T03:45:06.205037",
     "status": "completed"
    },
    "tags": []
   },
   "source": [
    "## Submission"
   ]
  },
  {
   "cell_type": "code",
   "execution_count": 10,
   "id": "8db96e1f",
   "metadata": {
    "execution": {
     "iopub.execute_input": "2023-03-07T03:45:06.219251Z",
     "iopub.status.busy": "2023-03-07T03:45:06.218916Z",
     "iopub.status.idle": "2023-03-07T03:45:06.232166Z",
     "shell.execute_reply": "2023-03-07T03:45:06.230894Z"
    },
    "papermill": {
     "duration": 0.021699,
     "end_time": "2023-03-07T03:45:06.234788",
     "exception": false,
     "start_time": "2023-03-07T03:45:06.213089",
     "status": "completed"
    },
    "tags": []
   },
   "outputs": [],
   "source": [
    "cfips_lastTarget = raw.groupby(\"cfips\")[\"microbusiness_density\"].last().to_dict()\n",
    "test[\"microbusiness_density\"] = test[\"cfips\"].map(cfips_lastTarget)"
   ]
  },
  {
   "cell_type": "code",
   "execution_count": 11,
   "id": "c6cdc37d",
   "metadata": {
    "execution": {
     "iopub.execute_input": "2023-03-07T03:45:06.245289Z",
     "iopub.status.busy": "2023-03-07T03:45:06.244966Z",
     "iopub.status.idle": "2023-03-07T03:45:06.256076Z",
     "shell.execute_reply": "2023-03-07T03:45:06.254759Z"
    },
    "papermill": {
     "duration": 0.019149,
     "end_time": "2023-03-07T03:45:06.258383",
     "exception": false,
     "start_time": "2023-03-07T03:45:06.239234",
     "status": "completed"
    },
    "tags": []
   },
   "outputs": [
    {
     "data": {
      "text/html": [
       "<div>\n",
       "<style scoped>\n",
       "    .dataframe tbody tr th:only-of-type {\n",
       "        vertical-align: middle;\n",
       "    }\n",
       "\n",
       "    .dataframe tbody tr th {\n",
       "        vertical-align: top;\n",
       "    }\n",
       "\n",
       "    .dataframe thead th {\n",
       "        text-align: right;\n",
       "    }\n",
       "</style>\n",
       "<table border=\"1\" class=\"dataframe\">\n",
       "  <thead>\n",
       "    <tr style=\"text-align: right;\">\n",
       "      <th></th>\n",
       "      <th>row_id</th>\n",
       "      <th>cfips</th>\n",
       "      <th>first_day_of_month</th>\n",
       "      <th>microbusiness_density</th>\n",
       "    </tr>\n",
       "  </thead>\n",
       "  <tbody>\n",
       "    <tr>\n",
       "      <th>0</th>\n",
       "      <td>1001_2022-11-01</td>\n",
       "      <td>1001</td>\n",
       "      <td>2022-11-01</td>\n",
       "      <td>3.470915</td>\n",
       "    </tr>\n",
       "    <tr>\n",
       "      <th>1</th>\n",
       "      <td>1003_2022-11-01</td>\n",
       "      <td>1003</td>\n",
       "      <td>2022-11-01</td>\n",
       "      <td>8.250630</td>\n",
       "    </tr>\n",
       "    <tr>\n",
       "      <th>2</th>\n",
       "      <td>1005_2022-11-01</td>\n",
       "      <td>1005</td>\n",
       "      <td>2022-11-01</td>\n",
       "      <td>1.252272</td>\n",
       "    </tr>\n",
       "    <tr>\n",
       "      <th>3</th>\n",
       "      <td>1007_2022-11-01</td>\n",
       "      <td>1007</td>\n",
       "      <td>2022-11-01</td>\n",
       "      <td>1.287240</td>\n",
       "    </tr>\n",
       "    <tr>\n",
       "      <th>4</th>\n",
       "      <td>1009_2022-11-01</td>\n",
       "      <td>1009</td>\n",
       "      <td>2022-11-01</td>\n",
       "      <td>1.852060</td>\n",
       "    </tr>\n",
       "  </tbody>\n",
       "</table>\n",
       "</div>"
      ],
      "text/plain": [
       "            row_id  cfips first_day_of_month  microbusiness_density\n",
       "0  1001_2022-11-01   1001         2022-11-01               3.470915\n",
       "1  1003_2022-11-01   1003         2022-11-01               8.250630\n",
       "2  1005_2022-11-01   1005         2022-11-01               1.252272\n",
       "3  1007_2022-11-01   1007         2022-11-01               1.287240\n",
       "4  1009_2022-11-01   1009         2022-11-01               1.852060"
      ]
     },
     "execution_count": 11,
     "metadata": {},
     "output_type": "execute_result"
    }
   ],
   "source": [
    "test.head()"
   ]
  },
  {
   "cell_type": "code",
   "execution_count": 12,
   "id": "e47e619a",
   "metadata": {
    "execution": {
     "iopub.execute_input": "2023-03-07T03:45:06.268917Z",
     "iopub.status.busy": "2023-03-07T03:45:06.268206Z",
     "iopub.status.idle": "2023-03-07T03:45:06.320291Z",
     "shell.execute_reply": "2023-03-07T03:45:06.318933Z"
    },
    "papermill": {
     "duration": 0.059998,
     "end_time": "2023-03-07T03:45:06.322726",
     "exception": false,
     "start_time": "2023-03-07T03:45:06.262728",
     "status": "completed"
    },
    "tags": []
   },
   "outputs": [],
   "source": [
    "test[[\"row_id\", \"microbusiness_density\"]].to_csv(\"submission.csv\", index=False)"
   ]
  },
  {
   "cell_type": "code",
   "execution_count": 13,
   "id": "568d87ae",
   "metadata": {
    "execution": {
     "iopub.execute_input": "2023-03-07T03:45:06.333205Z",
     "iopub.status.busy": "2023-03-07T03:45:06.332908Z",
     "iopub.status.idle": "2023-03-07T03:45:06.627205Z",
     "shell.execute_reply": "2023-03-07T03:45:06.625600Z"
    },
    "papermill": {
     "duration": 0.301964,
     "end_time": "2023-03-07T03:45:06.629291",
     "exception": false,
     "start_time": "2023-03-07T03:45:06.327327",
     "status": "completed"
    },
    "tags": []
   },
   "outputs": [
    {
     "name": "stdout",
     "output_type": "stream",
     "text": [
      "row_id,microbusiness_density\r\n",
      "1001_2022-11-01,3.4709148\r\n",
      "1003_2022-11-01,8.2506304\r\n",
      "1005_2022-11-01,1.2522722\r\n",
      "1007_2022-11-01,1.28724\r\n",
      "1009_2022-11-01,1.8520604\r\n",
      "1011_2022-11-01,1.0260957\r\n",
      "1013_2022-11-01,2.1990211\r\n",
      "1015_2022-11-01,2.7915807\r\n",
      "1017_2022-11-01,1.472754\r\n"
     ]
    }
   ],
   "source": [
    "!head submission.csv"
   ]
  }
 ],
 "metadata": {
  "kernelspec": {
   "display_name": "Python 3",
   "language": "python",
   "name": "python3"
  },
  "language_info": {
   "codemirror_mode": {
    "name": "ipython",
    "version": 3
   },
   "file_extension": ".py",
   "mimetype": "text/x-python",
   "name": "python",
   "nbconvert_exporter": "python",
   "pygments_lexer": "ipython3",
   "version": "3.7.12"
  },
  "papermill": {
   "default_parameters": {},
   "duration": 10.875824,
   "end_time": "2023-03-07T03:45:07.254360",
   "environment_variables": {},
   "exception": null,
   "input_path": "__notebook__.ipynb",
   "output_path": "__notebook__.ipynb",
   "parameters": {},
   "start_time": "2023-03-07T03:44:56.378536",
   "version": "2.4.0"
  }
 },
 "nbformat": 4,
 "nbformat_minor": 5
}
