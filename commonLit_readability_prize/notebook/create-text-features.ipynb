{
 "cells": [
  {
   "cell_type": "code",
   "execution_count": 1,
   "id": "joint-banks",
   "metadata": {
    "_cell_guid": "b1076dfc-b9ad-4769-8c92-a6c4dae69d19",
    "_uuid": "8f2839f25d086af736a60e9eeb907d3b93b6e0e5",
    "execution": {
     "iopub.execute_input": "2021-07-06T18:19:58.932601Z",
     "iopub.status.busy": "2021-07-06T18:19:58.931366Z",
     "iopub.status.idle": "2021-07-06T18:19:58.959192Z",
     "shell.execute_reply": "2021-07-06T18:19:58.958551Z",
     "shell.execute_reply.started": "2021-07-06T18:17:07.618307Z"
    },
    "papermill": {
     "duration": 0.042026,
     "end_time": "2021-07-06T18:19:58.959331",
     "exception": false,
     "start_time": "2021-07-06T18:19:58.917305",
     "status": "completed"
    },
    "tags": []
   },
   "outputs": [
    {
     "name": "stdout",
     "output_type": "stream",
     "text": [
      "/kaggle/input/commonlitreadabilityprize/sample_submission.csv\n",
      "/kaggle/input/commonlitreadabilityprize/train.csv\n",
      "/kaggle/input/commonlitreadabilityprize/test.csv\n",
      "/kaggle/input/readabilitypackage/readability-package/LICENSE.txt\n",
      "/kaggle/input/readabilitypackage/readability-package/setup.py\n",
      "/kaggle/input/readabilitypackage/readability-package/readability/langdata.py\n",
      "/kaggle/input/readabilitypackage/readability-package/readability/__init__.py\n",
      "/kaggle/input/readabilitypackage/readability-package/bin/readability\n"
     ]
    }
   ],
   "source": [
    "# This Python 3 environment comes with many helpful analytics libraries installed\n",
    "# It is defined by the kaggle/python Docker image: https://github.com/kaggle/docker-python\n",
    "# For example, here's several helpful packages to load\n",
    "\n",
    "import numpy as np # linear algebra\n",
    "import pandas as pd # data processing, CSV file I/O (e.g. pd.read_csv)\n",
    "\n",
    "# Input data files are available in the read-only \"../input/\" directory\n",
    "# For example, running this (by clicking run or pressing Shift+Enter) will list all files under the input directory\n",
    "\n",
    "import os\n",
    "for dirname, _, filenames in os.walk('/kaggle/input'):\n",
    "    for filename in filenames:\n",
    "        print(os.path.join(dirname, filename))\n",
    "\n",
    "# You can write up to 20GB to the current directory (/kaggle/working/) that gets preserved as output when you create a version using \"Save & Run All\" \n",
    "# You can also write temporary files to /kaggle/temp/, but they won't be saved outside of the current session"
   ]
  },
  {
   "cell_type": "code",
   "execution_count": 2,
   "id": "monetary-protocol",
   "metadata": {
    "execution": {
     "iopub.execute_input": "2021-07-06T18:19:58.985821Z",
     "iopub.status.busy": "2021-07-06T18:19:58.985288Z",
     "iopub.status.idle": "2021-07-06T18:20:00.010980Z",
     "shell.execute_reply": "2021-07-06T18:20:00.009892Z",
     "shell.execute_reply.started": "2021-07-06T18:17:07.652674Z"
    },
    "papermill": {
     "duration": 1.040855,
     "end_time": "2021-07-06T18:20:00.011225",
     "exception": false,
     "start_time": "2021-07-06T18:19:58.970370",
     "status": "completed"
    },
    "tags": []
   },
   "outputs": [],
   "source": [
    "import pandas as pd\n",
    "import numpy as np\n",
    "import os\n",
    "import random\n",
    "\n",
    "import matplotlib.pyplot as plt\n",
    "import seaborn as sns\n",
    "\n",
    "# import nltk\n",
    "# from nltk.corpus import stopwords \n",
    "# from nltk.tokenize import word_tokenize \n",
    "# from nltk import pos_tag, pos_tag_sents\n",
    "# import string\n",
    "\n",
    "#!pip install readability\n",
    "# import sys\n",
    "# sys.path.append(\"../input/readabilitypackage/readability-package\")\n",
    "# import readability\n",
    "# import spacy\n",
    "\n",
    "import warnings\n",
    "warnings.filterwarnings('ignore')"
   ]
  },
  {
   "cell_type": "markdown",
   "id": "unknown-agenda",
   "metadata": {
    "papermill": {
     "duration": 0.010339,
     "end_time": "2021-07-06T18:20:00.032235",
     "exception": false,
     "start_time": "2021-07-06T18:20:00.021896",
     "status": "completed"
    },
    "tags": []
   },
   "source": [
    "## Define feature functions"
   ]
  },
  {
   "cell_type": "code",
   "execution_count": 3,
   "id": "widespread-retrieval",
   "metadata": {
    "execution": {
     "iopub.execute_input": "2021-07-06T18:20:00.059109Z",
     "iopub.status.busy": "2021-07-06T18:20:00.058569Z",
     "iopub.status.idle": "2021-07-06T18:20:00.061660Z",
     "shell.execute_reply": "2021-07-06T18:20:00.061183Z",
     "shell.execute_reply.started": "2021-07-06T18:17:08.486048Z"
    },
    "papermill": {
     "duration": 0.018915,
     "end_time": "2021-07-06T18:20:00.061797",
     "exception": false,
     "start_time": "2021-07-06T18:20:00.042882",
     "status": "completed"
    },
    "tags": []
   },
   "outputs": [],
   "source": [
    "import sys\n",
    "sys.path.append(\"../input/readabilitypackage/readability-package\")"
   ]
  },
  {
   "cell_type": "code",
   "execution_count": 4,
   "id": "assumed-september",
   "metadata": {
    "execution": {
     "iopub.execute_input": "2021-07-06T18:20:00.086881Z",
     "iopub.status.busy": "2021-07-06T18:20:00.086301Z",
     "iopub.status.idle": "2021-07-06T18:20:00.093691Z",
     "shell.execute_reply": "2021-07-06T18:20:00.094114Z",
     "shell.execute_reply.started": "2021-07-06T18:17:08.491496Z"
    },
    "papermill": {
     "duration": 0.021551,
     "end_time": "2021-07-06T18:20:00.094280",
     "exception": false,
     "start_time": "2021-07-06T18:20:00.072729",
     "status": "completed"
    },
    "tags": []
   },
   "outputs": [
    {
     "name": "stdout",
     "output_type": "stream",
     "text": [
      "Writing textfeat.py\n"
     ]
    }
   ],
   "source": [
    "%%writefile textfeat.py\n",
    "\n",
    "import nltk\n",
    "from nltk.corpus import stopwords \n",
    "from nltk.tokenize import word_tokenize \n",
    "from nltk import pos_tag, pos_tag_sents\n",
    "import string\n",
    "\n",
    "import readability\n",
    "import spacy\n",
    "\n",
    "import numpy as np\n",
    "import pandas as pd\n",
    "\n",
    "\n",
    "def readability_measurements(passage: str):\n",
    "    \"\"\"\n",
    "    This function uses the readability library for feature engineering.\n",
    "    It includes textual statistics, readability scales and metric, and some pos stats\n",
    "    \"\"\"\n",
    "    results = readability.getmeasures(passage, lang='en')\n",
    "    \n",
    "    chars_per_word = results['sentence info']['characters_per_word']\n",
    "    syll_per_word = results['sentence info']['syll_per_word']\n",
    "    words_per_sent = results['sentence info']['words_per_sentence']\n",
    "    \n",
    "    kincaid = results['readability grades']['Kincaid']\n",
    "    ari = results['readability grades']['ARI']\n",
    "    coleman_liau = results['readability grades']['Coleman-Liau']\n",
    "    flesch = results['readability grades']['FleschReadingEase']\n",
    "    gunning_fog = results['readability grades']['GunningFogIndex']\n",
    "    lix = results['readability grades']['LIX']\n",
    "    smog = results['readability grades']['SMOGIndex']\n",
    "    rix = results['readability grades']['RIX']\n",
    "    dale_chall = results['readability grades']['DaleChallIndex']\n",
    "    \n",
    "    tobeverb = results['word usage']['tobeverb']\n",
    "    auxverb = results['word usage']['auxverb']\n",
    "    conjunction = results['word usage']['conjunction']\n",
    "    pronoun = results['word usage']['pronoun']\n",
    "    preposition = results['word usage']['preposition']\n",
    "    nominalization = results['word usage']['nominalization']\n",
    "    \n",
    "    pronoun_b = results['sentence beginnings']['pronoun']\n",
    "    interrogative = results['sentence beginnings']['interrogative']\n",
    "    article = results['sentence beginnings']['article']\n",
    "    subordination = results['sentence beginnings']['subordination']\n",
    "    conjunction_b = results['sentence beginnings']['conjunction']\n",
    "    preposition_b = results['sentence beginnings']['preposition']\n",
    "\n",
    "    \n",
    "    return [chars_per_word, syll_per_word, words_per_sent,\n",
    "            kincaid, ari, coleman_liau, flesch, gunning_fog, lix, smog, rix, dale_chall,\n",
    "            tobeverb, auxverb, conjunction, pronoun, preposition, nominalization,\n",
    "            pronoun_b, interrogative, article, subordination, conjunction_b, preposition_b]\n",
    "\n",
    "\n",
    "def spacy_features(df: pd.DataFrame):\n",
    "    \"\"\"\n",
    "    This function generates features using spacy en_core_wb_lg\n",
    "    I learned about this from these resources:\n",
    "    https://www.kaggle.com/konradb/linear-baseline-with-cv\n",
    "    https://www.kaggle.com/anaverageengineer/comlrp-baseline-for-complete-beginners\n",
    "    \"\"\"\n",
    "    \n",
    "    nlp = spacy.load('en_core_web_lg')\n",
    "    with nlp.disable_pipes():\n",
    "        vectors = np.array([nlp(text).vector for text in df.excerpt])\n",
    "        \n",
    "    return vectors\n",
    "\n",
    "\n",
    "def get_spacy_col_names():\n",
    "    names = list()\n",
    "    for i in range(300):\n",
    "        names.append(f\"spacy_{i}\")\n",
    "        \n",
    "    return names\n",
    "\n",
    "\n",
    "def pos_tag_features(passage: str):\n",
    "    \"\"\"\n",
    "    This function counts the number of times different parts of speech occur in an excerpt\n",
    "    \"\"\"\n",
    "    pos_tags = [\"CC\", \"CD\", \"DT\", \"EX\", \"FW\", \"IN\", \"JJ\", \"JJR\", \"JJS\", \"LS\", \"MD\", \n",
    "                \"NN\", \"NNS\", \"NNP\", \"NNPS\", \"PDT\", \"POS\", \"PRP\", \"RB\", \"RBR\", \"RBS\", \"RP\", \"TO\", \"UH\",\n",
    "                \"VB\", \"VBD\", \"VBG\", \"VBZ\", \"WDT\", \"WP\", \"WRB\"]\n",
    "    \n",
    "    tags = pos_tag(word_tokenize(passage))\n",
    "    tag_list= list()\n",
    "    \n",
    "    for tag in pos_tags:\n",
    "        tag_list.append(len([i[0] for i in tags if i[1] == tag]))\n",
    "    \n",
    "    return tag_list\n",
    "\n",
    "\n",
    "def generate_other_features(passage: str):\n",
    "    \"\"\"\n",
    "    This function is where I test miscellaneous features\n",
    "    This is experimental\n",
    "    \"\"\"\n",
    "    # punctuation count\n",
    "    periods = passage.count(\".\")\n",
    "    commas = passage.count(\",\")\n",
    "    semis = passage.count(\";\")\n",
    "    exclaims = passage.count(\"!\")\n",
    "    questions = passage.count(\"?\")\n",
    "    \n",
    "    # Some other stats\n",
    "    num_char = len(passage)\n",
    "    num_words = len(passage.split(\" \"))\n",
    "    unique_words = len(set(passage.split(\" \") ))\n",
    "    word_diversity = unique_words/num_words\n",
    "    \n",
    "    word_len = [len(w) for w in passage.split(\" \")]\n",
    "    longest_word = np.max(word_len)\n",
    "    avg_len_word = np.mean(word_len)\n",
    "    \n",
    "    return [periods, commas, semis, exclaims, questions,\n",
    "            num_char, num_words, unique_words, word_diversity,\n",
    "            longest_word, avg_len_word]\n",
    "\n",
    "\n",
    "def create_text_feat(df: pd.DataFrame):\n",
    "    scores_df = pd.DataFrame(\n",
    "        df[\"excerpt\"].apply(lambda p : readability_measurements(p)).tolist(), \n",
    "        columns=[\n",
    "            \"chars_per_word\", \"syll_per_word\", \"words_per_sent\",\n",
    "            \"kincaid\", \"ari\", \"coleman_liau\", \"flesch\", \"gunning_fog\", \"lix\", \"smog\", \"rix\", \"dale_chall\",\n",
    "            \"tobeverb\", \"auxverb\", \"conjunction\", \"pronoun\", \"preposition\", \"nominalization\",\n",
    "            \"pronoun_b\", \"interrogative\", \"article\", \"subordination\", \"conjunction_b\", \"preposition_b\"\n",
    "        ]\n",
    "    )\n",
    "\n",
    "    spacy_df = pd.DataFrame(spacy_features(df), columns=get_spacy_col_names())\n",
    "\n",
    "    pos_df = pd.DataFrame(\n",
    "        df[\"excerpt\"].apply(lambda p : pos_tag_features(p)).tolist(),\n",
    "        columns=[\n",
    "            \"CC\", \"CD\", \"DT\", \"EX\", \"FW\", \"IN\", \"JJ\", \"JJR\", \"JJS\", \"LS\", \"MD\", \n",
    "            \"NN\", \"NNS\", \"NNP\", \"NNPS\", \"PDT\", \"POS\", \"PRP\", \"RB\", \"RBR\", \"RBS\", \"RP\", \"TO\", \"UH\",\n",
    "            \"VB\", \"VBD\", \"VBG\", \"VBZ\", \"WDT\", \"WP\", \"WRB\"\n",
    "        ]\n",
    "    )\n",
    "    \n",
    "    other_df = pd.DataFrame(\n",
    "        df[\"excerpt\"].apply(lambda p : generate_other_features(p)).tolist(),\n",
    "        columns=[\n",
    "            \"periods\", \"commas\", \"semis\", \"exclaims\", \"questions\",\n",
    "            \"num_char\", \"num_words\", \"unique_words\", \"word_diversity\",\n",
    "            \"longest_word\", \"avg_len_word\"\n",
    "        ]\n",
    "    )\n",
    "    \n",
    "    dst_df = pd.concat([scores_df, spacy_df, pos_df, other_df], axis=1).reset_index(drop=True)\n",
    "    return dst_df"
   ]
  },
  {
   "cell_type": "code",
   "execution_count": 5,
   "id": "popular-religion",
   "metadata": {
    "execution": {
     "iopub.execute_input": "2021-07-06T18:20:00.119504Z",
     "iopub.status.busy": "2021-07-06T18:20:00.118973Z",
     "iopub.status.idle": "2021-07-06T18:20:00.153064Z",
     "shell.execute_reply": "2021-07-06T18:20:00.153480Z",
     "shell.execute_reply.started": "2021-07-06T18:17:08.512795Z"
    },
    "papermill": {
     "duration": 0.048286,
     "end_time": "2021-07-06T18:20:00.153625",
     "exception": false,
     "start_time": "2021-07-06T18:20:00.105339",
     "status": "completed"
    },
    "tags": []
   },
   "outputs": [],
   "source": [
    "train = pd.read_csv(\"../input/commonlitreadabilityprize/train.csv\", nrows=50)\n",
    "train.head()\n",
    "\n",
    "test = pd.read_csv(\"../input/commonlitreadabilityprize/test.csv\")"
   ]
  },
  {
   "cell_type": "code",
   "execution_count": 6,
   "id": "aerial-shirt",
   "metadata": {
    "execution": {
     "iopub.execute_input": "2021-07-06T18:20:00.178965Z",
     "iopub.status.busy": "2021-07-06T18:20:00.178473Z",
     "iopub.status.idle": "2021-07-06T18:20:02.270154Z",
     "shell.execute_reply": "2021-07-06T18:20:02.269571Z",
     "shell.execute_reply.started": "2021-07-06T18:17:08.558613Z"
    },
    "papermill": {
     "duration": 2.105337,
     "end_time": "2021-07-06T18:20:02.270269",
     "exception": false,
     "start_time": "2021-07-06T18:20:00.164932",
     "status": "completed"
    },
    "tags": []
   },
   "outputs": [],
   "source": [
    "%load_ext autoreload\n",
    "%autoreload 2\n",
    "\n",
    "from textfeat import create_text_feat"
   ]
  },
  {
   "cell_type": "code",
   "execution_count": 7,
   "id": "northern-attention",
   "metadata": {
    "execution": {
     "iopub.execute_input": "2021-07-06T18:20:02.297924Z",
     "iopub.status.busy": "2021-07-06T18:20:02.297283Z",
     "iopub.status.idle": "2021-07-06T18:20:16.054120Z",
     "shell.execute_reply": "2021-07-06T18:20:16.053645Z",
     "shell.execute_reply.started": "2021-07-06T18:17:10.421688Z"
    },
    "papermill": {
     "duration": 13.772798,
     "end_time": "2021-07-06T18:20:16.054233",
     "exception": false,
     "start_time": "2021-07-06T18:20:02.281435",
     "status": "completed"
    },
    "tags": []
   },
   "outputs": [],
   "source": [
    "results = create_text_feat(train)"
   ]
  },
  {
   "cell_type": "code",
   "execution_count": 8,
   "id": "permanent-anchor",
   "metadata": {
    "execution": {
     "iopub.execute_input": "2021-07-06T18:20:16.080487Z",
     "iopub.status.busy": "2021-07-06T18:20:16.079998Z",
     "iopub.status.idle": "2021-07-06T18:20:16.167039Z",
     "shell.execute_reply": "2021-07-06T18:20:16.166496Z",
     "shell.execute_reply.started": "2021-07-06T18:17:22.903953Z"
    },
    "papermill": {
     "duration": 0.102241,
     "end_time": "2021-07-06T18:20:16.167200",
     "exception": false,
     "start_time": "2021-07-06T18:20:16.064959",
     "status": "completed"
    },
    "tags": []
   },
   "outputs": [
    {
     "data": {
      "text/html": [
       "<div>\n",
       "<style scoped>\n",
       "    .dataframe tbody tr th:only-of-type {\n",
       "        vertical-align: middle;\n",
       "    }\n",
       "\n",
       "    .dataframe tbody tr th {\n",
       "        vertical-align: top;\n",
       "    }\n",
       "\n",
       "    .dataframe thead th {\n",
       "        text-align: right;\n",
       "    }\n",
       "</style>\n",
       "<table border=\"1\" class=\"dataframe\">\n",
       "  <thead>\n",
       "    <tr style=\"text-align: right;\">\n",
       "      <th></th>\n",
       "      <th>chars_per_word</th>\n",
       "      <th>syll_per_word</th>\n",
       "      <th>words_per_sent</th>\n",
       "      <th>kincaid</th>\n",
       "      <th>ari</th>\n",
       "      <th>coleman_liau</th>\n",
       "      <th>flesch</th>\n",
       "      <th>gunning_fog</th>\n",
       "      <th>lix</th>\n",
       "      <th>smog</th>\n",
       "      <th>...</th>\n",
       "      <th>commas</th>\n",
       "      <th>semis</th>\n",
       "      <th>exclaims</th>\n",
       "      <th>questions</th>\n",
       "      <th>num_char</th>\n",
       "      <th>num_words</th>\n",
       "      <th>unique_words</th>\n",
       "      <th>word_diversity</th>\n",
       "      <th>longest_word</th>\n",
       "      <th>avg_len_word</th>\n",
       "    </tr>\n",
       "  </thead>\n",
       "  <tbody>\n",
       "    <tr>\n",
       "      <th>0</th>\n",
       "      <td>4.407821</td>\n",
       "      <td>1.234637</td>\n",
       "      <td>29.833333</td>\n",
       "      <td>10.613715</td>\n",
       "      <td>14.247505</td>\n",
       "      <td>9.124776</td>\n",
       "      <td>72.103887</td>\n",
       "      <td>15.732216</td>\n",
       "      <td>47.710428</td>\n",
       "      <td>12.219544</td>\n",
       "      <td>...</td>\n",
       "      <td>14</td>\n",
       "      <td>0</td>\n",
       "      <td>0</td>\n",
       "      <td>0</td>\n",
       "      <td>992</td>\n",
       "      <td>174</td>\n",
       "      <td>112</td>\n",
       "      <td>0.643678</td>\n",
       "      <td>14</td>\n",
       "      <td>4.706897</td>\n",
       "    </tr>\n",
       "    <tr>\n",
       "      <th>1</th>\n",
       "      <td>4.145349</td>\n",
       "      <td>1.197674</td>\n",
       "      <td>28.666667</td>\n",
       "      <td>9.722558</td>\n",
       "      <td>12.427926</td>\n",
       "      <td>7.541115</td>\n",
       "      <td>76.415078</td>\n",
       "      <td>14.257364</td>\n",
       "      <td>43.782946</td>\n",
       "      <td>10.745967</td>\n",
       "      <td>...</td>\n",
       "      <td>24</td>\n",
       "      <td>0</td>\n",
       "      <td>5</td>\n",
       "      <td>2</td>\n",
       "      <td>937</td>\n",
       "      <td>164</td>\n",
       "      <td>123</td>\n",
       "      <td>0.750000</td>\n",
       "      <td>15</td>\n",
       "      <td>4.719512</td>\n",
       "    </tr>\n",
       "    <tr>\n",
       "      <th>2</th>\n",
       "      <td>4.105882</td>\n",
       "      <td>1.211765</td>\n",
       "      <td>34.000000</td>\n",
       "      <td>11.968824</td>\n",
       "      <td>14.908706</td>\n",
       "      <td>7.470958</td>\n",
       "      <td>69.809706</td>\n",
       "      <td>16.894118</td>\n",
       "      <td>49.294118</td>\n",
       "      <td>12.165151</td>\n",
       "      <td>...</td>\n",
       "      <td>17</td>\n",
       "      <td>2</td>\n",
       "      <td>1</td>\n",
       "      <td>0</td>\n",
       "      <td>908</td>\n",
       "      <td>162</td>\n",
       "      <td>124</td>\n",
       "      <td>0.765432</td>\n",
       "      <td>14</td>\n",
       "      <td>4.611111</td>\n",
       "    </tr>\n",
       "    <tr>\n",
       "      <th>3</th>\n",
       "      <td>4.365854</td>\n",
       "      <td>1.189024</td>\n",
       "      <td>82.000000</td>\n",
       "      <td>30.420488</td>\n",
       "      <td>40.133171</td>\n",
       "      <td>9.508945</td>\n",
       "      <td>23.013537</td>\n",
       "      <td>33.775610</td>\n",
       "      <td>97.243902</td>\n",
       "      <td>10.745967</td>\n",
       "      <td>...</td>\n",
       "      <td>23</td>\n",
       "      <td>2</td>\n",
       "      <td>0</td>\n",
       "      <td>0</td>\n",
       "      <td>909</td>\n",
       "      <td>163</td>\n",
       "      <td>117</td>\n",
       "      <td>0.717791</td>\n",
       "      <td>13</td>\n",
       "      <td>4.582822</td>\n",
       "    </tr>\n",
       "    <tr>\n",
       "      <th>4</th>\n",
       "      <td>3.734694</td>\n",
       "      <td>1.027211</td>\n",
       "      <td>147.000000</td>\n",
       "      <td>53.861088</td>\n",
       "      <td>69.660408</td>\n",
       "      <td>5.957366</td>\n",
       "      <td>-29.272041</td>\n",
       "      <td>59.888435</td>\n",
       "      <td>151.081633</td>\n",
       "      <td>13.954451</td>\n",
       "      <td>...</td>\n",
       "      <td>13</td>\n",
       "      <td>10</td>\n",
       "      <td>0</td>\n",
       "      <td>0</td>\n",
       "      <td>723</td>\n",
       "      <td>147</td>\n",
       "      <td>51</td>\n",
       "      <td>0.346939</td>\n",
       "      <td>12</td>\n",
       "      <td>3.925170</td>\n",
       "    </tr>\n",
       "  </tbody>\n",
       "</table>\n",
       "<p>5 rows × 366 columns</p>\n",
       "</div>"
      ],
      "text/plain": [
       "   chars_per_word  syll_per_word  words_per_sent    kincaid        ari  \\\n",
       "0        4.407821       1.234637       29.833333  10.613715  14.247505   \n",
       "1        4.145349       1.197674       28.666667   9.722558  12.427926   \n",
       "2        4.105882       1.211765       34.000000  11.968824  14.908706   \n",
       "3        4.365854       1.189024       82.000000  30.420488  40.133171   \n",
       "4        3.734694       1.027211      147.000000  53.861088  69.660408   \n",
       "\n",
       "   coleman_liau     flesch  gunning_fog         lix       smog  ...  commas  \\\n",
       "0      9.124776  72.103887    15.732216   47.710428  12.219544  ...      14   \n",
       "1      7.541115  76.415078    14.257364   43.782946  10.745967  ...      24   \n",
       "2      7.470958  69.809706    16.894118   49.294118  12.165151  ...      17   \n",
       "3      9.508945  23.013537    33.775610   97.243902  10.745967  ...      23   \n",
       "4      5.957366 -29.272041    59.888435  151.081633  13.954451  ...      13   \n",
       "\n",
       "   semis  exclaims  questions  num_char  num_words  unique_words  \\\n",
       "0      0         0          0       992        174           112   \n",
       "1      0         5          2       937        164           123   \n",
       "2      2         1          0       908        162           124   \n",
       "3      2         0          0       909        163           117   \n",
       "4     10         0          0       723        147            51   \n",
       "\n",
       "   word_diversity  longest_word  avg_len_word  \n",
       "0        0.643678            14      4.706897  \n",
       "1        0.750000            15      4.719512  \n",
       "2        0.765432            14      4.611111  \n",
       "3        0.717791            13      4.582822  \n",
       "4        0.346939            12      3.925170  \n",
       "\n",
       "[5 rows x 366 columns]"
      ]
     },
     "execution_count": 8,
     "metadata": {},
     "output_type": "execute_result"
    }
   ],
   "source": [
    "results.head()"
   ]
  },
  {
   "cell_type": "code",
   "execution_count": 9,
   "id": "permanent-housing",
   "metadata": {
    "execution": {
     "iopub.execute_input": "2021-07-06T18:20:16.205372Z",
     "iopub.status.busy": "2021-07-06T18:20:16.204510Z",
     "iopub.status.idle": "2021-07-06T18:20:16.559061Z",
     "shell.execute_reply": "2021-07-06T18:20:16.558565Z",
     "shell.execute_reply.started": "2021-07-06T18:17:22.982082Z"
    },
    "papermill": {
     "duration": 0.375522,
     "end_time": "2021-07-06T18:20:16.559198",
     "exception": false,
     "start_time": "2021-07-06T18:20:16.183676",
     "status": "completed"
    },
    "tags": []
   },
   "outputs": [],
   "source": [
    "!cp -r ../input/readabilitypackage/readability-package ./"
   ]
  },
  {
   "cell_type": "code",
   "execution_count": null,
   "id": "contemporary-intranet",
   "metadata": {
    "papermill": {
     "duration": 0.010741,
     "end_time": "2021-07-06T18:20:16.581174",
     "exception": false,
     "start_time": "2021-07-06T18:20:16.570433",
     "status": "completed"
    },
    "tags": []
   },
   "outputs": [],
   "source": []
  },
  {
   "cell_type": "code",
   "execution_count": null,
   "id": "precious-harassment",
   "metadata": {
    "papermill": {
     "duration": 0.010529,
     "end_time": "2021-07-06T18:20:16.602477",
     "exception": false,
     "start_time": "2021-07-06T18:20:16.591948",
     "status": "completed"
    },
    "tags": []
   },
   "outputs": [],
   "source": []
  },
  {
   "cell_type": "code",
   "execution_count": null,
   "id": "concrete-partner",
   "metadata": {
    "papermill": {
     "duration": 0.010499,
     "end_time": "2021-07-06T18:20:16.623790",
     "exception": false,
     "start_time": "2021-07-06T18:20:16.613291",
     "status": "completed"
    },
    "tags": []
   },
   "outputs": [],
   "source": []
  },
  {
   "cell_type": "code",
   "execution_count": null,
   "id": "welsh-quick",
   "metadata": {
    "papermill": {
     "duration": 0.010414,
     "end_time": "2021-07-06T18:20:16.645227",
     "exception": false,
     "start_time": "2021-07-06T18:20:16.634813",
     "status": "completed"
    },
    "tags": []
   },
   "outputs": [],
   "source": []
  },
  {
   "cell_type": "code",
   "execution_count": null,
   "id": "dense-paradise",
   "metadata": {
    "papermill": {
     "duration": 0.010549,
     "end_time": "2021-07-06T18:20:16.666566",
     "exception": false,
     "start_time": "2021-07-06T18:20:16.656017",
     "status": "completed"
    },
    "tags": []
   },
   "outputs": [],
   "source": []
  }
 ],
 "metadata": {
  "kernelspec": {
   "display_name": "Python 3",
   "language": "python",
   "name": "python3"
  },
  "language_info": {
   "codemirror_mode": {
    "name": "ipython",
    "version": 3
   },
   "file_extension": ".py",
   "mimetype": "text/x-python",
   "name": "python",
   "nbconvert_exporter": "python",
   "pygments_lexer": "ipython3",
   "version": "3.7.10"
  },
  "papermill": {
   "default_parameters": {},
   "duration": 29.110886,
   "end_time": "2021-07-06T18:20:18.405357",
   "environment_variables": {},
   "exception": null,
   "input_path": "__notebook__.ipynb",
   "output_path": "__notebook__.ipynb",
   "parameters": {},
   "start_time": "2021-07-06T18:19:49.294471",
   "version": "2.3.3"
  }
 },
 "nbformat": 4,
 "nbformat_minor": 5
}
