{
 "cells": [
  {
   "cell_type": "code",
   "execution_count": 3,
   "metadata": {},
   "outputs": [],
   "source": [
    "import os\n",
    "import gc\n",
    "import re\n",
    "import json\n",
    "import pickle\n",
    "import datetime\n",
    "from tqdm import tqdm\n",
    "from typing import Union\n",
    "\n",
    "import numpy as np\n",
    "import pandas as pd\n",
    "pd.options.display.max_columns = 50\n",
    "\n",
    "from typing import Union\n",
    "\n",
    "import seaborn\n",
    "import matplotlib.pyplot as plt\n",
    "plt.style.use(\"seaborn-darkgrid\")\n",
    "\n",
    "from scipy.stats import linregress\n",
    "\n",
    "from sklearn import preprocessing\n",
    "from sklearn.model_selection import TimeSeriesSplit\n",
    "from sklearn.model_selection import train_test_split\n",
    "from sklearn.metrics import mean_squared_error\n",
    "\n",
    "import lightgbm as lgb\n",
    "\n",
    "# custom funcs\n",
    "from script import WRMSSEEvaluator\n",
    "from script import cache_result\n",
    "from script import reduce_mem_usage\n",
    "from script import load_pickle, dump_pickle"
   ]
  },
  {
   "cell_type": "code",
   "execution_count": 4,
   "metadata": {},
   "outputs": [],
   "source": [
    "from v02000.v02004_baseline import *"
   ]
  },
  {
   "cell_type": "code",
   "execution_count": 8,
   "metadata": {},
   "outputs": [],
   "source": [
    "def ordered_d_cols(df_cols, is_reverse=False):\n",
    "    return sorted(df_cols, key=lambda x: int((re.search(r\"\\d+\", x)).group(0)), reverse=is_reverse)\n",
    "\n",
    "@cache_result(filename='sample_weight', use_cache=True)\n",
    "def calc_similar_weight():    \n",
    "    df = pd.read_pickle('features/melted_and_merged_train.pkl')\n",
    "    # Prepare raw data.\n",
    "    df = df[['id', 'd', 'sales', 'sell_price']]\n",
    "    df['sales_value'] = df['sales'] * df['sell_price']\n",
    "    df.drop(['sell_price'], axis=1, inplace=True)\n",
    "    # Calculation salse value ratio.\n",
    "    weight_df = df.pivot(values='sales_value', index='id', columns='d')\n",
    "    weight_df = weight_df[ordered_d_cols(weight_df.columns)]\n",
    "\n",
    "    weight_df = weight_df.shift(28, axis=1).rolling(28, axis=1).sum()\n",
    "    weight_df = weight_df / weight_df.sum(axis=0)\n",
    "\n",
    "    weight_df = weight_df.reset_index()\n",
    "    weight_df = pd.melt(weight_df, id_vars='id', var_name='d', value_name='weight').fillna(0)\n",
    "    # Calculation scale that is Variance of past values.\n",
    "    scale_df = df.pivot(values='sales', index='id', columns='d')\n",
    "    scale_df = scale_df[ordered_d_cols(scale_df.columns, is_reverse=False)]\n",
    "    \n",
    "    def est_scale(series):\n",
    "        series = series[~np.isnan(series)][np.argmax(series != 0):]\n",
    "        if series.shape[0] > 0:\n",
    "            scale = np.mean(((series[1:] - series[:-1]) ** 2))\n",
    "        else:\n",
    "            scale = 1\n",
    "        return scale\n",
    "    scale_df = scale_df.rolling(90, min_periods=28, axis=1).apply(est_scale, raw=True)\n",
    "    scale_df = scale_df.reset_index()\n",
    "    scale_df = pd.melt(scale_df, id_vars='id', var_name='d', value_name='scale').fillna(0)\n",
    "    # Merge weight_df and scale_df.\n",
    "    weight_df = weight_df.merge(scale_df, how='left', on=['id', 'd'])\n",
    "    weight_df['sample_weight'] = weight_df['weight'] / (weight_df['scale'].map(np.sqrt)+1)\n",
    "    # Min_Max_Scaling sample weight.\n",
    "    weight_df['sample_weight'] = (weight_df['sample_weight'] - weight_df['sample_weight'].min()) \\\n",
    "            / weight_df['sample_weight'].max() - weight_df['sample_weight'].min()\n",
    "    \n",
    "    return weight_df[['id', 'd', 'sample_weight']]"
   ]
  },
  {
   "cell_type": "code",
   "execution_count": 9,
   "metadata": {},
   "outputs": [
    {
     "name": "stdout",
     "output_type": "stream",
     "text": [
      "Load Cached data, features/sample_weight.pkl\n"
     ]
    }
   ],
   "source": [
    "weight_df = calc_similar_weight()"
   ]
  },
  {
   "cell_type": "code",
   "execution_count": 10,
   "metadata": {},
   "outputs": [
    {
     "data": {
      "text/html": [
       "<div>\n",
       "<style scoped>\n",
       "    .dataframe tbody tr th:only-of-type {\n",
       "        vertical-align: middle;\n",
       "    }\n",
       "\n",
       "    .dataframe tbody tr th {\n",
       "        vertical-align: top;\n",
       "    }\n",
       "\n",
       "    .dataframe thead th {\n",
       "        text-align: right;\n",
       "    }\n",
       "</style>\n",
       "<table border=\"1\" class=\"dataframe\">\n",
       "  <thead>\n",
       "    <tr style=\"text-align: right;\">\n",
       "      <th></th>\n",
       "      <th>id</th>\n",
       "      <th>d</th>\n",
       "      <th>sample_weight</th>\n",
       "    </tr>\n",
       "  </thead>\n",
       "  <tbody>\n",
       "    <tr>\n",
       "      <th>0</th>\n",
       "      <td>FOODS_1_001_CA_1_validation</td>\n",
       "      <td>d_1</td>\n",
       "      <td>0.0</td>\n",
       "    </tr>\n",
       "    <tr>\n",
       "      <th>1</th>\n",
       "      <td>FOODS_1_001_CA_2_validation</td>\n",
       "      <td>d_1</td>\n",
       "      <td>0.0</td>\n",
       "    </tr>\n",
       "    <tr>\n",
       "      <th>2</th>\n",
       "      <td>FOODS_1_001_CA_3_validation</td>\n",
       "      <td>d_1</td>\n",
       "      <td>0.0</td>\n",
       "    </tr>\n",
       "    <tr>\n",
       "      <th>3</th>\n",
       "      <td>FOODS_1_001_CA_4_validation</td>\n",
       "      <td>d_1</td>\n",
       "      <td>0.0</td>\n",
       "    </tr>\n",
       "    <tr>\n",
       "      <th>4</th>\n",
       "      <td>FOODS_1_001_TX_1_validation</td>\n",
       "      <td>d_1</td>\n",
       "      <td>0.0</td>\n",
       "    </tr>\n",
       "  </tbody>\n",
       "</table>\n",
       "</div>"
      ],
      "text/plain": [
       "                            id    d  sample_weight\n",
       "0  FOODS_1_001_CA_1_validation  d_1            0.0\n",
       "1  FOODS_1_001_CA_2_validation  d_1            0.0\n",
       "2  FOODS_1_001_CA_3_validation  d_1            0.0\n",
       "3  FOODS_1_001_CA_4_validation  d_1            0.0\n",
       "4  FOODS_1_001_TX_1_validation  d_1            0.0"
      ]
     },
     "execution_count": 10,
     "metadata": {},
     "output_type": "execute_result"
    }
   ],
   "source": [
    "weight_df.head()"
   ]
  },
  {
   "cell_type": "code",
   "execution_count": null,
   "metadata": {},
   "outputs": [],
   "source": []
  },
  {
   "cell_type": "code",
   "execution_count": null,
   "metadata": {},
   "outputs": [],
   "source": []
  },
  {
   "cell_type": "code",
   "execution_count": null,
   "metadata": {},
   "outputs": [],
   "source": []
  },
  {
   "cell_type": "code",
   "execution_count": null,
   "metadata": {},
   "outputs": [],
   "source": []
  },
  {
   "cell_type": "code",
   "execution_count": null,
   "metadata": {},
   "outputs": [],
   "source": []
  }
 ],
 "metadata": {
  "kernelspec": {
   "display_name": "Python 3",
   "language": "python",
   "name": "python3"
  },
  "language_info": {
   "codemirror_mode": {
    "name": "ipython",
    "version": 3
   },
   "file_extension": ".py",
   "mimetype": "text/x-python",
   "name": "python",
   "nbconvert_exporter": "python",
   "pygments_lexer": "ipython3",
   "version": "3.8.2"
  }
 },
 "nbformat": 4,
 "nbformat_minor": 4
}
